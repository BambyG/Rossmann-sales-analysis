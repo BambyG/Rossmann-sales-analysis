{
 "cells": [
  {
   "cell_type": "code",
   "execution_count": 15,
   "metadata": {},
   "outputs": [
    {
     "data": {
      "text/html": [
       "<script>requirejs.config({paths: { 'plotly': ['https://cdn.plot.ly/plotly-latest.min']},});if(!window.Plotly) {{require(['plotly'],function(plotly) {window.Plotly=plotly;});}}</script>"
      ],
      "text/vnd.plotly.v1+html": [
       "<script>requirejs.config({paths: { 'plotly': ['https://cdn.plot.ly/plotly-latest.min']},});if(!window.Plotly) {{require(['plotly'],function(plotly) {window.Plotly=plotly;});}}</script>"
      ]
     },
     "metadata": {},
     "output_type": "display_data"
    },
    {
     "name": "stderr",
     "output_type": "stream",
     "text": [
      "IOPub data rate exceeded.\n",
      "The notebook server will temporarily stop sending output\n",
      "to the client in order to avoid crashing it.\n",
      "To change this limit, set the config variable\n",
      "`--NotebookApp.iopub_data_rate_limit`.\n"
     ]
    }
   ],
   "source": [
    "import numpy as np\n",
    "import pandas as pd\n",
    "import matplotlib.pyplot as plt\n",
    "import seaborn as sns\n",
    "import missingno as msno\n",
    "import calendar\n",
    "from scipy import stats\n",
    "%matplotlib inline\n",
    "\n",
    "from plotly import __version__\n",
    "from plotly.offline import download_plotlyjs, init_notebook_mode, plot, iplot\n",
    "from plotly import tools\n",
    "import plotly.graph_objs as go \n",
    "import cufflinks as cf\n",
    "init_notebook_mode(connected=True)\n",
    "cf.go_offline()\n",
    "\n"
   ]
  },
  {
   "cell_type": "code",
   "execution_count": null,
   "metadata": {
    "collapsed": true
   },
   "outputs": [],
   "source": []
  },
  {
   "cell_type": "code",
   "execution_count": null,
   "metadata": {
    "collapsed": true
   },
   "outputs": [],
   "source": []
  },
  {
   "cell_type": "code",
   "execution_count": 56,
   "metadata": {},
   "outputs": [
    {
     "name": "stderr",
     "output_type": "stream",
     "text": [
      "/usr/local/lib/python3.6/site-packages/IPython/core/interactiveshell.py:2698: DtypeWarning:\n",
      "\n",
      "Columns (7) have mixed types. Specify dtype option on import or set low_memory=False.\n",
      "\n"
     ]
    }
   ],
   "source": [
    "store = pd.read_csv('store.csv')\n",
    "train = pd.read_csv('train.csv')"
   ]
  },
  {
   "cell_type": "code",
   "execution_count": 57,
   "metadata": {},
   "outputs": [
    {
     "data": {
      "text/plain": [
       "Promo2    2\n",
       "dtype: int64"
      ]
     },
     "execution_count": 57,
     "metadata": {},
     "output_type": "execute_result"
    }
   ],
   "source": [
    "store[['Promo2']].nunique()"
   ]
  },
  {
   "cell_type": "code",
   "execution_count": 17,
   "metadata": {},
   "outputs": [
    {
     "data": {
      "text/html": [
       "<div>\n",
       "<style>\n",
       "    .dataframe thead tr:only-child th {\n",
       "        text-align: right;\n",
       "    }\n",
       "\n",
       "    .dataframe thead th {\n",
       "        text-align: left;\n",
       "    }\n",
       "\n",
       "    .dataframe tbody tr th {\n",
       "        vertical-align: top;\n",
       "    }\n",
       "</style>\n",
       "<table border=\"1\" class=\"dataframe\">\n",
       "  <thead>\n",
       "    <tr style=\"text-align: right;\">\n",
       "      <th></th>\n",
       "      <th>Store</th>\n",
       "      <th>StoreType</th>\n",
       "      <th>Assortment</th>\n",
       "      <th>CompetitionDistance</th>\n",
       "      <th>CompetitionOpenSinceMonth</th>\n",
       "      <th>CompetitionOpenSinceYear</th>\n",
       "      <th>Promo2</th>\n",
       "      <th>Promo2SinceWeek</th>\n",
       "      <th>Promo2SinceYear</th>\n",
       "      <th>PromoInterval</th>\n",
       "    </tr>\n",
       "  </thead>\n",
       "  <tbody>\n",
       "    <tr>\n",
       "      <th>0</th>\n",
       "      <td>1</td>\n",
       "      <td>c</td>\n",
       "      <td>a</td>\n",
       "      <td>1270.0</td>\n",
       "      <td>9.0</td>\n",
       "      <td>2008.0</td>\n",
       "      <td>0</td>\n",
       "      <td>NaN</td>\n",
       "      <td>NaN</td>\n",
       "      <td>NaN</td>\n",
       "    </tr>\n",
       "    <tr>\n",
       "      <th>1</th>\n",
       "      <td>2</td>\n",
       "      <td>a</td>\n",
       "      <td>a</td>\n",
       "      <td>570.0</td>\n",
       "      <td>11.0</td>\n",
       "      <td>2007.0</td>\n",
       "      <td>1</td>\n",
       "      <td>13.0</td>\n",
       "      <td>2010.0</td>\n",
       "      <td>Jan,Apr,Jul,Oct</td>\n",
       "    </tr>\n",
       "    <tr>\n",
       "      <th>2</th>\n",
       "      <td>3</td>\n",
       "      <td>a</td>\n",
       "      <td>a</td>\n",
       "      <td>14130.0</td>\n",
       "      <td>12.0</td>\n",
       "      <td>2006.0</td>\n",
       "      <td>1</td>\n",
       "      <td>14.0</td>\n",
       "      <td>2011.0</td>\n",
       "      <td>Jan,Apr,Jul,Oct</td>\n",
       "    </tr>\n",
       "    <tr>\n",
       "      <th>3</th>\n",
       "      <td>4</td>\n",
       "      <td>c</td>\n",
       "      <td>c</td>\n",
       "      <td>620.0</td>\n",
       "      <td>9.0</td>\n",
       "      <td>2009.0</td>\n",
       "      <td>0</td>\n",
       "      <td>NaN</td>\n",
       "      <td>NaN</td>\n",
       "      <td>NaN</td>\n",
       "    </tr>\n",
       "    <tr>\n",
       "      <th>4</th>\n",
       "      <td>5</td>\n",
       "      <td>a</td>\n",
       "      <td>a</td>\n",
       "      <td>29910.0</td>\n",
       "      <td>4.0</td>\n",
       "      <td>2015.0</td>\n",
       "      <td>0</td>\n",
       "      <td>NaN</td>\n",
       "      <td>NaN</td>\n",
       "      <td>NaN</td>\n",
       "    </tr>\n",
       "  </tbody>\n",
       "</table>\n",
       "</div>"
      ],
      "text/plain": [
       "   Store StoreType Assortment  CompetitionDistance  CompetitionOpenSinceMonth  \\\n",
       "0      1         c          a               1270.0                        9.0   \n",
       "1      2         a          a                570.0                       11.0   \n",
       "2      3         a          a              14130.0                       12.0   \n",
       "3      4         c          c                620.0                        9.0   \n",
       "4      5         a          a              29910.0                        4.0   \n",
       "\n",
       "   CompetitionOpenSinceYear  Promo2  Promo2SinceWeek  Promo2SinceYear  \\\n",
       "0                    2008.0       0              NaN              NaN   \n",
       "1                    2007.0       1             13.0           2010.0   \n",
       "2                    2006.0       1             14.0           2011.0   \n",
       "3                    2009.0       0              NaN              NaN   \n",
       "4                    2015.0       0              NaN              NaN   \n",
       "\n",
       "     PromoInterval  \n",
       "0              NaN  \n",
       "1  Jan,Apr,Jul,Oct  \n",
       "2  Jan,Apr,Jul,Oct  \n",
       "3              NaN  \n",
       "4              NaN  "
      ]
     },
     "execution_count": 17,
     "metadata": {},
     "output_type": "execute_result"
    }
   ],
   "source": [
    "store.head()"
   ]
  },
  {
   "cell_type": "code",
   "execution_count": 18,
   "metadata": {},
   "outputs": [
    {
     "data": {
      "text/html": [
       "<div>\n",
       "<style>\n",
       "    .dataframe thead tr:only-child th {\n",
       "        text-align: right;\n",
       "    }\n",
       "\n",
       "    .dataframe thead th {\n",
       "        text-align: left;\n",
       "    }\n",
       "\n",
       "    .dataframe tbody tr th {\n",
       "        vertical-align: top;\n",
       "    }\n",
       "</style>\n",
       "<table border=\"1\" class=\"dataframe\">\n",
       "  <thead>\n",
       "    <tr style=\"text-align: right;\">\n",
       "      <th></th>\n",
       "      <th>Store</th>\n",
       "      <th>DayOfWeek</th>\n",
       "      <th>Date</th>\n",
       "      <th>Sales</th>\n",
       "      <th>Customers</th>\n",
       "      <th>Open</th>\n",
       "      <th>Promo</th>\n",
       "      <th>StateHoliday</th>\n",
       "      <th>SchoolHoliday</th>\n",
       "    </tr>\n",
       "  </thead>\n",
       "  <tbody>\n",
       "    <tr>\n",
       "      <th>0</th>\n",
       "      <td>1</td>\n",
       "      <td>5</td>\n",
       "      <td>2015-07-31</td>\n",
       "      <td>5263</td>\n",
       "      <td>555</td>\n",
       "      <td>1</td>\n",
       "      <td>1</td>\n",
       "      <td>0</td>\n",
       "      <td>1</td>\n",
       "    </tr>\n",
       "    <tr>\n",
       "      <th>1</th>\n",
       "      <td>2</td>\n",
       "      <td>5</td>\n",
       "      <td>2015-07-31</td>\n",
       "      <td>6064</td>\n",
       "      <td>625</td>\n",
       "      <td>1</td>\n",
       "      <td>1</td>\n",
       "      <td>0</td>\n",
       "      <td>1</td>\n",
       "    </tr>\n",
       "    <tr>\n",
       "      <th>2</th>\n",
       "      <td>3</td>\n",
       "      <td>5</td>\n",
       "      <td>2015-07-31</td>\n",
       "      <td>8314</td>\n",
       "      <td>821</td>\n",
       "      <td>1</td>\n",
       "      <td>1</td>\n",
       "      <td>0</td>\n",
       "      <td>1</td>\n",
       "    </tr>\n",
       "    <tr>\n",
       "      <th>3</th>\n",
       "      <td>4</td>\n",
       "      <td>5</td>\n",
       "      <td>2015-07-31</td>\n",
       "      <td>13995</td>\n",
       "      <td>1498</td>\n",
       "      <td>1</td>\n",
       "      <td>1</td>\n",
       "      <td>0</td>\n",
       "      <td>1</td>\n",
       "    </tr>\n",
       "    <tr>\n",
       "      <th>4</th>\n",
       "      <td>5</td>\n",
       "      <td>5</td>\n",
       "      <td>2015-07-31</td>\n",
       "      <td>4822</td>\n",
       "      <td>559</td>\n",
       "      <td>1</td>\n",
       "      <td>1</td>\n",
       "      <td>0</td>\n",
       "      <td>1</td>\n",
       "    </tr>\n",
       "  </tbody>\n",
       "</table>\n",
       "</div>"
      ],
      "text/plain": [
       "   Store  DayOfWeek       Date  Sales  Customers  Open  Promo StateHoliday  \\\n",
       "0      1          5 2015-07-31   5263        555     1      1            0   \n",
       "1      2          5 2015-07-31   6064        625     1      1            0   \n",
       "2      3          5 2015-07-31   8314        821     1      1            0   \n",
       "3      4          5 2015-07-31  13995       1498     1      1            0   \n",
       "4      5          5 2015-07-31   4822        559     1      1            0   \n",
       "\n",
       "   SchoolHoliday  \n",
       "0              1  \n",
       "1              1  \n",
       "2              1  \n",
       "3              1  \n",
       "4              1  "
      ]
     },
     "execution_count": 18,
     "metadata": {},
     "output_type": "execute_result"
    }
   ],
   "source": [
    "train['Date'] = pd.to_datetime(train['Date'])\n",
    "train.head()"
   ]
  },
  {
   "cell_type": "code",
   "execution_count": 19,
   "metadata": {},
   "outputs": [
    {
     "name": "stdout",
     "output_type": "stream",
     "text": [
      "<class 'pandas.core.frame.DataFrame'>\n",
      "RangeIndex: 1115 entries, 0 to 1114\n",
      "Data columns (total 10 columns):\n",
      "Store                        1115 non-null int64\n",
      "StoreType                    1115 non-null object\n",
      "Assortment                   1115 non-null object\n",
      "CompetitionDistance          1112 non-null float64\n",
      "CompetitionOpenSinceMonth    761 non-null float64\n",
      "CompetitionOpenSinceYear     761 non-null float64\n",
      "Promo2                       1115 non-null int64\n",
      "Promo2SinceWeek              571 non-null float64\n",
      "Promo2SinceYear              571 non-null float64\n",
      "PromoInterval                571 non-null object\n",
      "dtypes: float64(5), int64(2), object(3)\n",
      "memory usage: 87.2+ KB\n"
     ]
    }
   ],
   "source": [
    "store.info()"
   ]
  },
  {
   "cell_type": "code",
   "execution_count": 20,
   "metadata": {},
   "outputs": [
    {
     "name": "stdout",
     "output_type": "stream",
     "text": [
      "<class 'pandas.core.frame.DataFrame'>\n",
      "RangeIndex: 1115 entries, 0 to 1114\n",
      "Data columns (total 10 columns):\n",
      "Store                        1115 non-null int64\n",
      "StoreType                    1115 non-null object\n",
      "Assortment                   1115 non-null object\n",
      "CompetitionDistance          1112 non-null float64\n",
      "CompetitionOpenSinceMonth    761 non-null float64\n",
      "CompetitionOpenSinceYear     761 non-null float64\n",
      "Promo2                       1115 non-null int64\n",
      "Promo2SinceWeek              571 non-null float64\n",
      "Promo2SinceYear              571 non-null float64\n",
      "PromoInterval                571 non-null object\n",
      "dtypes: float64(5), int64(2), object(3)\n",
      "memory usage: 87.2+ KB\n"
     ]
    }
   ],
   "source": [
    "store.drop_duplicates()\n",
    "store.info()"
   ]
  },
  {
   "cell_type": "code",
   "execution_count": 7,
   "metadata": {},
   "outputs": [
    {
     "data": {
      "text/html": [
       "<div>\n",
       "<style>\n",
       "    .dataframe thead tr:only-child th {\n",
       "        text-align: right;\n",
       "    }\n",
       "\n",
       "    .dataframe thead th {\n",
       "        text-align: left;\n",
       "    }\n",
       "\n",
       "    .dataframe tbody tr th {\n",
       "        vertical-align: top;\n",
       "    }\n",
       "</style>\n",
       "<table border=\"1\" class=\"dataframe\">\n",
       "  <thead>\n",
       "    <tr style=\"text-align: right;\">\n",
       "      <th></th>\n",
       "      <th>Store</th>\n",
       "      <th>DayOfWeek</th>\n",
       "      <th>Sales</th>\n",
       "      <th>Customers</th>\n",
       "      <th>Open</th>\n",
       "      <th>Promo</th>\n",
       "      <th>SchoolHoliday</th>\n",
       "    </tr>\n",
       "  </thead>\n",
       "  <tbody>\n",
       "    <tr>\n",
       "      <th>count</th>\n",
       "      <td>1.017209e+06</td>\n",
       "      <td>1.017209e+06</td>\n",
       "      <td>1.017209e+06</td>\n",
       "      <td>1.017209e+06</td>\n",
       "      <td>1.017209e+06</td>\n",
       "      <td>1.017209e+06</td>\n",
       "      <td>1.017209e+06</td>\n",
       "    </tr>\n",
       "    <tr>\n",
       "      <th>mean</th>\n",
       "      <td>5.584297e+02</td>\n",
       "      <td>3.998341e+00</td>\n",
       "      <td>5.773819e+03</td>\n",
       "      <td>6.331459e+02</td>\n",
       "      <td>8.301067e-01</td>\n",
       "      <td>3.815145e-01</td>\n",
       "      <td>1.786467e-01</td>\n",
       "    </tr>\n",
       "    <tr>\n",
       "      <th>std</th>\n",
       "      <td>3.219087e+02</td>\n",
       "      <td>1.997391e+00</td>\n",
       "      <td>3.849926e+03</td>\n",
       "      <td>4.644117e+02</td>\n",
       "      <td>3.755392e-01</td>\n",
       "      <td>4.857586e-01</td>\n",
       "      <td>3.830564e-01</td>\n",
       "    </tr>\n",
       "    <tr>\n",
       "      <th>min</th>\n",
       "      <td>1.000000e+00</td>\n",
       "      <td>1.000000e+00</td>\n",
       "      <td>0.000000e+00</td>\n",
       "      <td>0.000000e+00</td>\n",
       "      <td>0.000000e+00</td>\n",
       "      <td>0.000000e+00</td>\n",
       "      <td>0.000000e+00</td>\n",
       "    </tr>\n",
       "    <tr>\n",
       "      <th>25%</th>\n",
       "      <td>2.800000e+02</td>\n",
       "      <td>2.000000e+00</td>\n",
       "      <td>3.727000e+03</td>\n",
       "      <td>4.050000e+02</td>\n",
       "      <td>1.000000e+00</td>\n",
       "      <td>0.000000e+00</td>\n",
       "      <td>0.000000e+00</td>\n",
       "    </tr>\n",
       "    <tr>\n",
       "      <th>50%</th>\n",
       "      <td>5.580000e+02</td>\n",
       "      <td>4.000000e+00</td>\n",
       "      <td>5.744000e+03</td>\n",
       "      <td>6.090000e+02</td>\n",
       "      <td>1.000000e+00</td>\n",
       "      <td>0.000000e+00</td>\n",
       "      <td>0.000000e+00</td>\n",
       "    </tr>\n",
       "    <tr>\n",
       "      <th>75%</th>\n",
       "      <td>8.380000e+02</td>\n",
       "      <td>6.000000e+00</td>\n",
       "      <td>7.856000e+03</td>\n",
       "      <td>8.370000e+02</td>\n",
       "      <td>1.000000e+00</td>\n",
       "      <td>1.000000e+00</td>\n",
       "      <td>0.000000e+00</td>\n",
       "    </tr>\n",
       "    <tr>\n",
       "      <th>max</th>\n",
       "      <td>1.115000e+03</td>\n",
       "      <td>7.000000e+00</td>\n",
       "      <td>4.155100e+04</td>\n",
       "      <td>7.388000e+03</td>\n",
       "      <td>1.000000e+00</td>\n",
       "      <td>1.000000e+00</td>\n",
       "      <td>1.000000e+00</td>\n",
       "    </tr>\n",
       "  </tbody>\n",
       "</table>\n",
       "</div>"
      ],
      "text/plain": [
       "              Store     DayOfWeek         Sales     Customers          Open  \\\n",
       "count  1.017209e+06  1.017209e+06  1.017209e+06  1.017209e+06  1.017209e+06   \n",
       "mean   5.584297e+02  3.998341e+00  5.773819e+03  6.331459e+02  8.301067e-01   \n",
       "std    3.219087e+02  1.997391e+00  3.849926e+03  4.644117e+02  3.755392e-01   \n",
       "min    1.000000e+00  1.000000e+00  0.000000e+00  0.000000e+00  0.000000e+00   \n",
       "25%    2.800000e+02  2.000000e+00  3.727000e+03  4.050000e+02  1.000000e+00   \n",
       "50%    5.580000e+02  4.000000e+00  5.744000e+03  6.090000e+02  1.000000e+00   \n",
       "75%    8.380000e+02  6.000000e+00  7.856000e+03  8.370000e+02  1.000000e+00   \n",
       "max    1.115000e+03  7.000000e+00  4.155100e+04  7.388000e+03  1.000000e+00   \n",
       "\n",
       "              Promo  SchoolHoliday  \n",
       "count  1.017209e+06   1.017209e+06  \n",
       "mean   3.815145e-01   1.786467e-01  \n",
       "std    4.857586e-01   3.830564e-01  \n",
       "min    0.000000e+00   0.000000e+00  \n",
       "25%    0.000000e+00   0.000000e+00  \n",
       "50%    0.000000e+00   0.000000e+00  \n",
       "75%    1.000000e+00   0.000000e+00  \n",
       "max    1.000000e+00   1.000000e+00  "
      ]
     },
     "execution_count": 7,
     "metadata": {},
     "output_type": "execute_result"
    }
   ],
   "source": [
    "train.describe()"
   ]
  },
  {
   "cell_type": "code",
   "execution_count": 8,
   "metadata": {},
   "outputs": [
    {
     "data": {
      "text/html": [
       "<div>\n",
       "<style>\n",
       "    .dataframe thead tr:only-child th {\n",
       "        text-align: right;\n",
       "    }\n",
       "\n",
       "    .dataframe thead th {\n",
       "        text-align: left;\n",
       "    }\n",
       "\n",
       "    .dataframe tbody tr th {\n",
       "        vertical-align: top;\n",
       "    }\n",
       "</style>\n",
       "<table border=\"1\" class=\"dataframe\">\n",
       "  <thead>\n",
       "    <tr style=\"text-align: right;\">\n",
       "      <th></th>\n",
       "      <th>Store</th>\n",
       "      <th>CompetitionDistance</th>\n",
       "      <th>CompetitionOpenSinceMonth</th>\n",
       "      <th>CompetitionOpenSinceYear</th>\n",
       "      <th>Promo2</th>\n",
       "      <th>Promo2SinceWeek</th>\n",
       "      <th>Promo2SinceYear</th>\n",
       "    </tr>\n",
       "  </thead>\n",
       "  <tbody>\n",
       "    <tr>\n",
       "      <th>count</th>\n",
       "      <td>1115.00000</td>\n",
       "      <td>1112.000000</td>\n",
       "      <td>761.000000</td>\n",
       "      <td>761.000000</td>\n",
       "      <td>1115.000000</td>\n",
       "      <td>571.000000</td>\n",
       "      <td>571.000000</td>\n",
       "    </tr>\n",
       "    <tr>\n",
       "      <th>mean</th>\n",
       "      <td>558.00000</td>\n",
       "      <td>5404.901079</td>\n",
       "      <td>7.224704</td>\n",
       "      <td>2008.668857</td>\n",
       "      <td>0.512108</td>\n",
       "      <td>23.595447</td>\n",
       "      <td>2011.763573</td>\n",
       "    </tr>\n",
       "    <tr>\n",
       "      <th>std</th>\n",
       "      <td>322.01708</td>\n",
       "      <td>7663.174720</td>\n",
       "      <td>3.212348</td>\n",
       "      <td>6.195983</td>\n",
       "      <td>0.500078</td>\n",
       "      <td>14.141984</td>\n",
       "      <td>1.674935</td>\n",
       "    </tr>\n",
       "    <tr>\n",
       "      <th>min</th>\n",
       "      <td>1.00000</td>\n",
       "      <td>20.000000</td>\n",
       "      <td>1.000000</td>\n",
       "      <td>1900.000000</td>\n",
       "      <td>0.000000</td>\n",
       "      <td>1.000000</td>\n",
       "      <td>2009.000000</td>\n",
       "    </tr>\n",
       "    <tr>\n",
       "      <th>25%</th>\n",
       "      <td>279.50000</td>\n",
       "      <td>717.500000</td>\n",
       "      <td>4.000000</td>\n",
       "      <td>2006.000000</td>\n",
       "      <td>0.000000</td>\n",
       "      <td>13.000000</td>\n",
       "      <td>2011.000000</td>\n",
       "    </tr>\n",
       "    <tr>\n",
       "      <th>50%</th>\n",
       "      <td>558.00000</td>\n",
       "      <td>2325.000000</td>\n",
       "      <td>8.000000</td>\n",
       "      <td>2010.000000</td>\n",
       "      <td>1.000000</td>\n",
       "      <td>22.000000</td>\n",
       "      <td>2012.000000</td>\n",
       "    </tr>\n",
       "    <tr>\n",
       "      <th>75%</th>\n",
       "      <td>836.50000</td>\n",
       "      <td>6882.500000</td>\n",
       "      <td>10.000000</td>\n",
       "      <td>2013.000000</td>\n",
       "      <td>1.000000</td>\n",
       "      <td>37.000000</td>\n",
       "      <td>2013.000000</td>\n",
       "    </tr>\n",
       "    <tr>\n",
       "      <th>max</th>\n",
       "      <td>1115.00000</td>\n",
       "      <td>75860.000000</td>\n",
       "      <td>12.000000</td>\n",
       "      <td>2015.000000</td>\n",
       "      <td>1.000000</td>\n",
       "      <td>50.000000</td>\n",
       "      <td>2015.000000</td>\n",
       "    </tr>\n",
       "  </tbody>\n",
       "</table>\n",
       "</div>"
      ],
      "text/plain": [
       "            Store  CompetitionDistance  CompetitionOpenSinceMonth  \\\n",
       "count  1115.00000          1112.000000                 761.000000   \n",
       "mean    558.00000          5404.901079                   7.224704   \n",
       "std     322.01708          7663.174720                   3.212348   \n",
       "min       1.00000            20.000000                   1.000000   \n",
       "25%     279.50000           717.500000                   4.000000   \n",
       "50%     558.00000          2325.000000                   8.000000   \n",
       "75%     836.50000          6882.500000                  10.000000   \n",
       "max    1115.00000         75860.000000                  12.000000   \n",
       "\n",
       "       CompetitionOpenSinceYear       Promo2  Promo2SinceWeek  Promo2SinceYear  \n",
       "count                761.000000  1115.000000       571.000000       571.000000  \n",
       "mean                2008.668857     0.512108        23.595447      2011.763573  \n",
       "std                    6.195983     0.500078        14.141984         1.674935  \n",
       "min                 1900.000000     0.000000         1.000000      2009.000000  \n",
       "25%                 2006.000000     0.000000        13.000000      2011.000000  \n",
       "50%                 2010.000000     1.000000        22.000000      2012.000000  \n",
       "75%                 2013.000000     1.000000        37.000000      2013.000000  \n",
       "max                 2015.000000     1.000000        50.000000      2015.000000  "
      ]
     },
     "execution_count": 8,
     "metadata": {},
     "output_type": "execute_result"
    }
   ],
   "source": [
    "store.describe()"
   ]
  },
  {
   "cell_type": "code",
   "execution_count": 9,
   "metadata": {},
   "outputs": [
    {
     "data": {
      "text/plain": [
       "Store                          0\n",
       "StoreType                      0\n",
       "Assortment                     0\n",
       "CompetitionDistance            3\n",
       "CompetitionOpenSinceMonth    354\n",
       "CompetitionOpenSinceYear     354\n",
       "Promo2                         0\n",
       "Promo2SinceWeek              544\n",
       "Promo2SinceYear              544\n",
       "PromoInterval                544\n",
       "dtype: int64"
      ]
     },
     "execution_count": 9,
     "metadata": {},
     "output_type": "execute_result"
    }
   ],
   "source": [
    "store.isnull().sum()"
   ]
  },
  {
   "cell_type": "code",
   "execution_count": 10,
   "metadata": {},
   "outputs": [
    {
     "data": {
      "image/png": "[encoded data removed]",
      "text/plain": [
       "<matplotlib.figure.Figure at 0x111cd4ba8>"
      ]
     },
     "metadata": {},
     "output_type": "display_data"
    },
    {
     "data": {
      "image/png": "[encoded data removed]",
      "text/plain": [
       "<matplotlib.figure.Figure at 0x10b3f7358>"
      ]
     },
     "metadata": {},
     "output_type": "display_data"
    }
   ],
   "source": [
    "import missingno as msno\n",
    "msno.matrix(store)\n",
    "msno.dendrogram(store)"
   ]
  },
  {
   "cell_type": "code",
   "execution_count": null,
   "metadata": {
    "collapsed": true
   },
   "outputs": [],
   "source": [
    "\n"
   ]
  },
  {
   "cell_type": "code",
   "execution_count": 21,
   "metadata": {},
   "outputs": [
    {
     "data": {
      "text/plain": [
       "Store                        0\n",
       "StoreType                    0\n",
       "Assortment                   0\n",
       "CompetitionDistance          0\n",
       "CompetitionOpenSinceMonth    0\n",
       "CompetitionOpenSinceYear     0\n",
       "Promo2                       0\n",
       "Promo2SinceWeek              0\n",
       "Promo2SinceYear              0\n",
       "PromoInterval                0\n",
       "dtype: int64"
      ]
     },
     "execution_count": 21,
     "metadata": {},
     "output_type": "execute_result"
    }
   ],
   "source": [
    "#clean up missing values for the store dataframe\n",
    "\n",
    "#use the interpolate method of floats columns \n",
    "#store[store.columns[3:6]] = store[store.columns[3:6]].interpolate()\n",
    "#store[store.columns[7:9]] = store[store.columns[7:9]].interpolate()\n",
    "\n",
    "#ue the mean function for the remaining empty rows \n",
    "\n",
    "#store.fillna(store.mean())\n",
    "\n",
    "store = store.dropna(axis=0)\n",
    "\n",
    "store.isnull().sum()\n"
   ]
  },
  {
   "cell_type": "code",
   "execution_count": 12,
   "metadata": {
    "collapsed": true
   },
   "outputs": [],
   "source": [
    "#clean up data for the train dataframe"
   ]
  },
  {
   "cell_type": "code",
   "execution_count": 13,
   "metadata": {},
   "outputs": [
    {
     "data": {
      "text/plain": [
       "Store            0\n",
       "DayOfWeek        0\n",
       "Date             0\n",
       "Sales            0\n",
       "Customers        0\n",
       "Open             0\n",
       "Promo            0\n",
       "StateHoliday     0\n",
       "SchoolHoliday    0\n",
       "dtype: int64"
      ]
     },
     "execution_count": 13,
     "metadata": {},
     "output_type": "execute_result"
    }
   ],
   "source": [
    "train.isnull().sum()\n",
    "\n",
    "#awsesome there is no empty values!!!! "
   ]
  },
  {
   "cell_type": "code",
   "execution_count": 14,
   "metadata": {},
   "outputs": [
    {
     "ename": "KeyboardInterrupt",
     "evalue": "",
     "output_type": "error",
     "traceback": [
      "\u001b[0;31m---------------------------------------------------------------------------\u001b[0m",
      "\u001b[0;31mTypeError\u001b[0m                                 Traceback (most recent call last)",
      "\u001b[0;32m/usr/local/lib/python3.6/site-packages/IPython/core/interactiveshell.py\u001b[0m in \u001b[0;36mrun_code\u001b[0;34m(self, code_obj, result)\u001b[0m\n\u001b[1;32m   2861\u001b[0m                 \u001b[0;31m#rprint('Running code', repr(code_obj)) # dbg\u001b[0m\u001b[0;34m\u001b[0m\u001b[0;34m\u001b[0m\u001b[0m\n\u001b[0;32m-> 2862\u001b[0;31m                 \u001b[0mexec\u001b[0m\u001b[0;34m(\u001b[0m\u001b[0mcode_obj\u001b[0m\u001b[0;34m,\u001b[0m \u001b[0mself\u001b[0m\u001b[0;34m.\u001b[0m\u001b[0muser_global_ns\u001b[0m\u001b[0;34m,\u001b[0m \u001b[0mself\u001b[0m\u001b[0;34m.\u001b[0m\u001b[0muser_ns\u001b[0m\u001b[0;34m)\u001b[0m\u001b[0;34m\u001b[0m\u001b[0m\n\u001b[0m\u001b[1;32m   2863\u001b[0m             \u001b[0;32mfinally\u001b[0m\u001b[0;34m:\u001b[0m\u001b[0;34m\u001b[0m\u001b[0m\n",
      "\u001b[0;32m<ipython-input-14-1bcd32717497>\u001b[0m in \u001b[0;36m<module>\u001b[0;34m()\u001b[0m\n\u001b[1;32m      1\u001b[0m \u001b[0;34m\u001b[0m\u001b[0m\n\u001b[0;32m----> 2\u001b[0;31m \u001b[0mtrain\u001b[0m\u001b[0;34m[\u001b[0m\u001b[0;34m(\u001b[0m\u001b[0mnp\u001b[0m\u001b[0;34m.\u001b[0m\u001b[0mabs\u001b[0m\u001b[0;34m(\u001b[0m\u001b[0mstats\u001b[0m\u001b[0;34m.\u001b[0m\u001b[0mzscore\u001b[0m\u001b[0;34m(\u001b[0m\u001b[0mtrain\u001b[0m\u001b[0;34m)\u001b[0m\u001b[0;34m)\u001b[0m \u001b[0;34m<\u001b[0m \u001b[0;36m3\u001b[0m\u001b[0;34m)\u001b[0m\u001b[0;34m.\u001b[0m\u001b[0mall\u001b[0m\u001b[0;34m(\u001b[0m\u001b[0maxis\u001b[0m\u001b[0;34m=\u001b[0m\u001b[0;36m1\u001b[0m\u001b[0;34m)\u001b[0m\u001b[0;34m]\u001b[0m\u001b[0;34m\u001b[0m\u001b[0m\n\u001b[0m\u001b[1;32m      3\u001b[0m \u001b[0mtrain\u001b[0m\u001b[0;34m.\u001b[0m\u001b[0minfo\u001b[0m\u001b[0;34m(\u001b[0m\u001b[0;34m)\u001b[0m\u001b[0;34m\u001b[0m\u001b[0m\n",
      "\u001b[0;32m/usr/local/lib/python3.6/site-packages/scipy/stats/stats.py\u001b[0m in \u001b[0;36mzscore\u001b[0;34m(a, axis, ddof)\u001b[0m\n\u001b[1;32m   2240\u001b[0m     \u001b[0ma\u001b[0m \u001b[0;34m=\u001b[0m \u001b[0mnp\u001b[0m\u001b[0;34m.\u001b[0m\u001b[0masanyarray\u001b[0m\u001b[0;34m(\u001b[0m\u001b[0ma\u001b[0m\u001b[0;34m)\u001b[0m\u001b[0;34m\u001b[0m\u001b[0m\n\u001b[0;32m-> 2241\u001b[0;31m     \u001b[0mmns\u001b[0m \u001b[0;34m=\u001b[0m \u001b[0ma\u001b[0m\u001b[0;34m.\u001b[0m\u001b[0mmean\u001b[0m\u001b[0;34m(\u001b[0m\u001b[0maxis\u001b[0m\u001b[0;34m=\u001b[0m\u001b[0maxis\u001b[0m\u001b[0;34m)\u001b[0m\u001b[0;34m\u001b[0m\u001b[0m\n\u001b[0m\u001b[1;32m   2242\u001b[0m     \u001b[0msstd\u001b[0m \u001b[0;34m=\u001b[0m \u001b[0ma\u001b[0m\u001b[0;34m.\u001b[0m\u001b[0mstd\u001b[0m\u001b[0;34m(\u001b[0m\u001b[0maxis\u001b[0m\u001b[0;34m=\u001b[0m\u001b[0maxis\u001b[0m\u001b[0;34m,\u001b[0m \u001b[0mddof\u001b[0m\u001b[0;34m=\u001b[0m\u001b[0mddof\u001b[0m\u001b[0;34m)\u001b[0m\u001b[0;34m\u001b[0m\u001b[0m\n",
      "\u001b[0;32m~/Library/Python/3.6/lib/python/site-packages/numpy/core/_methods.py\u001b[0m in \u001b[0;36m_mean\u001b[0;34m(a, axis, dtype, out, keepdims)\u001b[0m\n\u001b[1;32m     69\u001b[0m \u001b[0;34m\u001b[0m\u001b[0m\n\u001b[0;32m---> 70\u001b[0;31m     \u001b[0mret\u001b[0m \u001b[0;34m=\u001b[0m \u001b[0mumr_sum\u001b[0m\u001b[0;34m(\u001b[0m\u001b[0marr\u001b[0m\u001b[0;34m,\u001b[0m \u001b[0maxis\u001b[0m\u001b[0;34m,\u001b[0m \u001b[0mdtype\u001b[0m\u001b[0;34m,\u001b[0m \u001b[0mout\u001b[0m\u001b[0;34m,\u001b[0m \u001b[0mkeepdims\u001b[0m\u001b[0;34m)\u001b[0m\u001b[0;34m\u001b[0m\u001b[0m\n\u001b[0m\u001b[1;32m     71\u001b[0m     \u001b[0;32mif\u001b[0m \u001b[0misinstance\u001b[0m\u001b[0;34m(\u001b[0m\u001b[0mret\u001b[0m\u001b[0;34m,\u001b[0m \u001b[0mmu\u001b[0m\u001b[0;34m.\u001b[0m\u001b[0mndarray\u001b[0m\u001b[0;34m)\u001b[0m\u001b[0;34m:\u001b[0m\u001b[0;34m\u001b[0m\u001b[0m\n",
      "\u001b[0;31mTypeError\u001b[0m: must be str, not int",
      "\nDuring handling of the above exception, another exception occurred:\n",
      "\u001b[0;31mKeyboardInterrupt\u001b[0m                         Traceback (most recent call last)",
      "\u001b[0;31mKeyboardInterrupt\u001b[0m: "
     ]
    }
   ],
   "source": [
    "\n",
    "train[(np.abs(stats.zscore(train)) < 3).all(axis=1)]\n",
    "train.info()"
   ]
  },
  {
   "cell_type": "code",
   "execution_count": 22,
   "metadata": {
    "collapsed": true
   },
   "outputs": [],
   "source": [
    "for col in ['StoreType','Assortment','Promo2']:\n",
    "    store[col]= store[col].astype('category')\n"
   ]
  },
  {
   "cell_type": "code",
   "execution_count": 23,
   "metadata": {
    "collapsed": true
   },
   "outputs": [],
   "source": [
    "for col in ['Promo2']:\n",
    "    store[col]= store[col].astype('bool')"
   ]
  },
  {
   "cell_type": "code",
   "execution_count": 24,
   "metadata": {
    "collapsed": true
   },
   "outputs": [],
   "source": [
    "for col in ['Open', 'Promo', 'StateHoliday','SchoolHoliday']:\n",
    "    train[col]= train[col].astype('bool')"
   ]
  },
  {
   "cell_type": "code",
   "execution_count": null,
   "metadata": {
    "collapsed": true
   },
   "outputs": [],
   "source": [
    "store.info()"
   ]
  },
  {
   "cell_type": "code",
   "execution_count": null,
   "metadata": {},
   "outputs": [],
   "source": [
    "#change store type to string \n",
    "\n",
    "#train['Store'] = train['Store'].astype(str)\n",
    "train.info()"
   ]
  },
  {
   "cell_type": "code",
   "execution_count": null,
   "metadata": {},
   "outputs": [],
   "source": [
    "train.drop_duplicates()\n",
    "train.info()"
   ]
  },
  {
   "cell_type": "markdown",
   "metadata": {},
   "source": [
    "**Create day related columns**"
   ]
  },
  {
   "cell_type": "code",
   "execution_count": 25,
   "metadata": {
    "scrolled": false
   },
   "outputs": [
    {
     "name": "stdout",
     "output_type": "stream",
     "text": [
      "<class 'pandas.core.frame.DataFrame'>\n",
      "RangeIndex: 1017209 entries, 0 to 1017208\n",
      "Data columns (total 13 columns):\n",
      "Store            1017209 non-null int64\n",
      "DayOfWeek        1017209 non-null int64\n",
      "Date             1017209 non-null datetime64[ns]\n",
      "Sales            1017209 non-null int64\n",
      "Customers        1017209 non-null int64\n",
      "Open             1017209 non-null bool\n",
      "Promo            1017209 non-null bool\n",
      "StateHoliday     1017209 non-null bool\n",
      "SchoolHoliday    1017209 non-null bool\n",
      "Month            1017209 non-null int64\n",
      "Year             1017209 non-null int64\n",
      "Day              1017209 non-null int64\n",
      "Dayoftheweek     1017209 non-null object\n",
      "dtypes: bool(4), datetime64[ns](1), int64(7), object(1)\n",
      "memory usage: 73.7+ MB\n"
     ]
    }
   ],
   "source": [
    "#add date related columns \n",
    "train['Month']=train['Date'].dt.month\n",
    "train['Year']=train['Date'].dt.year\n",
    "train['Day']=train['Date'].dt.day\n",
    "train['Dayoftheweek']=train['Date'].dt.weekday_name\n",
    "\n",
    "train.info()"
   ]
  },
  {
   "cell_type": "code",
   "execution_count": 26,
   "metadata": {},
   "outputs": [
    {
     "data": {
      "text/html": [
       "<div>\n",
       "<style>\n",
       "    .dataframe thead tr:only-child th {\n",
       "        text-align: right;\n",
       "    }\n",
       "\n",
       "    .dataframe thead th {\n",
       "        text-align: left;\n",
       "    }\n",
       "\n",
       "    .dataframe tbody tr th {\n",
       "        vertical-align: top;\n",
       "    }\n",
       "</style>\n",
       "<table border=\"1\" class=\"dataframe\">\n",
       "  <thead>\n",
       "    <tr style=\"text-align: right;\">\n",
       "      <th></th>\n",
       "      <th>Store</th>\n",
       "      <th>DayOfWeek</th>\n",
       "      <th>Date</th>\n",
       "      <th>Sales</th>\n",
       "      <th>Customers</th>\n",
       "      <th>Open</th>\n",
       "      <th>Promo</th>\n",
       "      <th>StateHoliday</th>\n",
       "      <th>SchoolHoliday</th>\n",
       "      <th>Month</th>\n",
       "      <th>Year</th>\n",
       "      <th>Day</th>\n",
       "      <th>Dayoftheweek</th>\n",
       "      <th>Monthofyear</th>\n",
       "    </tr>\n",
       "  </thead>\n",
       "  <tbody>\n",
       "    <tr>\n",
       "      <th>0</th>\n",
       "      <td>1</td>\n",
       "      <td>5</td>\n",
       "      <td>2015-07-31</td>\n",
       "      <td>5263</td>\n",
       "      <td>555</td>\n",
       "      <td>True</td>\n",
       "      <td>True</td>\n",
       "      <td>True</td>\n",
       "      <td>True</td>\n",
       "      <td>7</td>\n",
       "      <td>2015</td>\n",
       "      <td>31</td>\n",
       "      <td>Friday</td>\n",
       "      <td>Jul</td>\n",
       "    </tr>\n",
       "    <tr>\n",
       "      <th>1</th>\n",
       "      <td>2</td>\n",
       "      <td>5</td>\n",
       "      <td>2015-07-31</td>\n",
       "      <td>6064</td>\n",
       "      <td>625</td>\n",
       "      <td>True</td>\n",
       "      <td>True</td>\n",
       "      <td>True</td>\n",
       "      <td>True</td>\n",
       "      <td>7</td>\n",
       "      <td>2015</td>\n",
       "      <td>31</td>\n",
       "      <td>Friday</td>\n",
       "      <td>Jul</td>\n",
       "    </tr>\n",
       "    <tr>\n",
       "      <th>2</th>\n",
       "      <td>3</td>\n",
       "      <td>5</td>\n",
       "      <td>2015-07-31</td>\n",
       "      <td>8314</td>\n",
       "      <td>821</td>\n",
       "      <td>True</td>\n",
       "      <td>True</td>\n",
       "      <td>True</td>\n",
       "      <td>True</td>\n",
       "      <td>7</td>\n",
       "      <td>2015</td>\n",
       "      <td>31</td>\n",
       "      <td>Friday</td>\n",
       "      <td>Jul</td>\n",
       "    </tr>\n",
       "    <tr>\n",
       "      <th>3</th>\n",
       "      <td>4</td>\n",
       "      <td>5</td>\n",
       "      <td>2015-07-31</td>\n",
       "      <td>13995</td>\n",
       "      <td>1498</td>\n",
       "      <td>True</td>\n",
       "      <td>True</td>\n",
       "      <td>True</td>\n",
       "      <td>True</td>\n",
       "      <td>7</td>\n",
       "      <td>2015</td>\n",
       "      <td>31</td>\n",
       "      <td>Friday</td>\n",
       "      <td>Jul</td>\n",
       "    </tr>\n",
       "    <tr>\n",
       "      <th>4</th>\n",
       "      <td>5</td>\n",
       "      <td>5</td>\n",
       "      <td>2015-07-31</td>\n",
       "      <td>4822</td>\n",
       "      <td>559</td>\n",
       "      <td>True</td>\n",
       "      <td>True</td>\n",
       "      <td>True</td>\n",
       "      <td>True</td>\n",
       "      <td>7</td>\n",
       "      <td>2015</td>\n",
       "      <td>31</td>\n",
       "      <td>Friday</td>\n",
       "      <td>Jul</td>\n",
       "    </tr>\n",
       "  </tbody>\n",
       "</table>\n",
       "</div>"
      ],
      "text/plain": [
       "   Store  DayOfWeek       Date  Sales  Customers  Open  Promo  StateHoliday  \\\n",
       "0      1          5 2015-07-31   5263        555  True   True          True   \n",
       "1      2          5 2015-07-31   6064        625  True   True          True   \n",
       "2      3          5 2015-07-31   8314        821  True   True          True   \n",
       "3      4          5 2015-07-31  13995       1498  True   True          True   \n",
       "4      5          5 2015-07-31   4822        559  True   True          True   \n",
       "\n",
       "   SchoolHoliday  Month  Year  Day Dayoftheweek Monthofyear  \n",
       "0           True      7  2015   31       Friday         Jul  \n",
       "1           True      7  2015   31       Friday         Jul  \n",
       "2           True      7  2015   31       Friday         Jul  \n",
       "3           True      7  2015   31       Friday         Jul  \n",
       "4           True      7  2015   31       Friday         Jul  "
      ]
     },
     "execution_count": 26,
     "metadata": {},
     "output_type": "execute_result"
    }
   ],
   "source": [
    "look_up = {1: 'Jan', 2: 'Feb', 3: 'Mrch', 4: 'April', 5: 'May',\n",
    "            6: 'Jun', 7: 'Jul', 8: 'Aug', 9: 'Sep', 10: 'Oct',11:'Nov',12: 'Dec'}\n",
    "\n",
    "\n",
    "train['Monthofyear']  = train['Month'].apply(lambda x: look_up[x])\n",
    "train.head()"
   ]
  },
  {
   "cell_type": "markdown",
   "metadata": {},
   "source": [
    "** The relation between years and Month **"
   ]
  },
  {
   "cell_type": "code",
   "execution_count": 27,
   "metadata": {
    "scrolled": true
   },
   "outputs": [
    {
     "data": {
      "application/vnd.plotly.v1+json": {
       "data": [
        {
         "marker": {
          "color": "rgba(255, 153, 51, 0.6)",
          "line": {
           "color": "rgba(255, 153, 51, 1.0)",
           "width": 1
          }
         },
         "name": "Sales",
         "orientation": "v",
         "text": [
          "262",
          "817",
          "562",
          "1114",
          "251",
          "513",
          "788",
          "733",
          "383",
          "756",
          "335",
          "698",
          "523",
          "595",
          "586",
          "320",
          "842",
          "380",
          "544",
          "1033"
         ],
         "type": "bar",
         "x": [
          0,
          1,
          2,
          3,
          4,
          5,
          6,
          7,
          8,
          9,
          10,
          11,
          12,
          13,
          14,
          15,
          16,
          17,
          18,
          19
         ],
         "y": [
          19516842,
          17057867,
          16927322,
          16202585,
          14896870,
          14252406,
          14082141,
          14067158,
          13489879,
          12911782,
          12541731,
          12202270,
          12175995,
          11774982,
          11742401,
          11630218,
          11553523,
          11261676,
          10993709,
          10870270
         ]
        }
       ],
       "layout": {
        "legend": {
         "bgcolor": "#F5F6F9",
         "font": {
          "color": "#4D5663"
         }
        },
        "paper_bgcolor": "#F5F6F9",
        "plot_bgcolor": "#F5F6F9",
        "titlefont": {
         "color": "#4D5663"
        },
        "xaxis1": {
         "gridcolor": "#E1E5ED",
         "showgrid": true,
         "tickfont": {
          "color": "#4D5663"
         },
         "title": "Stores",
         "titlefont": {
          "color": "#4D5663"
         },
         "zerolinecolor": "#E1E5ED"
        },
        "yaxis1": {
         "gridcolor": "#E1E5ED",
         "showgrid": true,
         "tickfont": {
          "color": "#4D5663"
         },
         "title": "Sales",
         "titlefont": {
          "color": "#4D5663"
         },
         "zerolinecolor": "#E1E5ED"
        }
       }
      },
      "text/html": [
       "<div id=\"36fbae7c-ae48-4c61-95d3-38c79a370e99\" style=\"height: 525px; width: 100%;\" class=\"plotly-graph-div\"></div><script type=\"text/javascript\">require([\"plotly\"], function(Plotly) { window.PLOTLYENV=window.PLOTLYENV || {};window.PLOTLYENV.BASE_URL=\"https://plot.ly\";Plotly.newPlot(\"36fbae7c-ae48-4c61-95d3-38c79a370e99\", [{\"type\": \"bar\", \"x\": [0, 1, 2, 3, 4, 5, 6, 7, 8, 9, 10, 11, 12, 13, 14, 15, 16, 17, 18, 19], \"y\": [19516842, 17057867, 16927322, 16202585, 14896870, 14252406, 14082141, 14067158, 13489879, 12911782, 12541731, 12202270, 12175995, 11774982, 11742401, 11630218, 11553523, 11261676, 10993709, 10870270], \"name\": \"Sales\", \"text\": [\"262\", \"817\", \"562\", \"1114\", \"251\", \"513\", \"788\", \"733\", \"383\", \"756\", \"335\", \"698\", \"523\", \"595\", \"586\", \"320\", \"842\", \"380\", \"544\", \"1033\"], \"marker\": {\"color\": \"rgba(255, 153, 51, 0.6)\", \"line\": {\"color\": \"rgba(255, 153, 51, 1.0)\", \"width\": 1}}, \"orientation\": \"v\"}], {\"legend\": {\"bgcolor\": \"#F5F6F9\", \"font\": {\"color\": \"#4D5663\"}}, \"paper_bgcolor\": \"#F5F6F9\", \"plot_bgcolor\": \"#F5F6F9\", \"yaxis1\": {\"tickfont\": {\"color\": \"#4D5663\"}, \"gridcolor\": \"#E1E5ED\", \"titlefont\": {\"color\": \"#4D5663\"}, \"zerolinecolor\": \"#E1E5ED\", \"showgrid\": true, \"title\": \"Sales\"}, \"xaxis1\": {\"tickfont\": {\"color\": \"#4D5663\"}, \"gridcolor\": \"#E1E5ED\", \"titlefont\": {\"color\": \"#4D5663\"}, \"zerolinecolor\": \"#E1E5ED\", \"showgrid\": true, \"title\": \"Stores\"}, \"titlefont\": {\"color\": \"#4D5663\"}}, {\"showLink\": true, \"linkText\": \"Export to plot.ly\"})});</script>"
      ],
      "text/vnd.plotly.v1+html": [
       "<div id=\"36fbae7c-ae48-4c61-95d3-38c79a370e99\" style=\"height: 525px; width: 100%;\" class=\"plotly-graph-div\"></div><script type=\"text/javascript\">require([\"plotly\"], function(Plotly) { window.PLOTLYENV=window.PLOTLYENV || {};window.PLOTLYENV.BASE_URL=\"https://plot.ly\";Plotly.newPlot(\"36fbae7c-ae48-4c61-95d3-38c79a370e99\", [{\"type\": \"bar\", \"x\": [0, 1, 2, 3, 4, 5, 6, 7, 8, 9, 10, 11, 12, 13, 14, 15, 16, 17, 18, 19], \"y\": [19516842, 17057867, 16927322, 16202585, 14896870, 14252406, 14082141, 14067158, 13489879, 12911782, 12541731, 12202270, 12175995, 11774982, 11742401, 11630218, 11553523, 11261676, 10993709, 10870270], \"name\": \"Sales\", \"text\": [\"262\", \"817\", \"562\", \"1114\", \"251\", \"513\", \"788\", \"733\", \"383\", \"756\", \"335\", \"698\", \"523\", \"595\", \"586\", \"320\", \"842\", \"380\", \"544\", \"1033\"], \"marker\": {\"color\": \"rgba(255, 153, 51, 0.6)\", \"line\": {\"color\": \"rgba(255, 153, 51, 1.0)\", \"width\": 1}}, \"orientation\": \"v\"}], {\"legend\": {\"bgcolor\": \"#F5F6F9\", \"font\": {\"color\": \"#4D5663\"}}, \"paper_bgcolor\": \"#F5F6F9\", \"plot_bgcolor\": \"#F5F6F9\", \"yaxis1\": {\"tickfont\": {\"color\": \"#4D5663\"}, \"gridcolor\": \"#E1E5ED\", \"titlefont\": {\"color\": \"#4D5663\"}, \"zerolinecolor\": \"#E1E5ED\", \"showgrid\": true, \"title\": \"Sales\"}, \"xaxis1\": {\"tickfont\": {\"color\": \"#4D5663\"}, \"gridcolor\": \"#E1E5ED\", \"titlefont\": {\"color\": \"#4D5663\"}, \"zerolinecolor\": \"#E1E5ED\", \"showgrid\": true, \"title\": \"Stores\"}, \"titlefont\": {\"color\": \"#4D5663\"}}, {\"showLink\": true, \"linkText\": \"Export to plot.ly\"})});</script>"
      ]
     },
     "metadata": {},
     "output_type": "display_data"
    }
   ],
   "source": [
    "#Create a dataframe with the store id and the adequate sales\n",
    "topshop =train [['Store','Sales']]\n",
    "\n",
    "\n",
    "#Group by store\n",
    "topshop = topshop.groupby('Store').sum()\n",
    "\n",
    "#Sort the dataframe by order descending\n",
    "topshop =topshop.sort_values('Sales', ascending=False)\n",
    "\n",
    "#Grab the top 20 shops\n",
    "topshop = topshop.head(20).reset_index()\n",
    "topshop['Store']= topshop['Store'].astype('str')\n",
    "#topshop.pivot_table(columns = 'Store', values ='Sales')\n",
    "\n",
    "#plot it\n",
    "#plt.figure(figsize = (12,6))\n",
    "#sns.barplot(x='Store', y='Sales', data=topshop, sorted = False)\n",
    "\n",
    "\n",
    "topshop.iplot(kind='bar', xTitle='Stores', yTitle='Sales', y='Sales', text = 'Store' )"
   ]
  },
  {
   "cell_type": "code",
   "execution_count": 28,
   "metadata": {},
   "outputs": [
    {
     "data": {
      "application/vnd.plotly.v1+json": {
       "data": [
        {
         "colorscale": [
          [
           0,
           "rgb(158,1,66)"
          ],
          [
           0.1,
           "rgb(213,62,79)"
          ],
          [
           0.2,
           "rgb(244,109,67)"
          ],
          [
           0.3,
           "rgb(253,174,97)"
          ],
          [
           0.4,
           "rgb(254,224,139)"
          ],
          [
           0.5,
           "rgb(255,255,191)"
          ],
          [
           0.6,
           "rgb(230,245,152)"
          ],
          [
           0.7,
           "rgb(171,221,164)"
          ],
          [
           0.8,
           "rgb(102,194,165)"
          ],
          [
           0.9,
           "rgb(50,136,189)"
          ],
          [
           1,
           "rgb(94,79,162)"
          ]
         ],
         "type": "heatmap",
         "x": [
          1,
          2,
          3,
          4,
          5,
          6,
          7,
          8,
          9,
          10,
          11,
          12
         ],
         "y": [
          2013,
          2014,
          2015
         ],
         "z": [
          [
           5211.555578058095,
           5494.371396540679,
           5820.349168233763,
           5483.749835575486,
           5364.127383191089,
           5402.162959641256,
           6042.062259511066,
           5729.574048893389,
           5322.988430493274,
           5429.258787791118,
           5864.601614349775,
           6703.618139736728
          ],
          [
           5431.875799218863,
           5731.091511851378,
           5584.25731231014,
           5815.993333333333,
           5632.670533776942,
           5681.5261883408075,
           5999.403381059168,
           5649.421252371916,
           5865.104028520499,
           5665.564878385372,
           6179.249661319073,
           6973.2824564429875
          ],
          [
           5752.747866338782,
           5710.296540679052,
           5949.130131636048,
           5916.857578475337,
           5472.12200202517,
           6199.203976083707,
           6142.705511355417,
           null,
           null,
           null,
           null,
           null
          ]
         ]
        }
       ],
       "layout": {
        "legend": {
         "bgcolor": "#F5F6F9",
         "font": {
          "color": "#4D5663"
         }
        },
        "paper_bgcolor": "#F5F6F9",
        "plot_bgcolor": "#F5F6F9",
        "title": "Cufflinks - Heatmap",
        "titlefont": {
         "color": "#4D5663"
        },
        "xaxis1": {
         "gridcolor": "#E1E5ED",
         "showgrid": true,
         "tickfont": {
          "color": "#4D5663"
         },
         "title": "",
         "titlefont": {
          "color": "#4D5663"
         },
         "zerolinecolor": "#E1E5ED"
        },
        "yaxis1": {
         "gridcolor": "#E1E5ED",
         "showgrid": true,
         "tickfont": {
          "color": "#4D5663"
         },
         "title": "",
         "titlefont": {
          "color": "#4D5663"
         },
         "zerolinecolor": "#E1E5ED"
        }
       }
      },
      "text/html": [
       "<div id=\"6ce1fc01-5824-40b1-bc17-8cf0e4a113f4\" style=\"height: 525px; width: 100%;\" class=\"plotly-graph-div\"></div><script type=\"text/javascript\">require([\"plotly\"], function(Plotly) { window.PLOTLYENV=window.PLOTLYENV || {};window.PLOTLYENV.BASE_URL=\"https://plot.ly\";Plotly.newPlot(\"6ce1fc01-5824-40b1-bc17-8cf0e4a113f4\", [{\"type\": \"heatmap\", \"z\": [[5211.555578058095, 5494.371396540679, 5820.349168233763, 5483.749835575486, 5364.127383191089, 5402.162959641256, 6042.062259511066, 5729.574048893389, 5322.988430493274, 5429.258787791118, 5864.601614349775, 6703.618139736728], [5431.875799218863, 5731.091511851378, 5584.25731231014, 5815.993333333333, 5632.670533776942, 5681.5261883408075, 5999.403381059168, 5649.421252371916, 5865.104028520499, 5665.564878385372, 6179.249661319073, 6973.2824564429875], [5752.747866338782, 5710.296540679052, 5949.130131636048, 5916.857578475337, 5472.12200202517, 6199.203976083707, 6142.705511355417, null, null, null, null, null]], \"x\": [1, 2, 3, 4, 5, 6, 7, 8, 9, 10, 11, 12], \"y\": [2013, 2014, 2015], \"colorscale\": [[0.0, \"rgb(158,1,66)\"], [0.1, \"rgb(213,62,79)\"], [0.2, \"rgb(244,109,67)\"], [0.3, \"rgb(253,174,97)\"], [0.4, \"rgb(254,224,139)\"], [0.5, \"rgb(255,255,191)\"], [0.6, \"rgb(230,245,152)\"], [0.7, \"rgb(171,221,164)\"], [0.8, \"rgb(102,194,165)\"], [0.9, \"rgb(50,136,189)\"], [1.0, \"rgb(94,79,162)\"]]}], {\"legend\": {\"bgcolor\": \"#F5F6F9\", \"font\": {\"color\": \"#4D5663\"}}, \"paper_bgcolor\": \"#F5F6F9\", \"plot_bgcolor\": \"#F5F6F9\", \"yaxis1\": {\"tickfont\": {\"color\": \"#4D5663\"}, \"gridcolor\": \"#E1E5ED\", \"titlefont\": {\"color\": \"#4D5663\"}, \"zerolinecolor\": \"#E1E5ED\", \"showgrid\": true, \"title\": \"\"}, \"xaxis1\": {\"tickfont\": {\"color\": \"#4D5663\"}, \"gridcolor\": \"#E1E5ED\", \"titlefont\": {\"color\": \"#4D5663\"}, \"zerolinecolor\": \"#E1E5ED\", \"showgrid\": true, \"title\": \"\"}, \"titlefont\": {\"color\": \"#4D5663\"}, \"title\": \"Cufflinks - Heatmap\"}, {\"showLink\": true, \"linkText\": \"Export to plot.ly\"})});</script>"
      ],
      "text/vnd.plotly.v1+html": [
       "<div id=\"6ce1fc01-5824-40b1-bc17-8cf0e4a113f4\" style=\"height: 525px; width: 100%;\" class=\"plotly-graph-div\"></div><script type=\"text/javascript\">require([\"plotly\"], function(Plotly) { window.PLOTLYENV=window.PLOTLYENV || {};window.PLOTLYENV.BASE_URL=\"https://plot.ly\";Plotly.newPlot(\"6ce1fc01-5824-40b1-bc17-8cf0e4a113f4\", [{\"type\": \"heatmap\", \"z\": [[5211.555578058095, 5494.371396540679, 5820.349168233763, 5483.749835575486, 5364.127383191089, 5402.162959641256, 6042.062259511066, 5729.574048893389, 5322.988430493274, 5429.258787791118, 5864.601614349775, 6703.618139736728], [5431.875799218863, 5731.091511851378, 5584.25731231014, 5815.993333333333, 5632.670533776942, 5681.5261883408075, 5999.403381059168, 5649.421252371916, 5865.104028520499, 5665.564878385372, 6179.249661319073, 6973.2824564429875], [5752.747866338782, 5710.296540679052, 5949.130131636048, 5916.857578475337, 5472.12200202517, 6199.203976083707, 6142.705511355417, null, null, null, null, null]], \"x\": [1, 2, 3, 4, 5, 6, 7, 8, 9, 10, 11, 12], \"y\": [2013, 2014, 2015], \"colorscale\": [[0.0, \"rgb(158,1,66)\"], [0.1, \"rgb(213,62,79)\"], [0.2, \"rgb(244,109,67)\"], [0.3, \"rgb(253,174,97)\"], [0.4, \"rgb(254,224,139)\"], [0.5, \"rgb(255,255,191)\"], [0.6, \"rgb(230,245,152)\"], [0.7, \"rgb(171,221,164)\"], [0.8, \"rgb(102,194,165)\"], [0.9, \"rgb(50,136,189)\"], [1.0, \"rgb(94,79,162)\"]]}], {\"legend\": {\"bgcolor\": \"#F5F6F9\", \"font\": {\"color\": \"#4D5663\"}}, \"paper_bgcolor\": \"#F5F6F9\", \"plot_bgcolor\": \"#F5F6F9\", \"yaxis1\": {\"tickfont\": {\"color\": \"#4D5663\"}, \"gridcolor\": \"#E1E5ED\", \"titlefont\": {\"color\": \"#4D5663\"}, \"zerolinecolor\": \"#E1E5ED\", \"showgrid\": true, \"title\": \"\"}, \"xaxis1\": {\"tickfont\": {\"color\": \"#4D5663\"}, \"gridcolor\": \"#E1E5ED\", \"titlefont\": {\"color\": \"#4D5663\"}, \"zerolinecolor\": \"#E1E5ED\", \"showgrid\": true, \"title\": \"\"}, \"titlefont\": {\"color\": \"#4D5663\"}, \"title\": \"Cufflinks - Heatmap\"}, {\"showLink\": true, \"linkText\": \"Export to plot.ly\"})});</script>"
      ]
     },
     "metadata": {},
     "output_type": "display_data"
    }
   ],
   "source": [
    "pt = train.pivot_table(index='Month', columns='Year', values ='Sales')\n",
    "pt.iplot(kind='heatmap',colorscale='spectral',title='Cufflinks - Heatmap')"
   ]
  },
  {
   "cell_type": "markdown",
   "metadata": {},
   "source": [
    "**The relation between the Days of the week and Month**"
   ]
  },
  {
   "cell_type": "code",
   "execution_count": null,
   "metadata": {
    "scrolled": true
   },
   "outputs": [],
   "source": [
    "pt = train.pivot_table(index='Month', columns='Dayoftheweek', values ='Sales')\n",
    "pt.iplot(kind='heatmap',colorscale='spectral',title='Cufflinks - Heatmap')"
   ]
  },
  {
   "cell_type": "markdown",
   "metadata": {},
   "source": [
    "**The relation between the Months and the Day of the Month**"
   ]
  },
  {
   "cell_type": "code",
   "execution_count": null,
   "metadata": {},
   "outputs": [],
   "source": [
    "pt = train.pivot_table(index='Day', columns='Month', values ='Sales')\n",
    "pt.iplot(kind='heatmap',colorscale='spectral',title='Cufflinks - Heatmap')"
   ]
  },
  {
   "cell_type": "markdown",
   "metadata": {
    "collapsed": true
   },
   "source": [
    "*** Revenue by store type ***\n"
   ]
  },
  {
   "cell_type": "code",
   "execution_count": 29,
   "metadata": {},
   "outputs": [
    {
     "data": {
      "application/vnd.plotly.v1+json": {
       "data": [
        {
         "name": "Name of Trace 1",
         "type": "bar",
         "x": [
          "a",
          "d",
          "c"
         ],
         "y": [
          962445137,
          567836385,
          220746618
         ]
        }
       ],
       "layout": {
        "title": "Revenue generated by Shop Type",
        "xaxis": {
         "title": "Store Type",
         "titlefont": {
          "color": "#7f7f7f",
          "family": "Courier New, monospace",
          "size": 18
         }
        },
        "yaxis": {
         "autorange": true,
         "title": "Sales",
         "titlefont": {
          "color": "#7f7f7f",
          "family": "Courier New, monospace",
          "size": 18
         }
        }
       }
      },
      "text/html": [
       "<div id=\"b40c4efb-7d6d-45d9-b8ef-f9291a8096b0\" style=\"height: 525px; width: 100%;\" class=\"plotly-graph-div\"></div><script type=\"text/javascript\">require([\"plotly\"], function(Plotly) { window.PLOTLYENV=window.PLOTLYENV || {};window.PLOTLYENV.BASE_URL=\"https://plot.ly\";Plotly.newPlot(\"b40c4efb-7d6d-45d9-b8ef-f9291a8096b0\", [{\"type\": \"bar\", \"x\": [\"a\", \"d\", \"c\"], \"y\": [962445137, 567836385, 220746618], \"name\": \"Name of Trace 1\"}], {\"title\": \"Revenue generated by Shop Type\", \"xaxis\": {\"title\": \"Store Type\", \"titlefont\": {\"family\": \"Courier New, monospace\", \"size\": 18, \"color\": \"#7f7f7f\"}}, \"yaxis\": {\"title\": \"Sales\", \"autorange\": true, \"titlefont\": {\"family\": \"Courier New, monospace\", \"size\": 18, \"color\": \"#7f7f7f\"}}}, {\"showLink\": true, \"linkText\": \"Export to plot.ly\"})});</script>"
      ],
      "text/vnd.plotly.v1+html": [
       "<div id=\"b40c4efb-7d6d-45d9-b8ef-f9291a8096b0\" style=\"height: 525px; width: 100%;\" class=\"plotly-graph-div\"></div><script type=\"text/javascript\">require([\"plotly\"], function(Plotly) { window.PLOTLYENV=window.PLOTLYENV || {};window.PLOTLYENV.BASE_URL=\"https://plot.ly\";Plotly.newPlot(\"b40c4efb-7d6d-45d9-b8ef-f9291a8096b0\", [{\"type\": \"bar\", \"x\": [\"a\", \"d\", \"c\"], \"y\": [962445137, 567836385, 220746618], \"name\": \"Name of Trace 1\"}], {\"title\": \"Revenue generated by Shop Type\", \"xaxis\": {\"title\": \"Store Type\", \"titlefont\": {\"family\": \"Courier New, monospace\", \"size\": 18, \"color\": \"#7f7f7f\"}}, \"yaxis\": {\"title\": \"Sales\", \"autorange\": true, \"titlefont\": {\"family\": \"Courier New, monospace\", \"size\": 18, \"color\": \"#7f7f7f\"}}}, {\"showLink\": true, \"linkText\": \"Export to plot.ly\"})});</script>"
      ]
     },
     "metadata": {},
     "output_type": "display_data"
    }
   ],
   "source": [
    "#Sum the train dataframe by store number summing up the others columns \n",
    "trainsumbystore = train.groupby('Store').sum().reset_index()\n",
    " \n",
    "#Merge the two datasets \n",
    "\n",
    "mergedtable = pd.merge(trainsumbystore, store, on='Store')\n",
    "\n",
    "salesstoretype= mergedtable[['StoreType', 'Sales']]\n",
    "salesstoretype= salesstoretype.groupby('StoreType').sum().sort_values(by='Sales',ascending=False)\n",
    "salesstoretype= salesstoretype.reset_index()\n",
    "\n",
    "\n",
    "\n",
    "trace1 = go.Bar(\n",
    "    x=salesstoretype[('StoreType')],\n",
    "    y=salesstoretype[('Sales')],\n",
    "    name='Name of Trace 1'\n",
    ")\n",
    "\n",
    "data = [trace1]\n",
    "\n",
    "layout = go.Layout(\n",
    "    title='Revenue generated by Shop Type',\n",
    "    xaxis=dict(\n",
    "        title='Store Type',\n",
    "        titlefont=dict(\n",
    "            family='Courier New, monospace',\n",
    "            size=18,\n",
    "            color='#7f7f7f'\n",
    "        )\n",
    "    ),\n",
    "    yaxis=dict(\n",
    "        title='Sales',\n",
    "        autorange = True,\n",
    "        titlefont=dict(\n",
    "            family='Courier New, monospace',\n",
    "            size=18,\n",
    "            color='#7f7f7f'\n",
    "        )\n",
    "    )\n",
    ")\n",
    "fig = go.Figure(data=data, layout=layout)\n",
    "\n",
    "fig.iplot()\n",
    "#plot_url = py.plot(fig, filename='styling-names')\n",
    "                   \n",
    "#salesstoretype.iplot(colorscale='spectral', kind= 'bar', y= 'Sales', layout=layout)"
   ]
  },
  {
   "cell_type": "code",
   "execution_count": null,
   "metadata": {
    "collapsed": true
   },
   "outputs": [],
   "source": []
  },
  {
   "cell_type": "code",
   "execution_count": null,
   "metadata": {},
   "outputs": [],
   "source": [
    "train.head()"
   ]
  },
  {
   "cell_type": "code",
   "execution_count": 30,
   "metadata": {},
   "outputs": [
    {
     "name": "stdout",
     "output_type": "stream",
     "text": [
      "This is the format of your plot grid:\n",
      "[ (1,1) x1,y1 ]  [ (1,2) x2,y2 ]\n",
      "\n"
     ]
    },
    {
     "data": {
      "application/vnd.plotly.v1+json": {
       "data": [
        {
         "name": "Sales",
         "type": "bar",
         "x": [
          "Monday",
          "Tuesday",
          "Friday",
          "Wednesday",
          "Thursday",
          "Saturday",
          "Sunday"
         ],
         "xaxis": "x1",
         "y": [
          1130203012,
          1020411930,
          980555941,
          954962863,
          911177709,
          846317735,
          29551433
         ],
         "yaxis": "y1"
        },
        {
         "name": "Average customer basket",
         "type": "scatter",
         "x": [
          "Monday",
          "Tuesday",
          "Friday",
          "Wednesday",
          "Thursday",
          "Saturday",
          "Sunday"
         ],
         "xaxis": "x1",
         "y": [
          9.604443566999594,
          9.205500776319385,
          9.046985924781717,
          9.084705905027816,
          8.95656536529005,
          8.89887948179261,
          5.70554208130399
         ],
         "yaxis": "y1"
        },
        {
         "name": "Sales",
         "type": "bar",
         "x": [
          "Mrch",
          "Jul",
          "Jun",
          "April",
          "May",
          "Jan",
          "Feb",
          "Dec",
          "Nov",
          "Aug",
          "Oct",
          "Sep"
         ],
         "xaxis": "x2",
         "y": [
          599831906,
          595059205,
          578112775,
          575895295,
          569248217,
          566728724,
          528734410,
          433831153,
          369498877,
          361791202,
          351878728,
          342570131
         ],
         "yaxis": "y2"
        },
        {
         "name": "Average customer basket",
         "type": "scatter",
         "x": [
          "Mrch",
          "Jul",
          "Jun",
          "April",
          "May",
          "Jan",
          "Feb",
          "Dec",
          "Nov",
          "Aug",
          "Oct",
          "Sep"
         ],
         "xaxis": "x2",
         "y": [
          9.190595612687778,
          9.23643106533836,
          9.220580765087776,
          9.100458473118323,
          9.119135628508015,
          9.084507202325028,
          9.007686086947322,
          9.70974693019567,
          9.18463729893786,
          8.860767820121941,
          8.773685033342767,
          8.77980179906802
         ],
         "yaxis": "y2"
        }
       ],
       "layout": {
        "annotations": [
         {
          "font": {
           "size": 16
          },
          "showarrow": false,
          "text": "Plot 1",
          "x": 0.225,
          "xanchor": "center",
          "xref": "paper",
          "y": 1,
          "yanchor": "bottom",
          "yref": "paper"
         },
         {
          "font": {
           "size": 16
          },
          "showarrow": false,
          "text": "Plot 2",
          "x": 0.775,
          "xanchor": "center",
          "xref": "paper",
          "y": 1,
          "yanchor": "bottom",
          "yref": "paper"
         }
        ],
        "height": 600,
        "title": "Multiple Subplots with Titles",
        "width": 1200,
        "xaxis1": {
         "anchor": "y1",
         "domain": [
          0,
          0.45
         ]
        },
        "xaxis2": {
         "anchor": "y2",
         "domain": [
          0.55,
          1
         ]
        },
        "yaxis1": {
         "anchor": "x1",
         "domain": [
          0,
          1
         ]
        },
        "yaxis2": {
         "anchor": "x2",
         "domain": [
          0,
          1
         ]
        }
       }
      },
      "text/html": [
       "<div id=\"3d749690-da9b-46b3-bcbc-aa0b54efac84\" style=\"height: 600px; width: 1200px;\" class=\"plotly-graph-div\"></div><script type=\"text/javascript\">require([\"plotly\"], function(Plotly) { window.PLOTLYENV=window.PLOTLYENV || {};window.PLOTLYENV.BASE_URL=\"https://plot.ly\";Plotly.newPlot(\"3d749690-da9b-46b3-bcbc-aa0b54efac84\", [{\"type\": \"bar\", \"x\": [\"Monday\", \"Tuesday\", \"Friday\", \"Wednesday\", \"Thursday\", \"Saturday\", \"Sunday\"], \"y\": [1130203012, 1020411930, 980555941, 954962863, 911177709, 846317735, 29551433], \"name\": \"Sales\", \"xaxis\": \"x1\", \"yaxis\": \"y1\"}, {\"type\": \"scatter\", \"x\": [\"Monday\", \"Tuesday\", \"Friday\", \"Wednesday\", \"Thursday\", \"Saturday\", \"Sunday\"], \"y\": [9.604443566999594, 9.205500776319385, 9.046985924781717, 9.084705905027816, 8.95656536529005, 8.89887948179261, 5.70554208130399], \"name\": \"Average customer basket\", \"yaxis\": \"y1\", \"xaxis\": \"x1\"}, {\"type\": \"bar\", \"x\": [\"Mrch\", \"Jul\", \"Jun\", \"April\", \"May\", \"Jan\", \"Feb\", \"Dec\", \"Nov\", \"Aug\", \"Oct\", \"Sep\"], \"y\": [599831906, 595059205, 578112775, 575895295, 569248217, 566728724, 528734410, 433831153, 369498877, 361791202, 351878728, 342570131], \"name\": \"Sales\", \"yaxis\": \"y2\", \"xaxis\": \"x2\"}, {\"type\": \"scatter\", \"x\": [\"Mrch\", \"Jul\", \"Jun\", \"April\", \"May\", \"Jan\", \"Feb\", \"Dec\", \"Nov\", \"Aug\", \"Oct\", \"Sep\"], \"y\": [9.190595612687778, 9.23643106533836, 9.220580765087776, 9.100458473118323, 9.119135628508015, 9.084507202325028, 9.007686086947322, 9.70974693019567, 9.18463729893786, 8.860767820121941, 8.773685033342767, 8.77980179906802], \"name\": \"Average customer basket\", \"yaxis\": \"y2\", \"xaxis\": \"x2\"}], {\"xaxis1\": {\"domain\": [0.0, 0.45], \"anchor\": \"y1\"}, \"yaxis1\": {\"domain\": [0.0, 1.0], \"anchor\": \"x1\"}, \"xaxis2\": {\"domain\": [0.55, 1.0], \"anchor\": \"y2\"}, \"yaxis2\": {\"domain\": [0.0, 1.0], \"anchor\": \"x2\"}, \"annotations\": [{\"y\": 1.0, \"xref\": \"paper\", \"x\": 0.225, \"yref\": \"paper\", \"text\": \"Plot 1\", \"showarrow\": false, \"font\": {\"size\": 16}, \"xanchor\": \"center\", \"yanchor\": \"bottom\"}, {\"y\": 1.0, \"xref\": \"paper\", \"x\": 0.775, \"yref\": \"paper\", \"text\": \"Plot 2\", \"showarrow\": false, \"font\": {\"size\": 16}, \"xanchor\": \"center\", \"yanchor\": \"bottom\"}], \"height\": 600, \"width\": 1200, \"title\": \"Multiple Subplots with Titles\"}, {\"showLink\": true, \"linkText\": \"Export to plot.ly\"})});</script>"
      ],
      "text/vnd.plotly.v1+html": [
       "<div id=\"3d749690-da9b-46b3-bcbc-aa0b54efac84\" style=\"height: 600px; width: 1200px;\" class=\"plotly-graph-div\"></div><script type=\"text/javascript\">require([\"plotly\"], function(Plotly) { window.PLOTLYENV=window.PLOTLYENV || {};window.PLOTLYENV.BASE_URL=\"https://plot.ly\";Plotly.newPlot(\"3d749690-da9b-46b3-bcbc-aa0b54efac84\", [{\"type\": \"bar\", \"x\": [\"Monday\", \"Tuesday\", \"Friday\", \"Wednesday\", \"Thursday\", \"Saturday\", \"Sunday\"], \"y\": [1130203012, 1020411930, 980555941, 954962863, 911177709, 846317735, 29551433], \"name\": \"Sales\", \"xaxis\": \"x1\", \"yaxis\": \"y1\"}, {\"type\": \"scatter\", \"x\": [\"Monday\", \"Tuesday\", \"Friday\", \"Wednesday\", \"Thursday\", \"Saturday\", \"Sunday\"], \"y\": [9.604443566999594, 9.205500776319385, 9.046985924781717, 9.084705905027816, 8.95656536529005, 8.89887948179261, 5.70554208130399], \"name\": \"Average customer basket\", \"yaxis\": \"y1\", \"xaxis\": \"x1\"}, {\"type\": \"bar\", \"x\": [\"Mrch\", \"Jul\", \"Jun\", \"April\", \"May\", \"Jan\", \"Feb\", \"Dec\", \"Nov\", \"Aug\", \"Oct\", \"Sep\"], \"y\": [599831906, 595059205, 578112775, 575895295, 569248217, 566728724, 528734410, 433831153, 369498877, 361791202, 351878728, 342570131], \"name\": \"Sales\", \"yaxis\": \"y2\", \"xaxis\": \"x2\"}, {\"type\": \"scatter\", \"x\": [\"Mrch\", \"Jul\", \"Jun\", \"April\", \"May\", \"Jan\", \"Feb\", \"Dec\", \"Nov\", \"Aug\", \"Oct\", \"Sep\"], \"y\": [9.190595612687778, 9.23643106533836, 9.220580765087776, 9.100458473118323, 9.119135628508015, 9.084507202325028, 9.007686086947322, 9.70974693019567, 9.18463729893786, 8.860767820121941, 8.773685033342767, 8.77980179906802], \"name\": \"Average customer basket\", \"yaxis\": \"y2\", \"xaxis\": \"x2\"}], {\"xaxis1\": {\"domain\": [0.0, 0.45], \"anchor\": \"y1\"}, \"yaxis1\": {\"domain\": [0.0, 1.0], \"anchor\": \"x1\"}, \"xaxis2\": {\"domain\": [0.55, 1.0], \"anchor\": \"y2\"}, \"yaxis2\": {\"domain\": [0.0, 1.0], \"anchor\": \"x2\"}, \"annotations\": [{\"y\": 1.0, \"xref\": \"paper\", \"x\": 0.225, \"yref\": \"paper\", \"text\": \"Plot 1\", \"showarrow\": false, \"font\": {\"size\": 16}, \"xanchor\": \"center\", \"yanchor\": \"bottom\"}, {\"y\": 1.0, \"xref\": \"paper\", \"x\": 0.775, \"yref\": \"paper\", \"text\": \"Plot 2\", \"showarrow\": false, \"font\": {\"size\": 16}, \"xanchor\": \"center\", \"yanchor\": \"bottom\"}], \"height\": 600, \"width\": 1200, \"title\": \"Multiple Subplots with Titles\"}, {\"showLink\": true, \"linkText\": \"Export to plot.ly\"})});</script>"
      ]
     },
     "metadata": {},
     "output_type": "display_data"
    }
   ],
   "source": [
    "basketweek = train[['Dayoftheweek','Sales','Customers']]\n",
    "basketweek = basketweek.groupby('Dayoftheweek').sum()\n",
    "basketweek = basketweek.sort_values(by='Sales',ascending = False)\n",
    "basketweek = basketweek.reset_index()\n",
    "basketweek['Basket'] = basketweek['Sales'] / basketweek['Customers'] \n",
    "\n",
    "basketmonth = train[['Monthofyear','Sales','Customers']]\n",
    "basketmonth = basketmonth.groupby('Monthofyear').sum()\n",
    "basketmonth = basketmonth.sort_values(by='Sales',ascending = False)\n",
    "basketmonth = basketmonth.reset_index()\n",
    "basketmonth['Basket'] = basketmonth['Sales'] / basketmonth['Customers'] \n",
    "\n",
    "\n",
    "\n",
    "trace1 = go.Bar(\n",
    "    x=basketweek[('Dayoftheweek')],\n",
    "    y=basketweek[('Sales')],\n",
    "    name='Sales'\n",
    "    \n",
    ")\n",
    "trace2 = go.Scatter(\n",
    "    x=basketweek[('Dayoftheweek')],\n",
    "    y=basketweek[('Basket')],\n",
    "    name='Average customer basket',\n",
    "    yaxis='y2'\n",
    ")\n",
    "\n",
    "trace3 = go.Bar(\n",
    "    x=basketmonth[('Monthofyear')],\n",
    "    y=basketmonth[('Sales')],\n",
    "    name='Sales',\n",
    "    yaxis = 'y1'\n",
    ")\n",
    "trace4 = go.Scatter(\n",
    "    x=basketmonth[('Monthofyear')],\n",
    "    y=basketmonth[('Basket')],\n",
    "    name='Average customer basket',\n",
    "    yaxis='y2'\n",
    ")\n",
    "\n",
    "\n",
    "data = [[trace1, trace2], [trace3, trace4]]\n",
    "\n",
    "fig = tools.make_subplots(rows=1, cols=2, subplot_titles=('Plot 1', 'Plot 2'))\n",
    "\n",
    "fig.append_trace(trace1, 1, 1)\n",
    "fig.append_trace(trace2, 1, 1)\n",
    "fig.append_trace(trace3, 1, 2)\n",
    "fig.append_trace(trace4, 1, 2)\n",
    "\n",
    "layout = go.Layout(\n",
    "    title='Average Customer Basket by day of the week',\n",
    "    yaxis=dict(\n",
    "        title='Sales'\n",
    "    ),\n",
    "    yaxis2=dict(\n",
    "        title='Basket',\n",
    "        titlefont=dict(\n",
    "            color='rgb(148, 103, 189)'\n",
    "        ),\n",
    "        tickfont=dict(\n",
    "            color='rgb(148, 103, 189)'\n",
    "        ),\n",
    "        overlaying='y',\n",
    "        side='right'\n",
    "    )\n",
    ")\n",
    "\n",
    "\n",
    "fig['layout'].update(height=600, width=1200, title='Multiple Subplots' +' with Titles')\n",
    "\n",
    "#py.iplot(fig, filename='make-subplots-multiple-with-titles')\n",
    "#fig = go.Figure(data=data, layout=layout)\n",
    "iplot(fig)"
   ]
  },
  {
   "cell_type": "code",
   "execution_count": null,
   "metadata": {
    "collapsed": true
   },
   "outputs": [],
   "source": []
  },
  {
   "cell_type": "code",
   "execution_count": 31,
   "metadata": {},
   "outputs": [
    {
     "name": "stdout",
     "output_type": "stream",
     "text": [
      "This is the format of your plot grid:\n",
      "[ (1,1) x1,y1 ]  [ (1,2) x2,y2 ]\n",
      "\n"
     ]
    },
    {
     "data": {
      "application/vnd.plotly.v1+json": {
       "data": [
        {
         "marker": {
          "color": "rgba(220,49,72, 0.8)",
          "line": {
           "width": 1
          }
         },
         "name": "Sales",
         "showlegend": false,
         "type": "bar",
         "x": [
          "Monday",
          "Tuesday",
          "Friday",
          "Wednesday",
          "Thursday",
          "Saturday",
          "Sunday"
         ],
         "xaxis": "x1",
         "y": [
          1130203012,
          1020411930,
          980555941,
          954962863,
          911177709,
          846317735,
          29551433
         ],
         "yaxis": "y1"
        },
        {
         "line": {
          "color": "#B0122C",
          "width": 1.5
         },
         "marker": {
          "line": {
           "width": 1
          },
          "size": 8
         },
         "name": "AOV",
         "showlegend": false,
         "type": "scatter",
         "x": [
          "Monday",
          "Tuesday",
          "Friday",
          "Wednesday",
          "Thursday",
          "Saturday",
          "Sunday"
         ],
         "xaxis": "x1",
         "y": [
          9.604443566999594,
          9.205500776319385,
          9.046985924781717,
          9.084705905027816,
          8.95656536529005,
          8.89887948179261,
          5.70554208130399
         ],
         "yaxis": "y3"
        },
        {
         "marker": {
          "color": "rgba(220,49,72, 0.8)",
          "line": {
           "width": 1
          }
         },
         "name": "Sales",
         "showlegend": false,
         "type": "bar",
         "x": [
          "Mrch",
          "Jul",
          "Jun",
          "April",
          "May",
          "Jan",
          "Feb",
          "Dec",
          "Nov",
          "Aug",
          "Oct",
          "Sep"
         ],
         "xaxis": "x2",
         "y": [
          599831906,
          595059205,
          578112775,
          575895295,
          569248217,
          566728724,
          528734410,
          433831153,
          369498877,
          361791202,
          351878728,
          342570131
         ],
         "yaxis": "y2"
        },
        {
         "line": {
          "color": "#B0122C",
          "width": 1.5
         },
         "marker": {
          "line": {
           "width": 1
          },
          "size": 8
         },
         "name": "AOV",
         "showlegend": false,
         "type": "scatter",
         "x": [
          "Mrch",
          "Jul",
          "Jun",
          "April",
          "May",
          "Jan",
          "Feb",
          "Dec",
          "Nov",
          "Aug",
          "Oct",
          "Sep"
         ],
         "xaxis": "x2",
         "y": [
          9.190595612687778,
          9.23643106533836,
          9.220580765087776,
          9.100458473118323,
          9.119135628508015,
          9.084507202325028,
          9.007686086947322,
          9.70974693019567,
          9.18463729893786,
          8.860767820121941,
          8.773685033342767,
          8.77980179906802
         ],
         "yaxis": "y4"
        }
       ],
       "layout": {
        "autosize": false,
        "height": 500,
        "hovermode": "x",
        "showlegend": false,
        "width": 800,
        "xaxis1": {
         "anchor": "y1",
         "autorange": true,
         "domain": [
          0,
          0.41000000000000003
         ],
         "tickangle": -45,
         "tickfont": {
          "size": 10
         },
         "title": "Days of the Week",
         "type": "category"
        },
        "xaxis2": {
         "anchor": "y2",
         "autorange": true,
         "domain": [
          0.5900000000000001,
          1
         ],
         "tickfont": {
          "size": 10
         },
         "title": "Months",
         "type": "Months"
        },
        "yaxis1": {
         "anchor": "x1",
         "domain": [
          0,
          1
         ],
         "showgrid": true,
         "title": "Sales"
        },
        "yaxis2": {
         "anchor": "x2",
         "domain": [
          0,
          1
         ],
         "showgrid": true,
         "title": "Sales"
        },
        "yaxis3": {
         "anchor": "x1",
         "overlaying": "y1",
         "showgrid": false,
         "side": "right",
         "title": "AOV"
        },
        "yaxis4": {
         "anchor": "x2",
         "overlaying": "y2",
         "showgrid": false,
         "side": "right",
         "title": "AOV"
        }
       }
      },
      "text/html": [
       "<div id=\"4c1b9f44-9dd7-4a11-9343-c5c95b68568b\" style=\"height: 500px; width: 800px;\" class=\"plotly-graph-div\"></div><script type=\"text/javascript\">require([\"plotly\"], function(Plotly) { window.PLOTLYENV=window.PLOTLYENV || {};window.PLOTLYENV.BASE_URL=\"https://plot.ly\";Plotly.newPlot(\"4c1b9f44-9dd7-4a11-9343-c5c95b68568b\", [{\"type\": \"bar\", \"x\": [\"Monday\", \"Tuesday\", \"Friday\", \"Wednesday\", \"Thursday\", \"Saturday\", \"Sunday\"], \"y\": [1130203012, 1020411930, 980555941, 954962863, 911177709, 846317735, 29551433], \"name\": \"Sales\", \"marker\": {\"color\": \"rgba(220,49,72, 0.8)\", \"line\": {\"width\": 1}}, \"showlegend\": false, \"xaxis\": \"x1\", \"yaxis\": \"y1\"}, {\"type\": \"scatter\", \"x\": [\"Monday\", \"Tuesday\", \"Friday\", \"Wednesday\", \"Thursday\", \"Saturday\", \"Sunday\"], \"y\": [9.604443566999594, 9.205500776319385, 9.046985924781717, 9.084705905027816, 8.95656536529005, 8.89887948179261, 5.70554208130399], \"marker\": {\"line\": {\"width\": 1}, \"size\": 8}, \"line\": {\"color\": \"#B0122C\", \"width\": 1.5}, \"name\": \"AOV\", \"showlegend\": false, \"xaxis\": \"x1\", \"yaxis\": \"y3\"}, {\"type\": \"bar\", \"x\": [\"Mrch\", \"Jul\", \"Jun\", \"April\", \"May\", \"Jan\", \"Feb\", \"Dec\", \"Nov\", \"Aug\", \"Oct\", \"Sep\"], \"y\": [599831906, 595059205, 578112775, 575895295, 569248217, 566728724, 528734410, 433831153, 369498877, 361791202, 351878728, 342570131], \"name\": \"Sales\", \"marker\": {\"color\": \"rgba(220,49,72, 0.8)\", \"line\": {\"width\": 1}}, \"showlegend\": false, \"xaxis\": \"x2\", \"yaxis\": \"y2\"}, {\"type\": \"scatter\", \"x\": [\"Mrch\", \"Jul\", \"Jun\", \"April\", \"May\", \"Jan\", \"Feb\", \"Dec\", \"Nov\", \"Aug\", \"Oct\", \"Sep\"], \"y\": [9.190595612687778, 9.23643106533836, 9.220580765087776, 9.100458473118323, 9.119135628508015, 9.084507202325028, 9.007686086947322, 9.70974693019567, 9.18463729893786, 8.860767820121941, 8.773685033342767, 8.77980179906802], \"marker\": {\"line\": {\"width\": 1}, \"size\": 8}, \"line\": {\"color\": \"#B0122C\", \"width\": 1.5}, \"name\": \"AOV\", \"showlegend\": false, \"xaxis\": \"x2\", \"yaxis\": \"y4\"}], {\"xaxis1\": {\"domain\": [0.0, 0.41000000000000003], \"anchor\": \"y1\", \"tickangle\": -45, \"autorange\": true, \"tickfont\": {\"size\": 10}, \"title\": \"Days of the Week\", \"type\": \"category\"}, \"yaxis1\": {\"domain\": [0.0, 1.0], \"anchor\": \"x1\", \"showgrid\": true, \"title\": \"Sales\"}, \"xaxis2\": {\"domain\": [0.5900000000000001, 1.0], \"anchor\": \"y2\", \"autorange\": true, \"tickfont\": {\"size\": 10}, \"title\": \"Months\", \"type\": \"Months\"}, \"yaxis2\": {\"domain\": [0.0, 1.0], \"anchor\": \"x2\", \"showgrid\": true, \"title\": \"Sales\"}, \"autosize\": false, \"width\": 800, \"height\": 500, \"showlegend\": false, \"hovermode\": \"x\", \"yaxis3\": {\"overlaying\": \"y1\", \"anchor\": \"x1\", \"side\": \"right\", \"showgrid\": false, \"title\": \"AOV\"}, \"yaxis4\": {\"overlaying\": \"y2\", \"anchor\": \"x2\", \"side\": \"right\", \"showgrid\": false, \"title\": \"AOV\"}}, {\"showLink\": true, \"linkText\": \"Export to plot.ly\"})});</script>"
      ],
      "text/vnd.plotly.v1+html": [
       "<div id=\"4c1b9f44-9dd7-4a11-9343-c5c95b68568b\" style=\"height: 500px; width: 800px;\" class=\"plotly-graph-div\"></div><script type=\"text/javascript\">require([\"plotly\"], function(Plotly) { window.PLOTLYENV=window.PLOTLYENV || {};window.PLOTLYENV.BASE_URL=\"https://plot.ly\";Plotly.newPlot(\"4c1b9f44-9dd7-4a11-9343-c5c95b68568b\", [{\"type\": \"bar\", \"x\": [\"Monday\", \"Tuesday\", \"Friday\", \"Wednesday\", \"Thursday\", \"Saturday\", \"Sunday\"], \"y\": [1130203012, 1020411930, 980555941, 954962863, 911177709, 846317735, 29551433], \"name\": \"Sales\", \"marker\": {\"color\": \"rgba(220,49,72, 0.8)\", \"line\": {\"width\": 1}}, \"showlegend\": false, \"xaxis\": \"x1\", \"yaxis\": \"y1\"}, {\"type\": \"scatter\", \"x\": [\"Monday\", \"Tuesday\", \"Friday\", \"Wednesday\", \"Thursday\", \"Saturday\", \"Sunday\"], \"y\": [9.604443566999594, 9.205500776319385, 9.046985924781717, 9.084705905027816, 8.95656536529005, 8.89887948179261, 5.70554208130399], \"marker\": {\"line\": {\"width\": 1}, \"size\": 8}, \"line\": {\"color\": \"#B0122C\", \"width\": 1.5}, \"name\": \"AOV\", \"showlegend\": false, \"xaxis\": \"x1\", \"yaxis\": \"y3\"}, {\"type\": \"bar\", \"x\": [\"Mrch\", \"Jul\", \"Jun\", \"April\", \"May\", \"Jan\", \"Feb\", \"Dec\", \"Nov\", \"Aug\", \"Oct\", \"Sep\"], \"y\": [599831906, 595059205, 578112775, 575895295, 569248217, 566728724, 528734410, 433831153, 369498877, 361791202, 351878728, 342570131], \"name\": \"Sales\", \"marker\": {\"color\": \"rgba(220,49,72, 0.8)\", \"line\": {\"width\": 1}}, \"showlegend\": false, \"xaxis\": \"x2\", \"yaxis\": \"y2\"}, {\"type\": \"scatter\", \"x\": [\"Mrch\", \"Jul\", \"Jun\", \"April\", \"May\", \"Jan\", \"Feb\", \"Dec\", \"Nov\", \"Aug\", \"Oct\", \"Sep\"], \"y\": [9.190595612687778, 9.23643106533836, 9.220580765087776, 9.100458473118323, 9.119135628508015, 9.084507202325028, 9.007686086947322, 9.70974693019567, 9.18463729893786, 8.860767820121941, 8.773685033342767, 8.77980179906802], \"marker\": {\"line\": {\"width\": 1}, \"size\": 8}, \"line\": {\"color\": \"#B0122C\", \"width\": 1.5}, \"name\": \"AOV\", \"showlegend\": false, \"xaxis\": \"x2\", \"yaxis\": \"y4\"}], {\"xaxis1\": {\"domain\": [0.0, 0.41000000000000003], \"anchor\": \"y1\", \"tickangle\": -45, \"autorange\": true, \"tickfont\": {\"size\": 10}, \"title\": \"Days of the Week\", \"type\": \"category\"}, \"yaxis1\": {\"domain\": [0.0, 1.0], \"anchor\": \"x1\", \"showgrid\": true, \"title\": \"Sales\"}, \"xaxis2\": {\"domain\": [0.5900000000000001, 1.0], \"anchor\": \"y2\", \"autorange\": true, \"tickfont\": {\"size\": 10}, \"title\": \"Months\", \"type\": \"Months\"}, \"yaxis2\": {\"domain\": [0.0, 1.0], \"anchor\": \"x2\", \"showgrid\": true, \"title\": \"Sales\"}, \"autosize\": false, \"width\": 800, \"height\": 500, \"showlegend\": false, \"hovermode\": \"x\", \"yaxis3\": {\"overlaying\": \"y1\", \"anchor\": \"x1\", \"side\": \"right\", \"showgrid\": false, \"title\": \"AOV\"}, \"yaxis4\": {\"overlaying\": \"y2\", \"anchor\": \"x2\", \"side\": \"right\", \"showgrid\": false, \"title\": \"AOV\"}}, {\"showLink\": true, \"linkText\": \"Export to plot.ly\"})});</script>"
      ]
     },
     "metadata": {},
     "output_type": "display_data"
    }
   ],
   "source": [
    "#Create two new dataframe\n",
    "\n",
    "basketweek = train[['Dayoftheweek','Sales','Customers']]\n",
    "basketweek = basketweek.groupby('Dayoftheweek').sum()\n",
    "basketweek = basketweek.sort_values(by='Sales',ascending = False)\n",
    "basketweek = basketweek.reset_index()\n",
    "basketweek['Basket'] = basketweek['Sales'] / basketweek['Customers'] \n",
    "\n",
    "basketmonth = train[['Monthofyear','Sales','Customers']]\n",
    "basketmonth = basketmonth.groupby('Monthofyear').sum()\n",
    "basketmonth = basketmonth.sort_values(by='Sales',ascending = False)\n",
    "basketmonth = basketmonth.reset_index()\n",
    "basketmonth['Basket'] = basketmonth['Sales'] / basketmonth['Customers'] \n",
    "\n",
    "\n",
    "#Create the format of our plot grid\n",
    "\n",
    "fig = tools.make_subplots(rows=1,\n",
    "                          cols=2,\n",
    "                          print_grid=True,\n",
    "                          horizontal_spacing=0.18,\n",
    "                         )\n",
    "\n",
    "#Define the 4 traces \n",
    "\n",
    "trace1 = dict(type='bar',\n",
    "              x= basketweek[('Dayoftheweek')], \n",
    "              y= basketweek[('Sales')],\n",
    "              name='Sales',            \n",
    "              marker=dict(color= 'rgba(220,49,72, 0.8)', \n",
    "                          line= dict(width= 1)),\n",
    "              showlegend=False\n",
    "             )\n",
    " \n",
    "\n",
    "trace2 = dict(type='scatter',\n",
    "              x= basketweek[('Dayoftheweek')], \n",
    "              y= basketweek[('Basket')], \n",
    "              marker= dict(line= dict(width= 1), \n",
    "                           size= 8), \n",
    "              line=dict(color= '#B0122C',\n",
    "                        width= 1.5),\n",
    "              name= 'AOV',\n",
    "              showlegend=False\n",
    "             )\n",
    "\n",
    "\n",
    "trace3=dict(type='bar',\n",
    "            x=basketmonth[('Monthofyear')],\n",
    "            y=basketmonth[('Sales')],\n",
    "            name='Sales',\n",
    "            marker=dict(color= 'rgba(220,49,72, 0.8)', line= dict(width= 1)),\n",
    "            showlegend=False \n",
    "          )\n",
    "trace4=dict(type='scatter',\n",
    "            x= basketmonth[('Monthofyear')],\n",
    "            y=basketmonth[('Basket')],\n",
    "            marker= dict(line= dict(width= 1), \n",
    "                         size= 8), \n",
    "            line=dict(color= '#B0122C', width= 1.5),\n",
    "            name= 'AOV',\n",
    "            showlegend=False\n",
    "           )\n",
    "\n",
    "# Append the first two traces to subplot (1,1), and the last two, to subplot (1,2):\n",
    "\n",
    "fig.append_trace(trace1, 1, 1)# trace1 is in position 0 of the list fig['data]\n",
    "fig.append_trace(trace2, 1, 1)#                       1 \n",
    "fig.append_trace(trace3, 1, 2)#                       2\n",
    "fig.append_trace(trace4, 1, 2)#                       3\n",
    "\n",
    "# Now we update yaxis for both trace2 and trace4 - meaning positon 1 and 3\n",
    "fig['data'][1].update(yaxis='y3')\n",
    "fig['data'][3].update(yaxis='y4')\n",
    "\n",
    "# Update layout\n",
    "\n",
    "\n",
    "fig['layout'].update(autosize= False, \n",
    "              width= 800, \n",
    "              height= 500, \n",
    "              showlegend=False,\n",
    "              hovermode='x')\n",
    "\n",
    "\n",
    "fig['layout']['xaxis1'].update(tickangle= -45, #'x1'\n",
    "                         autorange=True,\n",
    "                         tickfont=dict(size= 10), \n",
    "                         title= 'Days of the Week', \n",
    "                         type= 'category',\n",
    "                         )\n",
    "fig['layout']['yaxis1'].update( #left yaxis'y1\n",
    "                         showgrid=True, \n",
    "                         title= 'Sales',\n",
    "                         )\n",
    "\n",
    "#Insert a new key, yaxis3, and the associated value:\n",
    "fig['layout']['yaxis3']=dict(\n",
    "                          overlaying= 'y1', \n",
    "                          anchor= 'x1', \n",
    "                          side= 'right', \n",
    "                          showgrid= False, \n",
    "                          title= 'AOV'\n",
    "                         )\n",
    "\n",
    "fig['layout']['xaxis2'].update(autorange=True,\n",
    "                         tickfont=dict(size= 10), \n",
    "                         title= 'Months', \n",
    "                         type= 'Months',\n",
    "                         )\n",
    "fig['layout']['yaxis2'].update(\n",
    "                         showgrid=True, \n",
    "                         title= 'Sales',\n",
    "                         )\n",
    "#Insert a new key, yaxis4, and the associated value:\n",
    "fig['layout']['yaxis4']=dict(\n",
    "                          overlaying= 'y2', \n",
    "                          anchor= 'x2', \n",
    "                          side= 'right', \n",
    "                          showgrid= False, \n",
    "                          title= 'AOV'\n",
    "                         )\n",
    "\n",
    "iplot(fig)\n"
   ]
  },
  {
   "cell_type": "code",
   "execution_count": 32,
   "metadata": {},
   "outputs": [
    {
     "data": {
      "text/html": [
       "<div>\n",
       "<style>\n",
       "    .dataframe thead tr:only-child th {\n",
       "        text-align: right;\n",
       "    }\n",
       "\n",
       "    .dataframe thead th {\n",
       "        text-align: left;\n",
       "    }\n",
       "\n",
       "    .dataframe tbody tr th {\n",
       "        vertical-align: top;\n",
       "    }\n",
       "</style>\n",
       "<table border=\"1\" class=\"dataframe\">\n",
       "  <thead>\n",
       "    <tr style=\"text-align: right;\">\n",
       "      <th></th>\n",
       "      <th>Sales</th>\n",
       "    </tr>\n",
       "    <tr>\n",
       "      <th>Assortment</th>\n",
       "      <th></th>\n",
       "    </tr>\n",
       "  </thead>\n",
       "  <tbody>\n",
       "    <tr>\n",
       "      <th>a</th>\n",
       "      <td>971834451</td>\n",
       "    </tr>\n",
       "    <tr>\n",
       "      <th>c</th>\n",
       "      <td>779193689</td>\n",
       "    </tr>\n",
       "  </tbody>\n",
       "</table>\n",
       "</div>"
      ],
      "text/plain": [
       "                Sales\n",
       "Assortment           \n",
       "a           971834451\n",
       "c           779193689"
      ]
     },
     "execution_count": 32,
     "metadata": {},
     "output_type": "execute_result"
    }
   ],
   "source": [
    "rainsumbystore = train.groupby('Store').sum().reset_index()\n",
    "mergedtable = pd.merge(trainsumbystore, store, on='Store')\n",
    "\n",
    "#Sum the train dataframe by store number summing up the others columns \n",
    "salesassortment= mergedtable[['Assortment', 'Sales']]\n",
    "salesassortment= salesassortment.groupby('Assortment').sum().sort_values(by='Sales',ascending=False)\n",
    "\n",
    "salesassortment\n",
    "\n",
    "#salesassortment= salesassortment.reset_index()\n"
   ]
  },
  {
   "cell_type": "markdown",
   "metadata": {
    "collapsed": true
   },
   "source": [
    "** What are the best assortment **"
   ]
  },
  {
   "cell_type": "code",
   "execution_count": 33,
   "metadata": {},
   "outputs": [
    {
     "data": {
      "application/vnd.plotly.v1+json": {
       "data": [
        {
         "name": "Name of Trace 1",
         "type": "bar",
         "x": [
          "a",
          "c"
         ],
         "y": [
          971834451,
          779193689
         ]
        }
       ],
       "layout": {
        "title": "Revenue generated by Assortment",
        "xaxis": {
         "title": "Assortment",
         "titlefont": {
          "color": "#7f7f7f",
          "family": "Courier New, monospace",
          "size": 18
         }
        },
        "yaxis": {
         "autorange": true,
         "title": "Sales",
         "titlefont": {
          "color": "#7f7f7f",
          "family": "Courier New, monospace",
          "size": 18
         }
        }
       }
      },
      "text/html": [
       "<div id=\"6a45f919-27d2-4e6b-9dbf-73e67c956541\" style=\"height: 525px; width: 100%;\" class=\"plotly-graph-div\"></div><script type=\"text/javascript\">require([\"plotly\"], function(Plotly) { window.PLOTLYENV=window.PLOTLYENV || {};window.PLOTLYENV.BASE_URL=\"https://plot.ly\";Plotly.newPlot(\"6a45f919-27d2-4e6b-9dbf-73e67c956541\", [{\"type\": \"bar\", \"x\": [\"a\", \"c\"], \"y\": [971834451, 779193689], \"name\": \"Name of Trace 1\"}], {\"title\": \"Revenue generated by Assortment\", \"xaxis\": {\"title\": \"Assortment\", \"titlefont\": {\"family\": \"Courier New, monospace\", \"size\": 18, \"color\": \"#7f7f7f\"}}, \"yaxis\": {\"title\": \"Sales\", \"autorange\": true, \"titlefont\": {\"family\": \"Courier New, monospace\", \"size\": 18, \"color\": \"#7f7f7f\"}}}, {\"showLink\": true, \"linkText\": \"Export to plot.ly\"})});</script>"
      ],
      "text/vnd.plotly.v1+html": [
       "<div id=\"6a45f919-27d2-4e6b-9dbf-73e67c956541\" style=\"height: 525px; width: 100%;\" class=\"plotly-graph-div\"></div><script type=\"text/javascript\">require([\"plotly\"], function(Plotly) { window.PLOTLYENV=window.PLOTLYENV || {};window.PLOTLYENV.BASE_URL=\"https://plot.ly\";Plotly.newPlot(\"6a45f919-27d2-4e6b-9dbf-73e67c956541\", [{\"type\": \"bar\", \"x\": [\"a\", \"c\"], \"y\": [971834451, 779193689], \"name\": \"Name of Trace 1\"}], {\"title\": \"Revenue generated by Assortment\", \"xaxis\": {\"title\": \"Assortment\", \"titlefont\": {\"family\": \"Courier New, monospace\", \"size\": 18, \"color\": \"#7f7f7f\"}}, \"yaxis\": {\"title\": \"Sales\", \"autorange\": true, \"titlefont\": {\"family\": \"Courier New, monospace\", \"size\": 18, \"color\": \"#7f7f7f\"}}}, {\"showLink\": true, \"linkText\": \"Export to plot.ly\"})});</script>"
      ]
     },
     "metadata": {},
     "output_type": "display_data"
    }
   ],
   "source": [
    "#Sum the train dataframe by store number summing up the others columns \n",
    "trainsumbystore = train.groupby('Store').sum().reset_index()\n",
    " \n",
    "#Merge the two datasets \n",
    "\n",
    "mergedtable = pd.merge(trainsumbystore, store, on='Store')\n",
    "\n",
    "salesassortment= mergedtable[['Assortment', 'Sales']]\n",
    "salesassortment= salesassortment.groupby('Assortment').sum().sort_values(by='Sales',ascending=False)\n",
    "salesassortment= salesassortment.reset_index()\n",
    "\n",
    "\n",
    "trace1 = go.Bar(\n",
    "    x=salesassortment[('Assortment')],\n",
    "    y=salesassortment[('Sales')],\n",
    "    name='Name of Trace 1'\n",
    ")\n",
    "\n",
    "data = [trace1]\n",
    "\n",
    "layout = go.Layout(\n",
    "    title='Revenue generated by Assortment',\n",
    "    xaxis=dict(\n",
    "        title='Assortment',\n",
    "        titlefont=dict(\n",
    "            family='Courier New, monospace',\n",
    "            size=18,\n",
    "            color='#7f7f7f'\n",
    "        )\n",
    "    ),\n",
    "    yaxis=dict(\n",
    "        title='Sales',\n",
    "        autorange = True,\n",
    "        titlefont=dict(\n",
    "            family='Courier New, monospace',\n",
    "            size=18,\n",
    "            color='#7f7f7f'\n",
    "        )\n",
    "    )\n",
    ")\n",
    "fig = go.Figure(data=data, layout=layout)\n",
    "\n",
    "fig.iplot()\n"
   ]
  },
  {
   "cell_type": "markdown",
   "metadata": {},
   "source": [
    "** What are the best assortment by shop type **"
   ]
  },
  {
   "cell_type": "code",
   "execution_count": 34,
   "metadata": {},
   "outputs": [
    {
     "data": {
      "text/html": [
       "<div>\n",
       "<style>\n",
       "    .dataframe thead tr:only-child th {\n",
       "        text-align: right;\n",
       "    }\n",
       "\n",
       "    .dataframe thead th {\n",
       "        text-align: left;\n",
       "    }\n",
       "\n",
       "    .dataframe tbody tr th {\n",
       "        vertical-align: top;\n",
       "    }\n",
       "</style>\n",
       "<table border=\"1\" class=\"dataframe\">\n",
       "  <thead>\n",
       "    <tr style=\"text-align: right;\">\n",
       "      <th></th>\n",
       "      <th>Assortment</th>\n",
       "      <th>Sales</th>\n",
       "    </tr>\n",
       "  </thead>\n",
       "  <tbody>\n",
       "    <tr>\n",
       "      <th>0</th>\n",
       "      <td>a</td>\n",
       "      <td>971834451</td>\n",
       "    </tr>\n",
       "    <tr>\n",
       "      <th>1</th>\n",
       "      <td>c</td>\n",
       "      <td>779193689</td>\n",
       "    </tr>\n",
       "  </tbody>\n",
       "</table>\n",
       "</div>"
      ],
      "text/plain": [
       "  Assortment      Sales\n",
       "0          a  971834451\n",
       "1          c  779193689"
      ]
     },
     "execution_count": 34,
     "metadata": {},
     "output_type": "execute_result"
    }
   ],
   "source": [
    "salesassortment"
   ]
  },
  {
   "cell_type": "code",
   "execution_count": 35,
   "metadata": {},
   "outputs": [
    {
     "data": {
      "application/vnd.plotly.v1+json": {
       "data": [
        {
         "name": "Store Type A",
         "type": "bar",
         "x": [
          "a",
          "c"
         ],
         "y": [
          658101339,
          304343798
         ]
        },
        {
         "name": "Store Type B",
         "type": "bar",
         "x": [],
         "y": []
        },
        {
         "name": "Store Type C",
         "type": "bar",
         "x": [
          "a",
          "c"
         ],
         "y": [
          116317788,
          104428830
         ]
        },
        {
         "name": "Store Type D",
         "type": "bar",
         "x": [
          "c",
          "a"
         ],
         "y": [
          370421061,
          197415324
         ]
        }
       ],
       "layout": {
        "barmode": "group",
        "title": "Revenue generated by Assortment",
        "xaxis": {
         "title": "Assortment",
         "titlefont": {
          "color": "#7f7f7f",
          "family": "Courier New, monospace",
          "size": 18
         }
        },
        "yaxis": {
         "autorange": true,
         "title": "Sales",
         "titlefont": {
          "color": "#7f7f7f",
          "family": "Courier New, monospace",
          "size": 18
         }
        }
       }
      },
      "text/html": [
       "<div id=\"69562fca-2236-4902-a707-ac31a197062a\" style=\"height: 525px; width: 100%;\" class=\"plotly-graph-div\"></div><script type=\"text/javascript\">require([\"plotly\"], function(Plotly) { window.PLOTLYENV=window.PLOTLYENV || {};window.PLOTLYENV.BASE_URL=\"https://plot.ly\";Plotly.newPlot(\"69562fca-2236-4902-a707-ac31a197062a\", [{\"type\": \"bar\", \"x\": [\"a\", \"c\"], \"y\": [658101339, 304343798], \"name\": \"Store Type A\"}, {\"type\": \"bar\", \"x\": [], \"y\": [], \"name\": \"Store Type B\"}, {\"type\": \"bar\", \"x\": [\"a\", \"c\"], \"y\": [116317788, 104428830], \"name\": \"Store Type C\"}, {\"type\": \"bar\", \"x\": [\"c\", \"a\"], \"y\": [370421061, 197415324], \"name\": \"Store Type D\"}], {\"title\": \"Revenue generated by Assortment\", \"barmode\": \"group\", \"xaxis\": {\"title\": \"Assortment\", \"titlefont\": {\"family\": \"Courier New, monospace\", \"size\": 18, \"color\": \"#7f7f7f\"}}, \"yaxis\": {\"title\": \"Sales\", \"autorange\": true, \"titlefont\": {\"family\": \"Courier New, monospace\", \"size\": 18, \"color\": \"#7f7f7f\"}}}, {\"showLink\": true, \"linkText\": \"Export to plot.ly\"})});</script>"
      ],
      "text/vnd.plotly.v1+html": [
       "<div id=\"69562fca-2236-4902-a707-ac31a197062a\" style=\"height: 525px; width: 100%;\" class=\"plotly-graph-div\"></div><script type=\"text/javascript\">require([\"plotly\"], function(Plotly) { window.PLOTLYENV=window.PLOTLYENV || {};window.PLOTLYENV.BASE_URL=\"https://plot.ly\";Plotly.newPlot(\"69562fca-2236-4902-a707-ac31a197062a\", [{\"type\": \"bar\", \"x\": [\"a\", \"c\"], \"y\": [658101339, 304343798], \"name\": \"Store Type A\"}, {\"type\": \"bar\", \"x\": [], \"y\": [], \"name\": \"Store Type B\"}, {\"type\": \"bar\", \"x\": [\"a\", \"c\"], \"y\": [116317788, 104428830], \"name\": \"Store Type C\"}, {\"type\": \"bar\", \"x\": [\"c\", \"a\"], \"y\": [370421061, 197415324], \"name\": \"Store Type D\"}], {\"title\": \"Revenue generated by Assortment\", \"barmode\": \"group\", \"xaxis\": {\"title\": \"Assortment\", \"titlefont\": {\"family\": \"Courier New, monospace\", \"size\": 18, \"color\": \"#7f7f7f\"}}, \"yaxis\": {\"title\": \"Sales\", \"autorange\": true, \"titlefont\": {\"family\": \"Courier New, monospace\", \"size\": 18, \"color\": \"#7f7f7f\"}}}, {\"showLink\": true, \"linkText\": \"Export to plot.ly\"})});</script>"
      ]
     },
     "metadata": {},
     "output_type": "display_data"
    }
   ],
   "source": [
    "\n",
    "salesassortment= mergedtable[['StoreType','Assortment', 'Sales']]\n",
    "salesassortment= salesassortment.groupby(['StoreType','Assortment']).sum().sort_values(by='Sales',ascending=False)\n",
    "salesassortment= salesassortment.reset_index()\n",
    "\n",
    "a = salesassortment[salesassortment['StoreType']=='a']\n",
    "b = salesassortment[salesassortment['StoreType']=='b']\n",
    "c = salesassortment[salesassortment['StoreType']=='c']\n",
    "d = salesassortment[salesassortment['StoreType']=='d']\n",
    "\n",
    "\n",
    "trace1 = go.Bar(\n",
    "    x=a['Assortment'],\n",
    "    y=a['Sales'],\n",
    "    name='Store Type A'\n",
    ")\n",
    "trace2 = go.Bar(\n",
    "    x=b['Assortment'],\n",
    "    y=b['Sales'],\n",
    "    name='Store Type B'\n",
    ")\n",
    "\n",
    "trace3 = go.Bar(\n",
    "    x=c['Assortment'],\n",
    "    y=c['Sales'],\n",
    "    name='Store Type C'\n",
    ")\n",
    "\n",
    "trace4 = go.Bar(\n",
    "    x=d['Assortment'],\n",
    "    y=d['Sales'],\n",
    "    name='Store Type D'\n",
    ")\n",
    "\n",
    "data = [trace1, trace2, trace3, trace4]\n",
    "\n",
    "layout = go.Layout(\n",
    "    title='Revenue generated by Assortment',\n",
    "    barmode='group',\n",
    "    xaxis=dict(\n",
    "        title='Assortment',\n",
    "        titlefont=dict(\n",
    "            family='Courier New, monospace',\n",
    "            size=18,\n",
    "            color='#7f7f7f'\n",
    "        )\n",
    "    ),\n",
    "    yaxis=dict(\n",
    "        title='Sales',\n",
    "        autorange = True,\n",
    "        titlefont=dict(\n",
    "            family='Courier New, monospace',\n",
    "            size=18,\n",
    "            color='#7f7f7f'\n",
    "        )\n",
    "    )\n",
    ")\n",
    "\n",
    "fig = go.Figure(data=data, layout=layout)\n",
    "iplot(fig, filename='grouped-bar')"
   ]
  },
  {
   "cell_type": "markdown",
   "metadata": {
    "collapsed": true
   },
   "source": [
    "** What's the impact of the competition distance on the Sales **"
   ]
  },
  {
   "cell_type": "code",
   "execution_count": 36,
   "metadata": {},
   "outputs": [
    {
     "name": "stdout",
     "output_type": "stream",
     "text": [
      "<class 'pandas.core.frame.DataFrame'>\n",
      "Int64Index: 365 entries, 0 to 364\n",
      "Data columns (total 20 columns):\n",
      "Store                        365 non-null int64\n",
      "DayOfWeek                    365 non-null int64\n",
      "Sales                        365 non-null int64\n",
      "Customers                    365 non-null int64\n",
      "Open                         365 non-null float64\n",
      "Promo                        365 non-null float64\n",
      "StateHoliday                 365 non-null float64\n",
      "SchoolHoliday                365 non-null float64\n",
      "Month                        365 non-null int64\n",
      "Year                         365 non-null int64\n",
      "Day                          365 non-null int64\n",
      "StoreType                    365 non-null category\n",
      "Assortment                   365 non-null category\n",
      "CompetitionDistance          365 non-null float64\n",
      "CompetitionOpenSinceMonth    365 non-null float64\n",
      "CompetitionOpenSinceYear     365 non-null float64\n",
      "Promo2                       365 non-null bool\n",
      "Promo2SinceWeek              365 non-null float64\n",
      "Promo2SinceYear              365 non-null float64\n",
      "PromoInterval                365 non-null object\n",
      "dtypes: bool(1), category(2), float64(9), int64(7), object(1)\n",
      "memory usage: 52.6+ KB\n"
     ]
    }
   ],
   "source": [
    "mergedtable.info()"
   ]
  },
  {
   "cell_type": "code",
   "execution_count": 37,
   "metadata": {},
   "outputs": [
    {
     "data": {
      "text/plain": [
       "<seaborn.axisgrid.PairGrid at 0x10c2a6160>"
      ]
     },
     "execution_count": 37,
     "metadata": {},
     "output_type": "execute_result"
    },
    {
     "data": {
      "image/png": "[encoded data removed]",
      "text/plain": [
       "<matplotlib.figure.Figure at 0x10c2a6710>"
      ]
     },
     "metadata": {},
     "output_type": "display_data"
    }
   ],
   "source": [
    "mergedtable = pd.merge(trainsumbystore, store, on='Store')\n",
    "mergedtable\n",
    "#sns.lmplot(x= 'CompetitionDistance', y='Sales', data = mergedtable, hue = 'StoreType', col = 'Promo2')\n",
    "\n",
    "sns.pairplot(mergedtable[['Sales','Customers','StoreType','Assortment','CompetitionDistance', 'Promo2']])"
   ]
  },
  {
   "cell_type": "code",
   "execution_count": 38,
   "metadata": {},
   "outputs": [
    {
     "data": {
      "text/plain": [
       "<matplotlib.axes._subplots.AxesSubplot at 0x114b7f898>"
      ]
     },
     "execution_count": 38,
     "metadata": {},
     "output_type": "execute_result"
    },
    {
     "data": {
      "image/png": "[encoded data removed]",
      "text/plain": [
       "<matplotlib.figure.Figure at 0x10c8660b8>"
      ]
     },
     "metadata": {},
     "output_type": "display_data"
    }
   ],
   "source": [
    "m = mergedtable.rank()\n",
    "m = m.corr()\n",
    "plt.figure(figsize = (12,6))\n",
    "sns.heatmap(m)"
   ]
  },
  {
   "cell_type": "code",
   "execution_count": 39,
   "metadata": {},
   "outputs": [
    {
     "data": {
      "text/html": [
       "<div>\n",
       "<style>\n",
       "    .dataframe thead tr:only-child th {\n",
       "        text-align: right;\n",
       "    }\n",
       "\n",
       "    .dataframe thead th {\n",
       "        text-align: left;\n",
       "    }\n",
       "\n",
       "    .dataframe tbody tr th {\n",
       "        vertical-align: top;\n",
       "    }\n",
       "</style>\n",
       "<table border=\"1\" class=\"dataframe\">\n",
       "  <thead>\n",
       "    <tr style=\"text-align: right;\">\n",
       "      <th></th>\n",
       "      <th>CompetitionDistance</th>\n",
       "      <th>Sales</th>\n",
       "    </tr>\n",
       "  </thead>\n",
       "  <tbody>\n",
       "    <tr>\n",
       "      <th>CompetitionDistance</th>\n",
       "      <td>1.000000</td>\n",
       "      <td>-0.305712</td>\n",
       "    </tr>\n",
       "    <tr>\n",
       "      <th>Sales</th>\n",
       "      <td>-0.305712</td>\n",
       "      <td>1.000000</td>\n",
       "    </tr>\n",
       "  </tbody>\n",
       "</table>\n",
       "</div>"
      ],
      "text/plain": [
       "                     CompetitionDistance     Sales\n",
       "CompetitionDistance             1.000000 -0.305712\n",
       "Sales                          -0.305712  1.000000"
      ]
     },
     "execution_count": 39,
     "metadata": {},
     "output_type": "execute_result"
    }
   ],
   "source": [
    "m[['CompetitionDistance','Sales']].corr(method='pearson', min_periods=1)"
   ]
  },
  {
   "cell_type": "code",
   "execution_count": 40,
   "metadata": {},
   "outputs": [
    {
     "data": {
      "text/html": [
       "<div>\n",
       "<style>\n",
       "    .dataframe thead tr:only-child th {\n",
       "        text-align: right;\n",
       "    }\n",
       "\n",
       "    .dataframe thead th {\n",
       "        text-align: left;\n",
       "    }\n",
       "\n",
       "    .dataframe tbody tr th {\n",
       "        vertical-align: top;\n",
       "    }\n",
       "</style>\n",
       "<table border=\"1\" class=\"dataframe\">\n",
       "  <thead>\n",
       "    <tr style=\"text-align: right;\">\n",
       "      <th></th>\n",
       "      <th>Store</th>\n",
       "      <th>DayOfWeek</th>\n",
       "      <th>Sales</th>\n",
       "      <th>Customers</th>\n",
       "      <th>Open</th>\n",
       "      <th>Promo</th>\n",
       "      <th>StateHoliday</th>\n",
       "      <th>SchoolHoliday</th>\n",
       "      <th>Month</th>\n",
       "      <th>Year</th>\n",
       "      <th>Day</th>\n",
       "      <th>StoreType</th>\n",
       "      <th>Assortment</th>\n",
       "      <th>CompetitionDistance</th>\n",
       "      <th>CompetitionOpenSinceMonth</th>\n",
       "      <th>CompetitionOpenSinceYear</th>\n",
       "      <th>Promo2</th>\n",
       "      <th>Promo2SinceWeek</th>\n",
       "      <th>Promo2SinceYear</th>\n",
       "      <th>PromoInterval</th>\n",
       "    </tr>\n",
       "  </thead>\n",
       "  <tbody>\n",
       "    <tr>\n",
       "      <th>0</th>\n",
       "      <td>2</td>\n",
       "      <td>3766</td>\n",
       "      <td>3883858</td>\n",
       "      <td>457855</td>\n",
       "      <td>784.0</td>\n",
       "      <td>360.0</td>\n",
       "      <td>813.0</td>\n",
       "      <td>167.0</td>\n",
       "      <td>5616</td>\n",
       "      <td>1897035</td>\n",
       "      <td>14796</td>\n",
       "      <td>a</td>\n",
       "      <td>a</td>\n",
       "      <td>570.0</td>\n",
       "      <td>11.0</td>\n",
       "      <td>2007.0</td>\n",
       "      <td>True</td>\n",
       "      <td>13.0</td>\n",
       "      <td>2010.0</td>\n",
       "      <td>Jan,Apr,Jul,Oct</td>\n",
       "    </tr>\n",
       "    <tr>\n",
       "      <th>1</th>\n",
       "      <td>3</td>\n",
       "      <td>3766</td>\n",
       "      <td>5408261</td>\n",
       "      <td>584310</td>\n",
       "      <td>779.0</td>\n",
       "      <td>360.0</td>\n",
       "      <td>813.0</td>\n",
       "      <td>170.0</td>\n",
       "      <td>5616</td>\n",
       "      <td>1897035</td>\n",
       "      <td>14796</td>\n",
       "      <td>a</td>\n",
       "      <td>a</td>\n",
       "      <td>14130.0</td>\n",
       "      <td>12.0</td>\n",
       "      <td>2006.0</td>\n",
       "      <td>True</td>\n",
       "      <td>14.0</td>\n",
       "      <td>2011.0</td>\n",
       "      <td>Jan,Apr,Jul,Oct</td>\n",
       "    </tr>\n",
       "    <tr>\n",
       "      <th>2</th>\n",
       "      <td>11</td>\n",
       "      <td>3766</td>\n",
       "      <td>6296286</td>\n",
       "      <td>885992</td>\n",
       "      <td>784.0</td>\n",
       "      <td>360.0</td>\n",
       "      <td>813.0</td>\n",
       "      <td>159.0</td>\n",
       "      <td>5616</td>\n",
       "      <td>1897035</td>\n",
       "      <td>14796</td>\n",
       "      <td>a</td>\n",
       "      <td>c</td>\n",
       "      <td>960.0</td>\n",
       "      <td>11.0</td>\n",
       "      <td>2011.0</td>\n",
       "      <td>True</td>\n",
       "      <td>1.0</td>\n",
       "      <td>2012.0</td>\n",
       "      <td>Jan,Apr,Jul,Oct</td>\n",
       "    </tr>\n",
       "    <tr>\n",
       "      <th>3</th>\n",
       "      <td>14</td>\n",
       "      <td>3766</td>\n",
       "      <td>4291174</td>\n",
       "      <td>491913</td>\n",
       "      <td>779.0</td>\n",
       "      <td>360.0</td>\n",
       "      <td>813.0</td>\n",
       "      <td>170.0</td>\n",
       "      <td>5616</td>\n",
       "      <td>1897035</td>\n",
       "      <td>14796</td>\n",
       "      <td>a</td>\n",
       "      <td>a</td>\n",
       "      <td>1300.0</td>\n",
       "      <td>3.0</td>\n",
       "      <td>2014.0</td>\n",
       "      <td>True</td>\n",
       "      <td>40.0</td>\n",
       "      <td>2011.0</td>\n",
       "      <td>Jan,Apr,Jul,Oct</td>\n",
       "    </tr>\n",
       "    <tr>\n",
       "      <th>4</th>\n",
       "      <td>15</td>\n",
       "      <td>3766</td>\n",
       "      <td>5231510</td>\n",
       "      <td>520107</td>\n",
       "      <td>784.0</td>\n",
       "      <td>360.0</td>\n",
       "      <td>813.0</td>\n",
       "      <td>159.0</td>\n",
       "      <td>5616</td>\n",
       "      <td>1897035</td>\n",
       "      <td>14796</td>\n",
       "      <td>d</td>\n",
       "      <td>c</td>\n",
       "      <td>4110.0</td>\n",
       "      <td>3.0</td>\n",
       "      <td>2010.0</td>\n",
       "      <td>True</td>\n",
       "      <td>14.0</td>\n",
       "      <td>2011.0</td>\n",
       "      <td>Jan,Apr,Jul,Oct</td>\n",
       "    </tr>\n",
       "  </tbody>\n",
       "</table>\n",
       "</div>"
      ],
      "text/plain": [
       "   Store  DayOfWeek    Sales  Customers   Open  Promo  StateHoliday  \\\n",
       "0      2       3766  3883858     457855  784.0  360.0         813.0   \n",
       "1      3       3766  5408261     584310  779.0  360.0         813.0   \n",
       "2     11       3766  6296286     885992  784.0  360.0         813.0   \n",
       "3     14       3766  4291174     491913  779.0  360.0         813.0   \n",
       "4     15       3766  5231510     520107  784.0  360.0         813.0   \n",
       "\n",
       "   SchoolHoliday  Month     Year    Day StoreType Assortment  \\\n",
       "0          167.0   5616  1897035  14796         a          a   \n",
       "1          170.0   5616  1897035  14796         a          a   \n",
       "2          159.0   5616  1897035  14796         a          c   \n",
       "3          170.0   5616  1897035  14796         a          a   \n",
       "4          159.0   5616  1897035  14796         d          c   \n",
       "\n",
       "   CompetitionDistance  CompetitionOpenSinceMonth  CompetitionOpenSinceYear  \\\n",
       "0                570.0                       11.0                    2007.0   \n",
       "1              14130.0                       12.0                    2006.0   \n",
       "2                960.0                       11.0                    2011.0   \n",
       "3               1300.0                        3.0                    2014.0   \n",
       "4               4110.0                        3.0                    2010.0   \n",
       "\n",
       "   Promo2  Promo2SinceWeek  Promo2SinceYear    PromoInterval  \n",
       "0    True             13.0           2010.0  Jan,Apr,Jul,Oct  \n",
       "1    True             14.0           2011.0  Jan,Apr,Jul,Oct  \n",
       "2    True              1.0           2012.0  Jan,Apr,Jul,Oct  \n",
       "3    True             40.0           2011.0  Jan,Apr,Jul,Oct  \n",
       "4    True             14.0           2011.0  Jan,Apr,Jul,Oct  "
      ]
     },
     "execution_count": 40,
     "metadata": {},
     "output_type": "execute_result"
    }
   ],
   "source": [
    "mergedtable = pd.merge(trainsumbystore, store, on='Store')\n",
    "mergedtable.head()\n"
   ]
  },
  {
   "cell_type": "code",
   "execution_count": 41,
   "metadata": {},
   "outputs": [
    {
     "data": {
      "text/plain": [
       "CompetitionDistance    40.0\n",
       "dtype: float64"
      ]
     },
     "execution_count": 41,
     "metadata": {},
     "output_type": "execute_result"
    }
   ],
   "source": [
    "mergedtable[['CompetitionDistance']].min()"
   ]
  },
  {
   "cell_type": "code",
   "execution_count": 42,
   "metadata": {},
   "outputs": [
    {
     "data": {
      "text/plain": [
       "<matplotlib.axes._subplots.AxesSubplot at 0x11524e470>"
      ]
     },
     "execution_count": 42,
     "metadata": {},
     "output_type": "execute_result"
    },
    {
     "data": {
      "image/png": "[encoded data removed]",
      "text/plain": [
       "<matplotlib.figure.Figure at 0x11524eda0>"
      ]
     },
     "metadata": {},
     "output_type": "display_data"
    }
   ],
   "source": [
    "mm = pd.merge(trainsumbystore, store, on='Store')\n",
    "mm =mm[['CompetitionDistance','Sales']]\n",
    "\n",
    "bins = [0,250,500, 5000, 7500,10000, 17500, 30000,37500, 45000,60000,75000, 80000]\n",
    "\n",
    "mm['distanceBinned'] = pd.cut(mm['CompetitionDistance'], bins)\n",
    "\n",
    "mmbinned = mm[['distanceBinned','Sales']]\n",
    "\n",
    "mmbinned = mmbinned.groupby('distanceBinned').mean().reset_index()\n",
    "mmbinned\n",
    "\n",
    "plt.figure(figsize = (12,6))\n",
    "plt.xticks(rotation=45)\n",
    "sns.barplot(x='distanceBinned', y='Sales', data = mmbinned)"
   ]
  },
  {
   "cell_type": "code",
   "execution_count": 43,
   "metadata": {},
   "outputs": [
    {
     "data": {
      "text/html": [
       "<div>\n",
       "<style>\n",
       "    .dataframe thead tr:only-child th {\n",
       "        text-align: right;\n",
       "    }\n",
       "\n",
       "    .dataframe thead th {\n",
       "        text-align: left;\n",
       "    }\n",
       "\n",
       "    .dataframe tbody tr th {\n",
       "        vertical-align: top;\n",
       "    }\n",
       "</style>\n",
       "<table border=\"1\" class=\"dataframe\">\n",
       "  <thead>\n",
       "    <tr style=\"text-align: right;\">\n",
       "      <th></th>\n",
       "      <th>PromoInterval</th>\n",
       "      <th>StoreType</th>\n",
       "      <th>Sales</th>\n",
       "    </tr>\n",
       "  </thead>\n",
       "  <tbody>\n",
       "    <tr>\n",
       "      <th>0</th>\n",
       "      <td>Feb,May,Aug,Nov</td>\n",
       "      <td>a</td>\n",
       "      <td>4.807156e+06</td>\n",
       "    </tr>\n",
       "    <tr>\n",
       "      <th>1</th>\n",
       "      <td>Feb,May,Aug,Nov</td>\n",
       "      <td>c</td>\n",
       "      <td>4.364823e+06</td>\n",
       "    </tr>\n",
       "    <tr>\n",
       "      <th>2</th>\n",
       "      <td>Feb,May,Aug,Nov</td>\n",
       "      <td>d</td>\n",
       "      <td>5.025776e+06</td>\n",
       "    </tr>\n",
       "    <tr>\n",
       "      <th>3</th>\n",
       "      <td>Jan,Apr,Jul,Oct</td>\n",
       "      <td>a</td>\n",
       "      <td>4.721948e+06</td>\n",
       "    </tr>\n",
       "    <tr>\n",
       "      <th>4</th>\n",
       "      <td>Jan,Apr,Jul,Oct</td>\n",
       "      <td>c</td>\n",
       "      <td>4.444419e+06</td>\n",
       "    </tr>\n",
       "    <tr>\n",
       "      <th>5</th>\n",
       "      <td>Jan,Apr,Jul,Oct</td>\n",
       "      <td>d</td>\n",
       "      <td>4.870871e+06</td>\n",
       "    </tr>\n",
       "    <tr>\n",
       "      <th>6</th>\n",
       "      <td>Mar,Jun,Sept,Dec</td>\n",
       "      <td>a</td>\n",
       "      <td>5.275469e+06</td>\n",
       "    </tr>\n",
       "    <tr>\n",
       "      <th>7</th>\n",
       "      <td>Mar,Jun,Sept,Dec</td>\n",
       "      <td>c</td>\n",
       "      <td>5.399503e+06</td>\n",
       "    </tr>\n",
       "    <tr>\n",
       "      <th>8</th>\n",
       "      <td>Mar,Jun,Sept,Dec</td>\n",
       "      <td>d</td>\n",
       "      <td>4.372964e+06</td>\n",
       "    </tr>\n",
       "  </tbody>\n",
       "</table>\n",
       "</div>"
      ],
      "text/plain": [
       "      PromoInterval StoreType         Sales\n",
       "0   Feb,May,Aug,Nov         a  4.807156e+06\n",
       "1   Feb,May,Aug,Nov         c  4.364823e+06\n",
       "2   Feb,May,Aug,Nov         d  5.025776e+06\n",
       "3   Jan,Apr,Jul,Oct         a  4.721948e+06\n",
       "4   Jan,Apr,Jul,Oct         c  4.444419e+06\n",
       "5   Jan,Apr,Jul,Oct         d  4.870871e+06\n",
       "6  Mar,Jun,Sept,Dec         a  5.275469e+06\n",
       "7  Mar,Jun,Sept,Dec         c  5.399503e+06\n",
       "8  Mar,Jun,Sept,Dec         d  4.372964e+06"
      ]
     },
     "execution_count": 43,
     "metadata": {},
     "output_type": "execute_result"
    }
   ],
   "source": [
    "dd = pd.merge(trainsumbystore, store, on='Store')\n",
    "dd =dd[['PromoInterval','Sales','StoreType']].dropna()\n",
    "dd.groupby(['PromoInterval','StoreType']).mean().reset_index()"
   ]
  },
  {
   "cell_type": "code",
   "execution_count": 44,
   "metadata": {},
   "outputs": [
    {
     "data": {
      "text/plain": [
       "<matplotlib.axes._subplots.AxesSubplot at 0x11524e518>"
      ]
     },
     "execution_count": 44,
     "metadata": {},
     "output_type": "execute_result"
    },
    {
     "data": {
      "image/png": "[encoded data removed]",
      "text/plain": [
       "<matplotlib.figure.Figure at 0x11524e550>"
      ]
     },
     "metadata": {},
     "output_type": "display_data"
    }
   ],
   "source": [
    "plt.figure(figsize = (12,6))\n",
    "plt.xticks(rotation=45)\n",
    "sns.boxplot(x='PromoInterval', y='Sales', data = dd, hue= 'StoreType')"
   ]
  },
  {
   "cell_type": "markdown",
   "metadata": {
    "collapsed": true
   },
   "source": [
    "** Sales average basket and average revenue non sales on **"
   ]
  },
  {
   "cell_type": "code",
   "execution_count": 62,
   "metadata": {},
   "outputs": [
    {
     "data": {
      "text/html": [
       "<div>\n",
       "<style>\n",
       "    .dataframe thead tr:only-child th {\n",
       "        text-align: right;\n",
       "    }\n",
       "\n",
       "    .dataframe thead th {\n",
       "        text-align: left;\n",
       "    }\n",
       "\n",
       "    .dataframe tbody tr th {\n",
       "        vertical-align: top;\n",
       "    }\n",
       "</style>\n",
       "<table border=\"1\" class=\"dataframe\">\n",
       "  <thead>\n",
       "    <tr style=\"text-align: right;\">\n",
       "      <th></th>\n",
       "      <th>Store</th>\n",
       "      <th>DayOfWeek</th>\n",
       "      <th>Date</th>\n",
       "      <th>Sales</th>\n",
       "      <th>Customers</th>\n",
       "      <th>Open</th>\n",
       "      <th>Promo</th>\n",
       "      <th>StateHoliday</th>\n",
       "      <th>SchoolHoliday</th>\n",
       "    </tr>\n",
       "  </thead>\n",
       "  <tbody>\n",
       "    <tr>\n",
       "      <th>0</th>\n",
       "      <td>1</td>\n",
       "      <td>5</td>\n",
       "      <td>2015-07-31</td>\n",
       "      <td>5263</td>\n",
       "      <td>555</td>\n",
       "      <td>1</td>\n",
       "      <td>1</td>\n",
       "      <td>0</td>\n",
       "      <td>1</td>\n",
       "    </tr>\n",
       "    <tr>\n",
       "      <th>1</th>\n",
       "      <td>2</td>\n",
       "      <td>5</td>\n",
       "      <td>2015-07-31</td>\n",
       "      <td>6064</td>\n",
       "      <td>625</td>\n",
       "      <td>1</td>\n",
       "      <td>1</td>\n",
       "      <td>0</td>\n",
       "      <td>1</td>\n",
       "    </tr>\n",
       "    <tr>\n",
       "      <th>2</th>\n",
       "      <td>3</td>\n",
       "      <td>5</td>\n",
       "      <td>2015-07-31</td>\n",
       "      <td>8314</td>\n",
       "      <td>821</td>\n",
       "      <td>1</td>\n",
       "      <td>1</td>\n",
       "      <td>0</td>\n",
       "      <td>1</td>\n",
       "    </tr>\n",
       "    <tr>\n",
       "      <th>3</th>\n",
       "      <td>4</td>\n",
       "      <td>5</td>\n",
       "      <td>2015-07-31</td>\n",
       "      <td>13995</td>\n",
       "      <td>1498</td>\n",
       "      <td>1</td>\n",
       "      <td>1</td>\n",
       "      <td>0</td>\n",
       "      <td>1</td>\n",
       "    </tr>\n",
       "    <tr>\n",
       "      <th>4</th>\n",
       "      <td>5</td>\n",
       "      <td>5</td>\n",
       "      <td>2015-07-31</td>\n",
       "      <td>4822</td>\n",
       "      <td>559</td>\n",
       "      <td>1</td>\n",
       "      <td>1</td>\n",
       "      <td>0</td>\n",
       "      <td>1</td>\n",
       "    </tr>\n",
       "  </tbody>\n",
       "</table>\n",
       "</div>"
      ],
      "text/plain": [
       "   Store  DayOfWeek        Date  Sales  Customers  Open  Promo StateHoliday  \\\n",
       "0      1          5  2015-07-31   5263        555     1      1            0   \n",
       "1      2          5  2015-07-31   6064        625     1      1            0   \n",
       "2      3          5  2015-07-31   8314        821     1      1            0   \n",
       "3      4          5  2015-07-31  13995       1498     1      1            0   \n",
       "4      5          5  2015-07-31   4822        559     1      1            0   \n",
       "\n",
       "   SchoolHoliday  \n",
       "0              1  \n",
       "1              1  \n",
       "2              1  \n",
       "3              1  \n",
       "4              1  "
      ]
     },
     "execution_count": 62,
     "metadata": {},
     "output_type": "execute_result"
    }
   ],
   "source": [
    "train.head()\n",
    "\n"
   ]
  },
  {
   "cell_type": "code",
   "execution_count": 63,
   "metadata": {},
   "outputs": [
    {
     "data": {
      "text/html": [
       "<div>\n",
       "<style>\n",
       "    .dataframe thead tr:only-child th {\n",
       "        text-align: right;\n",
       "    }\n",
       "\n",
       "    .dataframe thead th {\n",
       "        text-align: left;\n",
       "    }\n",
       "\n",
       "    .dataframe tbody tr th {\n",
       "        vertical-align: top;\n",
       "    }\n",
       "</style>\n",
       "<table border=\"1\" class=\"dataframe\">\n",
       "  <thead>\n",
       "    <tr style=\"text-align: right;\">\n",
       "      <th></th>\n",
       "      <th>Sales</th>\n",
       "      <th>Customers</th>\n",
       "      <th>Promo</th>\n",
       "      <th>SchoolHoliday</th>\n",
       "    </tr>\n",
       "  </thead>\n",
       "  <tbody>\n",
       "    <tr>\n",
       "      <th>0</th>\n",
       "      <td>5263</td>\n",
       "      <td>555</td>\n",
       "      <td>1</td>\n",
       "      <td>1</td>\n",
       "    </tr>\n",
       "    <tr>\n",
       "      <th>1</th>\n",
       "      <td>6064</td>\n",
       "      <td>625</td>\n",
       "      <td>1</td>\n",
       "      <td>1</td>\n",
       "    </tr>\n",
       "    <tr>\n",
       "      <th>2</th>\n",
       "      <td>8314</td>\n",
       "      <td>821</td>\n",
       "      <td>1</td>\n",
       "      <td>1</td>\n",
       "    </tr>\n",
       "    <tr>\n",
       "      <th>3</th>\n",
       "      <td>13995</td>\n",
       "      <td>1498</td>\n",
       "      <td>1</td>\n",
       "      <td>1</td>\n",
       "    </tr>\n",
       "    <tr>\n",
       "      <th>4</th>\n",
       "      <td>4822</td>\n",
       "      <td>559</td>\n",
       "      <td>1</td>\n",
       "      <td>1</td>\n",
       "    </tr>\n",
       "    <tr>\n",
       "      <th>5</th>\n",
       "      <td>5651</td>\n",
       "      <td>589</td>\n",
       "      <td>1</td>\n",
       "      <td>1</td>\n",
       "    </tr>\n",
       "    <tr>\n",
       "      <th>6</th>\n",
       "      <td>15344</td>\n",
       "      <td>1414</td>\n",
       "      <td>1</td>\n",
       "      <td>1</td>\n",
       "    </tr>\n",
       "    <tr>\n",
       "      <th>7</th>\n",
       "      <td>8492</td>\n",
       "      <td>833</td>\n",
       "      <td>1</td>\n",
       "      <td>1</td>\n",
       "    </tr>\n",
       "    <tr>\n",
       "      <th>8</th>\n",
       "      <td>8565</td>\n",
       "      <td>687</td>\n",
       "      <td>1</td>\n",
       "      <td>1</td>\n",
       "    </tr>\n",
       "    <tr>\n",
       "      <th>9</th>\n",
       "      <td>7185</td>\n",
       "      <td>681</td>\n",
       "      <td>1</td>\n",
       "      <td>1</td>\n",
       "    </tr>\n",
       "    <tr>\n",
       "      <th>10</th>\n",
       "      <td>10457</td>\n",
       "      <td>1236</td>\n",
       "      <td>1</td>\n",
       "      <td>1</td>\n",
       "    </tr>\n",
       "    <tr>\n",
       "      <th>11</th>\n",
       "      <td>8959</td>\n",
       "      <td>962</td>\n",
       "      <td>1</td>\n",
       "      <td>1</td>\n",
       "    </tr>\n",
       "    <tr>\n",
       "      <th>12</th>\n",
       "      <td>8821</td>\n",
       "      <td>568</td>\n",
       "      <td>1</td>\n",
       "      <td>0</td>\n",
       "    </tr>\n",
       "    <tr>\n",
       "      <th>13</th>\n",
       "      <td>6544</td>\n",
       "      <td>710</td>\n",
       "      <td>1</td>\n",
       "      <td>1</td>\n",
       "    </tr>\n",
       "    <tr>\n",
       "      <th>14</th>\n",
       "      <td>9191</td>\n",
       "      <td>766</td>\n",
       "      <td>1</td>\n",
       "      <td>1</td>\n",
       "    </tr>\n",
       "    <tr>\n",
       "      <th>15</th>\n",
       "      <td>10231</td>\n",
       "      <td>979</td>\n",
       "      <td>1</td>\n",
       "      <td>1</td>\n",
       "    </tr>\n",
       "    <tr>\n",
       "      <th>16</th>\n",
       "      <td>8430</td>\n",
       "      <td>946</td>\n",
       "      <td>1</td>\n",
       "      <td>1</td>\n",
       "    </tr>\n",
       "    <tr>\n",
       "      <th>17</th>\n",
       "      <td>10071</td>\n",
       "      <td>936</td>\n",
       "      <td>1</td>\n",
       "      <td>1</td>\n",
       "    </tr>\n",
       "    <tr>\n",
       "      <th>18</th>\n",
       "      <td>8234</td>\n",
       "      <td>718</td>\n",
       "      <td>1</td>\n",
       "      <td>1</td>\n",
       "    </tr>\n",
       "    <tr>\n",
       "      <th>19</th>\n",
       "      <td>9593</td>\n",
       "      <td>974</td>\n",
       "      <td>1</td>\n",
       "      <td>0</td>\n",
       "    </tr>\n",
       "    <tr>\n",
       "      <th>20</th>\n",
       "      <td>9515</td>\n",
       "      <td>682</td>\n",
       "      <td>1</td>\n",
       "      <td>1</td>\n",
       "    </tr>\n",
       "    <tr>\n",
       "      <th>21</th>\n",
       "      <td>6566</td>\n",
       "      <td>633</td>\n",
       "      <td>1</td>\n",
       "      <td>0</td>\n",
       "    </tr>\n",
       "    <tr>\n",
       "      <th>22</th>\n",
       "      <td>7273</td>\n",
       "      <td>560</td>\n",
       "      <td>1</td>\n",
       "      <td>1</td>\n",
       "    </tr>\n",
       "    <tr>\n",
       "      <th>23</th>\n",
       "      <td>14190</td>\n",
       "      <td>1082</td>\n",
       "      <td>1</td>\n",
       "      <td>1</td>\n",
       "    </tr>\n",
       "    <tr>\n",
       "      <th>24</th>\n",
       "      <td>14180</td>\n",
       "      <td>1586</td>\n",
       "      <td>1</td>\n",
       "      <td>1</td>\n",
       "    </tr>\n",
       "    <tr>\n",
       "      <th>25</th>\n",
       "      <td>7818</td>\n",
       "      <td>611</td>\n",
       "      <td>1</td>\n",
       "      <td>1</td>\n",
       "    </tr>\n",
       "    <tr>\n",
       "      <th>26</th>\n",
       "      <td>13213</td>\n",
       "      <td>1263</td>\n",
       "      <td>1</td>\n",
       "      <td>1</td>\n",
       "    </tr>\n",
       "    <tr>\n",
       "      <th>27</th>\n",
       "      <td>7301</td>\n",
       "      <td>663</td>\n",
       "      <td>1</td>\n",
       "      <td>1</td>\n",
       "    </tr>\n",
       "    <tr>\n",
       "      <th>28</th>\n",
       "      <td>9411</td>\n",
       "      <td>737</td>\n",
       "      <td>1</td>\n",
       "      <td>1</td>\n",
       "    </tr>\n",
       "    <tr>\n",
       "      <th>29</th>\n",
       "      <td>4776</td>\n",
       "      <td>625</td>\n",
       "      <td>1</td>\n",
       "      <td>1</td>\n",
       "    </tr>\n",
       "    <tr>\n",
       "      <th>...</th>\n",
       "      <td>...</td>\n",
       "      <td>...</td>\n",
       "      <td>...</td>\n",
       "      <td>...</td>\n",
       "    </tr>\n",
       "    <tr>\n",
       "      <th>1017179</th>\n",
       "      <td>0</td>\n",
       "      <td>0</td>\n",
       "      <td>0</td>\n",
       "      <td>1</td>\n",
       "    </tr>\n",
       "    <tr>\n",
       "      <th>1017180</th>\n",
       "      <td>0</td>\n",
       "      <td>0</td>\n",
       "      <td>0</td>\n",
       "      <td>1</td>\n",
       "    </tr>\n",
       "    <tr>\n",
       "      <th>1017181</th>\n",
       "      <td>0</td>\n",
       "      <td>0</td>\n",
       "      <td>0</td>\n",
       "      <td>1</td>\n",
       "    </tr>\n",
       "    <tr>\n",
       "      <th>1017182</th>\n",
       "      <td>0</td>\n",
       "      <td>0</td>\n",
       "      <td>0</td>\n",
       "      <td>1</td>\n",
       "    </tr>\n",
       "    <tr>\n",
       "      <th>1017183</th>\n",
       "      <td>0</td>\n",
       "      <td>0</td>\n",
       "      <td>0</td>\n",
       "      <td>1</td>\n",
       "    </tr>\n",
       "    <tr>\n",
       "      <th>1017184</th>\n",
       "      <td>0</td>\n",
       "      <td>0</td>\n",
       "      <td>0</td>\n",
       "      <td>1</td>\n",
       "    </tr>\n",
       "    <tr>\n",
       "      <th>1017185</th>\n",
       "      <td>0</td>\n",
       "      <td>0</td>\n",
       "      <td>0</td>\n",
       "      <td>1</td>\n",
       "    </tr>\n",
       "    <tr>\n",
       "      <th>1017186</th>\n",
       "      <td>0</td>\n",
       "      <td>0</td>\n",
       "      <td>0</td>\n",
       "      <td>1</td>\n",
       "    </tr>\n",
       "    <tr>\n",
       "      <th>1017187</th>\n",
       "      <td>0</td>\n",
       "      <td>0</td>\n",
       "      <td>0</td>\n",
       "      <td>1</td>\n",
       "    </tr>\n",
       "    <tr>\n",
       "      <th>1017188</th>\n",
       "      <td>0</td>\n",
       "      <td>0</td>\n",
       "      <td>0</td>\n",
       "      <td>1</td>\n",
       "    </tr>\n",
       "    <tr>\n",
       "      <th>1017189</th>\n",
       "      <td>0</td>\n",
       "      <td>0</td>\n",
       "      <td>0</td>\n",
       "      <td>1</td>\n",
       "    </tr>\n",
       "    <tr>\n",
       "      <th>1017190</th>\n",
       "      <td>5961</td>\n",
       "      <td>1405</td>\n",
       "      <td>0</td>\n",
       "      <td>1</td>\n",
       "    </tr>\n",
       "    <tr>\n",
       "      <th>1017191</th>\n",
       "      <td>0</td>\n",
       "      <td>0</td>\n",
       "      <td>0</td>\n",
       "      <td>1</td>\n",
       "    </tr>\n",
       "    <tr>\n",
       "      <th>1017192</th>\n",
       "      <td>0</td>\n",
       "      <td>0</td>\n",
       "      <td>0</td>\n",
       "      <td>1</td>\n",
       "    </tr>\n",
       "    <tr>\n",
       "      <th>1017193</th>\n",
       "      <td>0</td>\n",
       "      <td>0</td>\n",
       "      <td>0</td>\n",
       "      <td>1</td>\n",
       "    </tr>\n",
       "    <tr>\n",
       "      <th>1017194</th>\n",
       "      <td>0</td>\n",
       "      <td>0</td>\n",
       "      <td>0</td>\n",
       "      <td>1</td>\n",
       "    </tr>\n",
       "    <tr>\n",
       "      <th>1017195</th>\n",
       "      <td>0</td>\n",
       "      <td>0</td>\n",
       "      <td>0</td>\n",
       "      <td>1</td>\n",
       "    </tr>\n",
       "    <tr>\n",
       "      <th>1017196</th>\n",
       "      <td>0</td>\n",
       "      <td>0</td>\n",
       "      <td>0</td>\n",
       "      <td>1</td>\n",
       "    </tr>\n",
       "    <tr>\n",
       "      <th>1017197</th>\n",
       "      <td>0</td>\n",
       "      <td>0</td>\n",
       "      <td>0</td>\n",
       "      <td>1</td>\n",
       "    </tr>\n",
       "    <tr>\n",
       "      <th>1017198</th>\n",
       "      <td>0</td>\n",
       "      <td>0</td>\n",
       "      <td>0</td>\n",
       "      <td>1</td>\n",
       "    </tr>\n",
       "    <tr>\n",
       "      <th>1017199</th>\n",
       "      <td>0</td>\n",
       "      <td>0</td>\n",
       "      <td>0</td>\n",
       "      <td>1</td>\n",
       "    </tr>\n",
       "    <tr>\n",
       "      <th>1017200</th>\n",
       "      <td>0</td>\n",
       "      <td>0</td>\n",
       "      <td>0</td>\n",
       "      <td>1</td>\n",
       "    </tr>\n",
       "    <tr>\n",
       "      <th>1017201</th>\n",
       "      <td>0</td>\n",
       "      <td>0</td>\n",
       "      <td>0</td>\n",
       "      <td>1</td>\n",
       "    </tr>\n",
       "    <tr>\n",
       "      <th>1017202</th>\n",
       "      <td>0</td>\n",
       "      <td>0</td>\n",
       "      <td>0</td>\n",
       "      <td>1</td>\n",
       "    </tr>\n",
       "    <tr>\n",
       "      <th>1017203</th>\n",
       "      <td>0</td>\n",
       "      <td>0</td>\n",
       "      <td>0</td>\n",
       "      <td>1</td>\n",
       "    </tr>\n",
       "    <tr>\n",
       "      <th>1017204</th>\n",
       "      <td>0</td>\n",
       "      <td>0</td>\n",
       "      <td>0</td>\n",
       "      <td>1</td>\n",
       "    </tr>\n",
       "    <tr>\n",
       "      <th>1017205</th>\n",
       "      <td>0</td>\n",
       "      <td>0</td>\n",
       "      <td>0</td>\n",
       "      <td>1</td>\n",
       "    </tr>\n",
       "    <tr>\n",
       "      <th>1017206</th>\n",
       "      <td>0</td>\n",
       "      <td>0</td>\n",
       "      <td>0</td>\n",
       "      <td>1</td>\n",
       "    </tr>\n",
       "    <tr>\n",
       "      <th>1017207</th>\n",
       "      <td>0</td>\n",
       "      <td>0</td>\n",
       "      <td>0</td>\n",
       "      <td>1</td>\n",
       "    </tr>\n",
       "    <tr>\n",
       "      <th>1017208</th>\n",
       "      <td>0</td>\n",
       "      <td>0</td>\n",
       "      <td>0</td>\n",
       "      <td>1</td>\n",
       "    </tr>\n",
       "  </tbody>\n",
       "</table>\n",
       "<p>1017209 rows × 4 columns</p>\n",
       "</div>"
      ],
      "text/plain": [
       "         Sales  Customers  Promo  SchoolHoliday\n",
       "0         5263        555      1              1\n",
       "1         6064        625      1              1\n",
       "2         8314        821      1              1\n",
       "3        13995       1498      1              1\n",
       "4         4822        559      1              1\n",
       "5         5651        589      1              1\n",
       "6        15344       1414      1              1\n",
       "7         8492        833      1              1\n",
       "8         8565        687      1              1\n",
       "9         7185        681      1              1\n",
       "10       10457       1236      1              1\n",
       "11        8959        962      1              1\n",
       "12        8821        568      1              0\n",
       "13        6544        710      1              1\n",
       "14        9191        766      1              1\n",
       "15       10231        979      1              1\n",
       "16        8430        946      1              1\n",
       "17       10071        936      1              1\n",
       "18        8234        718      1              1\n",
       "19        9593        974      1              0\n",
       "20        9515        682      1              1\n",
       "21        6566        633      1              0\n",
       "22        7273        560      1              1\n",
       "23       14190       1082      1              1\n",
       "24       14180       1586      1              1\n",
       "25        7818        611      1              1\n",
       "26       13213       1263      1              1\n",
       "27        7301        663      1              1\n",
       "28        9411        737      1              1\n",
       "29        4776        625      1              1\n",
       "...        ...        ...    ...            ...\n",
       "1017179      0          0      0              1\n",
       "1017180      0          0      0              1\n",
       "1017181      0          0      0              1\n",
       "1017182      0          0      0              1\n",
       "1017183      0          0      0              1\n",
       "1017184      0          0      0              1\n",
       "1017185      0          0      0              1\n",
       "1017186      0          0      0              1\n",
       "1017187      0          0      0              1\n",
       "1017188      0          0      0              1\n",
       "1017189      0          0      0              1\n",
       "1017190   5961       1405      0              1\n",
       "1017191      0          0      0              1\n",
       "1017192      0          0      0              1\n",
       "1017193      0          0      0              1\n",
       "1017194      0          0      0              1\n",
       "1017195      0          0      0              1\n",
       "1017196      0          0      0              1\n",
       "1017197      0          0      0              1\n",
       "1017198      0          0      0              1\n",
       "1017199      0          0      0              1\n",
       "1017200      0          0      0              1\n",
       "1017201      0          0      0              1\n",
       "1017202      0          0      0              1\n",
       "1017203      0          0      0              1\n",
       "1017204      0          0      0              1\n",
       "1017205      0          0      0              1\n",
       "1017206      0          0      0              1\n",
       "1017207      0          0      0              1\n",
       "1017208      0          0      0              1\n",
       "\n",
       "[1017209 rows x 4 columns]"
      ]
     },
     "execution_count": 63,
     "metadata": {},
     "output_type": "execute_result"
    }
   ],
   "source": [
    "train[['Sales','Customers', 'Promo','SchoolHoliday']]\n",
    "\n",
    "train[[Sales]]"
   ]
  },
  {
   "cell_type": "code",
   "execution_count": null,
   "metadata": {
    "collapsed": true
   },
   "outputs": [],
   "source": []
  },
  {
   "cell_type": "code",
   "execution_count": null,
   "metadata": {
    "collapsed": true
   },
   "outputs": [],
   "source": []
  },
  {
   "cell_type": "code",
   "execution_count": null,
   "metadata": {
    "collapsed": true
   },
   "outputs": [],
   "source": []
  }
 ],
 "metadata": {
  "kernelspec": {
   "display_name": "Python 3",
   "language": "python",
   "name": "python3"
  },
  "language_info": {
   "codemirror_mode": {
    "name": "ipython",
    "version": 3
   },
   "file_extension": ".py",
   "mimetype": "text/x-python",
   "name": "python",
   "nbconvert_exporter": "python",
   "pygments_lexer": "ipython3",
   "version": "3.6.2"
  }
 },
 "nbformat": 4,
 "nbformat_minor": 2
}
