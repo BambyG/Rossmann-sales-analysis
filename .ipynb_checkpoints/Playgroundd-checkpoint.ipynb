{
 "cells": [
  {
   "cell_type": "code",
   "execution_count": 45,
   "metadata": {},
   "outputs": [
    {
     "data": {
      "text/html": [
       "<script>requirejs.config({paths: { 'plotly': ['https://cdn.plot.ly/plotly-latest.min']},});if(!window.Plotly) {{require(['plotly'],function(plotly) {window.Plotly=plotly;});}}</script>"
      ],
      "text/vnd.plotly.v1+html": [
       "<script>requirejs.config({paths: { 'plotly': ['https://cdn.plot.ly/plotly-latest.min']},});if(!window.Plotly) {{require(['plotly'],function(plotly) {window.Plotly=plotly;});}}</script>"
      ]
     },
     "metadata": {},
     "output_type": "display_data"
    },
    {
     "name": "stderr",
     "output_type": "stream",
     "text": [
      "IOPub data rate exceeded.\n",
      "The notebook server will temporarily stop sending output\n",
      "to the client in order to avoid crashing it.\n",
      "To change this limit, set the config variable\n",
      "`--NotebookApp.iopub_data_rate_limit`.\n"
     ]
    }
   ],
   "source": [
    "import numpy as np\n",
    "import pandas as pd\n",
    "import matplotlib.pyplot as plt\n",
    "import seaborn as sns\n",
    "import missingno as msno\n",
    "import calendar\n",
    "%matplotlib inline\n",
    "\n",
    "from plotly import __version__\n",
    "from plotly.offline import download_plotlyjs, init_notebook_mode, plot, iplot\n",
    "from plotly import tools\n",
    "import plotly.graph_objs as go \n",
    "import cufflinks as cf\n",
    "init_notebook_mode(connected=True)\n",
    "cf.go_offline()\n",
    "\n"
   ]
  },
  {
   "cell_type": "code",
   "execution_count": 46,
   "metadata": {},
   "outputs": [
    {
     "name": "stderr",
     "output_type": "stream",
     "text": [
      "/usr/local/lib/python3.6/site-packages/IPython/core/interactiveshell.py:2698: DtypeWarning:\n",
      "\n",
      "Columns (7) have mixed types. Specify dtype option on import or set low_memory=False.\n",
      "\n"
     ]
    }
   ],
   "source": [
    "store = pd.read_csv('store.csv')\n",
    "train = pd.read_csv('train.csv')"
   ]
  },
  {
   "cell_type": "code",
   "execution_count": 47,
   "metadata": {},
   "outputs": [
    {
     "data": {
      "text/html": [
       "<div>\n",
       "<style>\n",
       "    .dataframe thead tr:only-child th {\n",
       "        text-align: right;\n",
       "    }\n",
       "\n",
       "    .dataframe thead th {\n",
       "        text-align: left;\n",
       "    }\n",
       "\n",
       "    .dataframe tbody tr th {\n",
       "        vertical-align: top;\n",
       "    }\n",
       "</style>\n",
       "<table border=\"1\" class=\"dataframe\">\n",
       "  <thead>\n",
       "    <tr style=\"text-align: right;\">\n",
       "      <th></th>\n",
       "      <th>Store</th>\n",
       "      <th>StoreType</th>\n",
       "      <th>Assortment</th>\n",
       "      <th>CompetitionDistance</th>\n",
       "      <th>CompetitionOpenSinceMonth</th>\n",
       "      <th>CompetitionOpenSinceYear</th>\n",
       "      <th>Promo2</th>\n",
       "      <th>Promo2SinceWeek</th>\n",
       "      <th>Promo2SinceYear</th>\n",
       "      <th>PromoInterval</th>\n",
       "    </tr>\n",
       "  </thead>\n",
       "  <tbody>\n",
       "    <tr>\n",
       "      <th>0</th>\n",
       "      <td>1</td>\n",
       "      <td>c</td>\n",
       "      <td>a</td>\n",
       "      <td>1270.0</td>\n",
       "      <td>9.0</td>\n",
       "      <td>2008.0</td>\n",
       "      <td>0</td>\n",
       "      <td>NaN</td>\n",
       "      <td>NaN</td>\n",
       "      <td>NaN</td>\n",
       "    </tr>\n",
       "    <tr>\n",
       "      <th>1</th>\n",
       "      <td>2</td>\n",
       "      <td>a</td>\n",
       "      <td>a</td>\n",
       "      <td>570.0</td>\n",
       "      <td>11.0</td>\n",
       "      <td>2007.0</td>\n",
       "      <td>1</td>\n",
       "      <td>13.0</td>\n",
       "      <td>2010.0</td>\n",
       "      <td>Jan,Apr,Jul,Oct</td>\n",
       "    </tr>\n",
       "    <tr>\n",
       "      <th>2</th>\n",
       "      <td>3</td>\n",
       "      <td>a</td>\n",
       "      <td>a</td>\n",
       "      <td>14130.0</td>\n",
       "      <td>12.0</td>\n",
       "      <td>2006.0</td>\n",
       "      <td>1</td>\n",
       "      <td>14.0</td>\n",
       "      <td>2011.0</td>\n",
       "      <td>Jan,Apr,Jul,Oct</td>\n",
       "    </tr>\n",
       "    <tr>\n",
       "      <th>3</th>\n",
       "      <td>4</td>\n",
       "      <td>c</td>\n",
       "      <td>c</td>\n",
       "      <td>620.0</td>\n",
       "      <td>9.0</td>\n",
       "      <td>2009.0</td>\n",
       "      <td>0</td>\n",
       "      <td>NaN</td>\n",
       "      <td>NaN</td>\n",
       "      <td>NaN</td>\n",
       "    </tr>\n",
       "    <tr>\n",
       "      <th>4</th>\n",
       "      <td>5</td>\n",
       "      <td>a</td>\n",
       "      <td>a</td>\n",
       "      <td>29910.0</td>\n",
       "      <td>4.0</td>\n",
       "      <td>2015.0</td>\n",
       "      <td>0</td>\n",
       "      <td>NaN</td>\n",
       "      <td>NaN</td>\n",
       "      <td>NaN</td>\n",
       "    </tr>\n",
       "  </tbody>\n",
       "</table>\n",
       "</div>"
      ],
      "text/plain": [
       "   Store StoreType Assortment  CompetitionDistance  CompetitionOpenSinceMonth  \\\n",
       "0      1         c          a               1270.0                        9.0   \n",
       "1      2         a          a                570.0                       11.0   \n",
       "2      3         a          a              14130.0                       12.0   \n",
       "3      4         c          c                620.0                        9.0   \n",
       "4      5         a          a              29910.0                        4.0   \n",
       "\n",
       "   CompetitionOpenSinceYear  Promo2  Promo2SinceWeek  Promo2SinceYear  \\\n",
       "0                    2008.0       0              NaN              NaN   \n",
       "1                    2007.0       1             13.0           2010.0   \n",
       "2                    2006.0       1             14.0           2011.0   \n",
       "3                    2009.0       0              NaN              NaN   \n",
       "4                    2015.0       0              NaN              NaN   \n",
       "\n",
       "     PromoInterval  \n",
       "0              NaN  \n",
       "1  Jan,Apr,Jul,Oct  \n",
       "2  Jan,Apr,Jul,Oct  \n",
       "3              NaN  \n",
       "4              NaN  "
      ]
     },
     "execution_count": 47,
     "metadata": {},
     "output_type": "execute_result"
    }
   ],
   "source": [
    "store.head()"
   ]
  },
  {
   "cell_type": "code",
   "execution_count": 48,
   "metadata": {},
   "outputs": [
    {
     "data": {
      "text/html": [
       "<div>\n",
       "<style>\n",
       "    .dataframe thead tr:only-child th {\n",
       "        text-align: right;\n",
       "    }\n",
       "\n",
       "    .dataframe thead th {\n",
       "        text-align: left;\n",
       "    }\n",
       "\n",
       "    .dataframe tbody tr th {\n",
       "        vertical-align: top;\n",
       "    }\n",
       "</style>\n",
       "<table border=\"1\" class=\"dataframe\">\n",
       "  <thead>\n",
       "    <tr style=\"text-align: right;\">\n",
       "      <th></th>\n",
       "      <th>Store</th>\n",
       "      <th>DayOfWeek</th>\n",
       "      <th>Date</th>\n",
       "      <th>Sales</th>\n",
       "      <th>Customers</th>\n",
       "      <th>Open</th>\n",
       "      <th>Promo</th>\n",
       "      <th>StateHoliday</th>\n",
       "      <th>SchoolHoliday</th>\n",
       "    </tr>\n",
       "  </thead>\n",
       "  <tbody>\n",
       "    <tr>\n",
       "      <th>0</th>\n",
       "      <td>1</td>\n",
       "      <td>5</td>\n",
       "      <td>2015-07-31</td>\n",
       "      <td>5263</td>\n",
       "      <td>555</td>\n",
       "      <td>1</td>\n",
       "      <td>1</td>\n",
       "      <td>0</td>\n",
       "      <td>1</td>\n",
       "    </tr>\n",
       "    <tr>\n",
       "      <th>1</th>\n",
       "      <td>2</td>\n",
       "      <td>5</td>\n",
       "      <td>2015-07-31</td>\n",
       "      <td>6064</td>\n",
       "      <td>625</td>\n",
       "      <td>1</td>\n",
       "      <td>1</td>\n",
       "      <td>0</td>\n",
       "      <td>1</td>\n",
       "    </tr>\n",
       "    <tr>\n",
       "      <th>2</th>\n",
       "      <td>3</td>\n",
       "      <td>5</td>\n",
       "      <td>2015-07-31</td>\n",
       "      <td>8314</td>\n",
       "      <td>821</td>\n",
       "      <td>1</td>\n",
       "      <td>1</td>\n",
       "      <td>0</td>\n",
       "      <td>1</td>\n",
       "    </tr>\n",
       "    <tr>\n",
       "      <th>3</th>\n",
       "      <td>4</td>\n",
       "      <td>5</td>\n",
       "      <td>2015-07-31</td>\n",
       "      <td>13995</td>\n",
       "      <td>1498</td>\n",
       "      <td>1</td>\n",
       "      <td>1</td>\n",
       "      <td>0</td>\n",
       "      <td>1</td>\n",
       "    </tr>\n",
       "    <tr>\n",
       "      <th>4</th>\n",
       "      <td>5</td>\n",
       "      <td>5</td>\n",
       "      <td>2015-07-31</td>\n",
       "      <td>4822</td>\n",
       "      <td>559</td>\n",
       "      <td>1</td>\n",
       "      <td>1</td>\n",
       "      <td>0</td>\n",
       "      <td>1</td>\n",
       "    </tr>\n",
       "  </tbody>\n",
       "</table>\n",
       "</div>"
      ],
      "text/plain": [
       "   Store  DayOfWeek       Date  Sales  Customers  Open  Promo StateHoliday  \\\n",
       "0      1          5 2015-07-31   5263        555     1      1            0   \n",
       "1      2          5 2015-07-31   6064        625     1      1            0   \n",
       "2      3          5 2015-07-31   8314        821     1      1            0   \n",
       "3      4          5 2015-07-31  13995       1498     1      1            0   \n",
       "4      5          5 2015-07-31   4822        559     1      1            0   \n",
       "\n",
       "   SchoolHoliday  \n",
       "0              1  \n",
       "1              1  \n",
       "2              1  \n",
       "3              1  \n",
       "4              1  "
      ]
     },
     "execution_count": 48,
     "metadata": {},
     "output_type": "execute_result"
    }
   ],
   "source": [
    "train['Date'] = pd.to_datetime(train['Date'])\n",
    "train.head()"
   ]
  },
  {
   "cell_type": "code",
   "execution_count": 7,
   "metadata": {},
   "outputs": [
    {
     "name": "stdout",
     "output_type": "stream",
     "text": [
      "<class 'pandas.core.frame.DataFrame'>\n",
      "RangeIndex: 1115 entries, 0 to 1114\n",
      "Data columns (total 10 columns):\n",
      "Store                        1115 non-null int64\n",
      "StoreType                    1115 non-null object\n",
      "Assortment                   1115 non-null object\n",
      "CompetitionDistance          1112 non-null float64\n",
      "CompetitionOpenSinceMonth    761 non-null float64\n",
      "CompetitionOpenSinceYear     761 non-null float64\n",
      "Promo2                       1115 non-null int64\n",
      "Promo2SinceWeek              571 non-null float64\n",
      "Promo2SinceYear              571 non-null float64\n",
      "PromoInterval                571 non-null object\n",
      "dtypes: float64(5), int64(2), object(3)\n",
      "memory usage: 87.2+ KB\n"
     ]
    }
   ],
   "source": [
    "store.info()"
   ]
  },
  {
   "cell_type": "code",
   "execution_count": 8,
   "metadata": {},
   "outputs": [
    {
     "name": "stdout",
     "output_type": "stream",
     "text": [
      "<class 'pandas.core.frame.DataFrame'>\n",
      "RangeIndex: 1115 entries, 0 to 1114\n",
      "Data columns (total 10 columns):\n",
      "Store                        1115 non-null int64\n",
      "StoreType                    1115 non-null object\n",
      "Assortment                   1115 non-null object\n",
      "CompetitionDistance          1112 non-null float64\n",
      "CompetitionOpenSinceMonth    761 non-null float64\n",
      "CompetitionOpenSinceYear     761 non-null float64\n",
      "Promo2                       1115 non-null int64\n",
      "Promo2SinceWeek              571 non-null float64\n",
      "Promo2SinceYear              571 non-null float64\n",
      "PromoInterval                571 non-null object\n",
      "dtypes: float64(5), int64(2), object(3)\n",
      "memory usage: 87.2+ KB\n"
     ]
    }
   ],
   "source": [
    "store.drop_duplicates()\n",
    "store.info()"
   ]
  },
  {
   "cell_type": "code",
   "execution_count": 6,
   "metadata": {},
   "outputs": [
    {
     "data": {
      "text/html": [
       "<div>\n",
       "<style>\n",
       "    .dataframe thead tr:only-child th {\n",
       "        text-align: right;\n",
       "    }\n",
       "\n",
       "    .dataframe thead th {\n",
       "        text-align: left;\n",
       "    }\n",
       "\n",
       "    .dataframe tbody tr th {\n",
       "        vertical-align: top;\n",
       "    }\n",
       "</style>\n",
       "<table border=\"1\" class=\"dataframe\">\n",
       "  <thead>\n",
       "    <tr style=\"text-align: right;\">\n",
       "      <th></th>\n",
       "      <th>Store</th>\n",
       "      <th>DayOfWeek</th>\n",
       "      <th>Sales</th>\n",
       "      <th>Customers</th>\n",
       "      <th>Open</th>\n",
       "      <th>Promo</th>\n",
       "      <th>SchoolHoliday</th>\n",
       "    </tr>\n",
       "  </thead>\n",
       "  <tbody>\n",
       "    <tr>\n",
       "      <th>count</th>\n",
       "      <td>1.017209e+06</td>\n",
       "      <td>1.017209e+06</td>\n",
       "      <td>1.017209e+06</td>\n",
       "      <td>1.017209e+06</td>\n",
       "      <td>1.017209e+06</td>\n",
       "      <td>1.017209e+06</td>\n",
       "      <td>1.017209e+06</td>\n",
       "    </tr>\n",
       "    <tr>\n",
       "      <th>mean</th>\n",
       "      <td>5.584297e+02</td>\n",
       "      <td>3.998341e+00</td>\n",
       "      <td>5.773819e+03</td>\n",
       "      <td>6.331459e+02</td>\n",
       "      <td>8.301067e-01</td>\n",
       "      <td>3.815145e-01</td>\n",
       "      <td>1.786467e-01</td>\n",
       "    </tr>\n",
       "    <tr>\n",
       "      <th>std</th>\n",
       "      <td>3.219087e+02</td>\n",
       "      <td>1.997391e+00</td>\n",
       "      <td>3.849926e+03</td>\n",
       "      <td>4.644117e+02</td>\n",
       "      <td>3.755392e-01</td>\n",
       "      <td>4.857586e-01</td>\n",
       "      <td>3.830564e-01</td>\n",
       "    </tr>\n",
       "    <tr>\n",
       "      <th>min</th>\n",
       "      <td>1.000000e+00</td>\n",
       "      <td>1.000000e+00</td>\n",
       "      <td>0.000000e+00</td>\n",
       "      <td>0.000000e+00</td>\n",
       "      <td>0.000000e+00</td>\n",
       "      <td>0.000000e+00</td>\n",
       "      <td>0.000000e+00</td>\n",
       "    </tr>\n",
       "    <tr>\n",
       "      <th>25%</th>\n",
       "      <td>2.800000e+02</td>\n",
       "      <td>2.000000e+00</td>\n",
       "      <td>3.727000e+03</td>\n",
       "      <td>4.050000e+02</td>\n",
       "      <td>1.000000e+00</td>\n",
       "      <td>0.000000e+00</td>\n",
       "      <td>0.000000e+00</td>\n",
       "    </tr>\n",
       "    <tr>\n",
       "      <th>50%</th>\n",
       "      <td>5.580000e+02</td>\n",
       "      <td>4.000000e+00</td>\n",
       "      <td>5.744000e+03</td>\n",
       "      <td>6.090000e+02</td>\n",
       "      <td>1.000000e+00</td>\n",
       "      <td>0.000000e+00</td>\n",
       "      <td>0.000000e+00</td>\n",
       "    </tr>\n",
       "    <tr>\n",
       "      <th>75%</th>\n",
       "      <td>8.380000e+02</td>\n",
       "      <td>6.000000e+00</td>\n",
       "      <td>7.856000e+03</td>\n",
       "      <td>8.370000e+02</td>\n",
       "      <td>1.000000e+00</td>\n",
       "      <td>1.000000e+00</td>\n",
       "      <td>0.000000e+00</td>\n",
       "    </tr>\n",
       "    <tr>\n",
       "      <th>max</th>\n",
       "      <td>1.115000e+03</td>\n",
       "      <td>7.000000e+00</td>\n",
       "      <td>4.155100e+04</td>\n",
       "      <td>7.388000e+03</td>\n",
       "      <td>1.000000e+00</td>\n",
       "      <td>1.000000e+00</td>\n",
       "      <td>1.000000e+00</td>\n",
       "    </tr>\n",
       "  </tbody>\n",
       "</table>\n",
       "</div>"
      ],
      "text/plain": [
       "              Store     DayOfWeek         Sales     Customers          Open  \\\n",
       "count  1.017209e+06  1.017209e+06  1.017209e+06  1.017209e+06  1.017209e+06   \n",
       "mean   5.584297e+02  3.998341e+00  5.773819e+03  6.331459e+02  8.301067e-01   \n",
       "std    3.219087e+02  1.997391e+00  3.849926e+03  4.644117e+02  3.755392e-01   \n",
       "min    1.000000e+00  1.000000e+00  0.000000e+00  0.000000e+00  0.000000e+00   \n",
       "25%    2.800000e+02  2.000000e+00  3.727000e+03  4.050000e+02  1.000000e+00   \n",
       "50%    5.580000e+02  4.000000e+00  5.744000e+03  6.090000e+02  1.000000e+00   \n",
       "75%    8.380000e+02  6.000000e+00  7.856000e+03  8.370000e+02  1.000000e+00   \n",
       "max    1.115000e+03  7.000000e+00  4.155100e+04  7.388000e+03  1.000000e+00   \n",
       "\n",
       "              Promo  SchoolHoliday  \n",
       "count  1.017209e+06   1.017209e+06  \n",
       "mean   3.815145e-01   1.786467e-01  \n",
       "std    4.857586e-01   3.830564e-01  \n",
       "min    0.000000e+00   0.000000e+00  \n",
       "25%    0.000000e+00   0.000000e+00  \n",
       "50%    0.000000e+00   0.000000e+00  \n",
       "75%    1.000000e+00   0.000000e+00  \n",
       "max    1.000000e+00   1.000000e+00  "
      ]
     },
     "execution_count": 6,
     "metadata": {},
     "output_type": "execute_result"
    }
   ],
   "source": [
    "train.describe()"
   ]
  },
  {
   "cell_type": "code",
   "execution_count": 7,
   "metadata": {},
   "outputs": [
    {
     "data": {
      "text/html": [
       "<div>\n",
       "<style>\n",
       "    .dataframe thead tr:only-child th {\n",
       "        text-align: right;\n",
       "    }\n",
       "\n",
       "    .dataframe thead th {\n",
       "        text-align: left;\n",
       "    }\n",
       "\n",
       "    .dataframe tbody tr th {\n",
       "        vertical-align: top;\n",
       "    }\n",
       "</style>\n",
       "<table border=\"1\" class=\"dataframe\">\n",
       "  <thead>\n",
       "    <tr style=\"text-align: right;\">\n",
       "      <th></th>\n",
       "      <th>Store</th>\n",
       "      <th>CompetitionDistance</th>\n",
       "      <th>CompetitionOpenSinceMonth</th>\n",
       "      <th>CompetitionOpenSinceYear</th>\n",
       "      <th>Promo2</th>\n",
       "      <th>Promo2SinceWeek</th>\n",
       "      <th>Promo2SinceYear</th>\n",
       "    </tr>\n",
       "  </thead>\n",
       "  <tbody>\n",
       "    <tr>\n",
       "      <th>count</th>\n",
       "      <td>1115.00000</td>\n",
       "      <td>1112.000000</td>\n",
       "      <td>761.000000</td>\n",
       "      <td>761.000000</td>\n",
       "      <td>1115.000000</td>\n",
       "      <td>571.000000</td>\n",
       "      <td>571.000000</td>\n",
       "    </tr>\n",
       "    <tr>\n",
       "      <th>mean</th>\n",
       "      <td>558.00000</td>\n",
       "      <td>5404.901079</td>\n",
       "      <td>7.224704</td>\n",
       "      <td>2008.668857</td>\n",
       "      <td>0.512108</td>\n",
       "      <td>23.595447</td>\n",
       "      <td>2011.763573</td>\n",
       "    </tr>\n",
       "    <tr>\n",
       "      <th>std</th>\n",
       "      <td>322.01708</td>\n",
       "      <td>7663.174720</td>\n",
       "      <td>3.212348</td>\n",
       "      <td>6.195983</td>\n",
       "      <td>0.500078</td>\n",
       "      <td>14.141984</td>\n",
       "      <td>1.674935</td>\n",
       "    </tr>\n",
       "    <tr>\n",
       "      <th>min</th>\n",
       "      <td>1.00000</td>\n",
       "      <td>20.000000</td>\n",
       "      <td>1.000000</td>\n",
       "      <td>1900.000000</td>\n",
       "      <td>0.000000</td>\n",
       "      <td>1.000000</td>\n",
       "      <td>2009.000000</td>\n",
       "    </tr>\n",
       "    <tr>\n",
       "      <th>25%</th>\n",
       "      <td>279.50000</td>\n",
       "      <td>717.500000</td>\n",
       "      <td>4.000000</td>\n",
       "      <td>2006.000000</td>\n",
       "      <td>0.000000</td>\n",
       "      <td>13.000000</td>\n",
       "      <td>2011.000000</td>\n",
       "    </tr>\n",
       "    <tr>\n",
       "      <th>50%</th>\n",
       "      <td>558.00000</td>\n",
       "      <td>2325.000000</td>\n",
       "      <td>8.000000</td>\n",
       "      <td>2010.000000</td>\n",
       "      <td>1.000000</td>\n",
       "      <td>22.000000</td>\n",
       "      <td>2012.000000</td>\n",
       "    </tr>\n",
       "    <tr>\n",
       "      <th>75%</th>\n",
       "      <td>836.50000</td>\n",
       "      <td>6882.500000</td>\n",
       "      <td>10.000000</td>\n",
       "      <td>2013.000000</td>\n",
       "      <td>1.000000</td>\n",
       "      <td>37.000000</td>\n",
       "      <td>2013.000000</td>\n",
       "    </tr>\n",
       "    <tr>\n",
       "      <th>max</th>\n",
       "      <td>1115.00000</td>\n",
       "      <td>75860.000000</td>\n",
       "      <td>12.000000</td>\n",
       "      <td>2015.000000</td>\n",
       "      <td>1.000000</td>\n",
       "      <td>50.000000</td>\n",
       "      <td>2015.000000</td>\n",
       "    </tr>\n",
       "  </tbody>\n",
       "</table>\n",
       "</div>"
      ],
      "text/plain": [
       "            Store  CompetitionDistance  CompetitionOpenSinceMonth  \\\n",
       "count  1115.00000          1112.000000                 761.000000   \n",
       "mean    558.00000          5404.901079                   7.224704   \n",
       "std     322.01708          7663.174720                   3.212348   \n",
       "min       1.00000            20.000000                   1.000000   \n",
       "25%     279.50000           717.500000                   4.000000   \n",
       "50%     558.00000          2325.000000                   8.000000   \n",
       "75%     836.50000          6882.500000                  10.000000   \n",
       "max    1115.00000         75860.000000                  12.000000   \n",
       "\n",
       "       CompetitionOpenSinceYear       Promo2  Promo2SinceWeek  Promo2SinceYear  \n",
       "count                761.000000  1115.000000       571.000000       571.000000  \n",
       "mean                2008.668857     0.512108        23.595447      2011.763573  \n",
       "std                    6.195983     0.500078        14.141984         1.674935  \n",
       "min                 1900.000000     0.000000         1.000000      2009.000000  \n",
       "25%                 2006.000000     0.000000        13.000000      2011.000000  \n",
       "50%                 2010.000000     1.000000        22.000000      2012.000000  \n",
       "75%                 2013.000000     1.000000        37.000000      2013.000000  \n",
       "max                 2015.000000     1.000000        50.000000      2015.000000  "
      ]
     },
     "execution_count": 7,
     "metadata": {},
     "output_type": "execute_result"
    }
   ],
   "source": [
    "store.describe()"
   ]
  },
  {
   "cell_type": "code",
   "execution_count": 8,
   "metadata": {},
   "outputs": [
    {
     "data": {
      "text/plain": [
       "Store                          0\n",
       "StoreType                      0\n",
       "Assortment                     0\n",
       "CompetitionDistance            3\n",
       "CompetitionOpenSinceMonth    354\n",
       "CompetitionOpenSinceYear     354\n",
       "Promo2                         0\n",
       "Promo2SinceWeek              544\n",
       "Promo2SinceYear              544\n",
       "PromoInterval                544\n",
       "dtype: int64"
      ]
     },
     "execution_count": 8,
     "metadata": {},
     "output_type": "execute_result"
    }
   ],
   "source": [
    "store.isnull().sum()"
   ]
  },
  {
   "cell_type": "code",
   "execution_count": 9,
   "metadata": {},
   "outputs": [
    {
     "data": {
      "image/png": "[encoded data removed]",
      "text/plain": [
       "<matplotlib.figure.Figure at 0x108cd0eb8>"
      ]
     },
     "metadata": {},
     "output_type": "display_data"
    },
    {
     "data": {
      "image/png": "[encoded data removed]",
      "text/plain": [
       "<matplotlib.figure.Figure at 0x108ce2630>"
      ]
     },
     "metadata": {},
     "output_type": "display_data"
    }
   ],
   "source": [
    "import missingno as msno\n",
    "msno.matrix(store)\n",
    "msno.dendrogram(store)"
   ]
  },
  {
   "cell_type": "code",
   "execution_count": null,
   "metadata": {
    "collapsed": true
   },
   "outputs": [],
   "source": [
    "\n"
   ]
  },
  {
   "cell_type": "code",
   "execution_count": 88,
   "metadata": {},
   "outputs": [
    {
     "data": {
      "text/plain": [
       "Store                        0\n",
       "StoreType                    0\n",
       "Assortment                   0\n",
       "CompetitionDistance          0\n",
       "CompetitionOpenSinceMonth    0\n",
       "CompetitionOpenSinceYear     0\n",
       "Promo2                       0\n",
       "Promo2SinceWeek              0\n",
       "Promo2SinceYear              0\n",
       "PromoInterval                0\n",
       "dtype: int64"
      ]
     },
     "execution_count": 88,
     "metadata": {},
     "output_type": "execute_result"
    }
   ],
   "source": [
    "#clean up missing values for the store dataframe\n",
    "\n",
    "#use the interpolate method of floats columns \n",
    "#store[store.columns[3:6]] = store[store.columns[3:6]].interpolate()\n",
    "#store[store.columns[7:9]] = store[store.columns[7:9]].interpolate()\n",
    "\n",
    "#ue the mean function for the remaining empty rows \n",
    "\n",
    "#store.fillna(store.mean())\n",
    "\n",
    "store = store.dropna(axis=0)\n",
    "\n",
    "store.isnull().sum()\n"
   ]
  },
  {
   "cell_type": "code",
   "execution_count": 11,
   "metadata": {
    "collapsed": true
   },
   "outputs": [],
   "source": [
    "#clean up data for the train dataframe"
   ]
  },
  {
   "cell_type": "code",
   "execution_count": 12,
   "metadata": {},
   "outputs": [
    {
     "data": {
      "text/plain": [
       "Store            0\n",
       "DayOfWeek        0\n",
       "Date             0\n",
       "Sales            0\n",
       "Customers        0\n",
       "Open             0\n",
       "Promo            0\n",
       "StateHoliday     0\n",
       "SchoolHoliday    0\n",
       "dtype: int64"
      ]
     },
     "execution_count": 12,
     "metadata": {},
     "output_type": "execute_result"
    }
   ],
   "source": [
    "train.isnull().sum()\n",
    "\n",
    "#awsesome there is no empty values!!!! "
   ]
  },
  {
   "cell_type": "code",
   "execution_count": 9,
   "metadata": {
    "collapsed": true
   },
   "outputs": [],
   "source": [
    "for col in ['StoreType','Assortment','Promo2']:\n",
    "    store[col]= store[col].astype('category')\n"
   ]
  },
  {
   "cell_type": "code",
   "execution_count": 10,
   "metadata": {
    "collapsed": true
   },
   "outputs": [],
   "source": [
    "for col in ['Promo2']:\n",
    "    store[col]= store[col].astype('bool')"
   ]
  },
  {
   "cell_type": "code",
   "execution_count": 11,
   "metadata": {
    "collapsed": true
   },
   "outputs": [],
   "source": [
    "for col in ['Open', 'Promo', 'StateHoliday','SchoolHoliday']:\n",
    "    train[col]= train[col].astype('bool')"
   ]
  },
  {
   "cell_type": "code",
   "execution_count": 15,
   "metadata": {},
   "outputs": [
    {
     "name": "stdout",
     "output_type": "stream",
     "text": [
      "<class 'pandas.core.frame.DataFrame'>\n",
      "Int64Index: 365 entries, 1 to 1110\n",
      "Data columns (total 10 columns):\n",
      "Store                        365 non-null int64\n",
      "StoreType                    365 non-null category\n",
      "Assortment                   365 non-null category\n",
      "CompetitionDistance          365 non-null float64\n",
      "CompetitionOpenSinceMonth    365 non-null float64\n",
      "CompetitionOpenSinceYear     365 non-null float64\n",
      "Promo2                       365 non-null category\n",
      "Promo2SinceWeek              365 non-null float64\n",
      "Promo2SinceYear              365 non-null float64\n",
      "PromoInterval                365 non-null object\n",
      "dtypes: category(3), float64(5), int64(1), object(1)\n",
      "memory usage: 24.2+ KB\n"
     ]
    }
   ],
   "source": [
    "store.info()"
   ]
  },
  {
   "cell_type": "code",
   "execution_count": 113,
   "metadata": {},
   "outputs": [
    {
     "name": "stdout",
     "output_type": "stream",
     "text": [
      "<class 'pandas.core.frame.DataFrame'>\n",
      "RangeIndex: 1017209 entries, 0 to 1017208\n",
      "Data columns (total 14 columns):\n",
      "Store            1017209 non-null int64\n",
      "DayOfWeek        1017209 non-null int64\n",
      "Date             1017209 non-null datetime64[ns]\n",
      "Sales            1017209 non-null int64\n",
      "Customers        1017209 non-null int64\n",
      "Open             1017209 non-null bool\n",
      "Promo            1017209 non-null bool\n",
      "StateHoliday     1017209 non-null bool\n",
      "SchoolHoliday    1017209 non-null bool\n",
      "Month            1017209 non-null int64\n",
      "Year             1017209 non-null int64\n",
      "Day              1017209 non-null int64\n",
      "Dayoftheweek     1017209 non-null object\n",
      "Monthofyear      1017209 non-null object\n",
      "dtypes: bool(4), datetime64[ns](1), int64(7), object(2)\n",
      "memory usage: 81.5+ MB\n"
     ]
    }
   ],
   "source": [
    "#change store type to string \n",
    "\n",
    "#train['Store'] = train['Store'].astype(str)\n",
    "train.info()"
   ]
  },
  {
   "cell_type": "code",
   "execution_count": 12,
   "metadata": {},
   "outputs": [
    {
     "name": "stdout",
     "output_type": "stream",
     "text": [
      "<class 'pandas.core.frame.DataFrame'>\n",
      "RangeIndex: 1017209 entries, 0 to 1017208\n",
      "Data columns (total 9 columns):\n",
      "Store            1017209 non-null int64\n",
      "DayOfWeek        1017209 non-null int64\n",
      "Date             1017209 non-null datetime64[ns]\n",
      "Sales            1017209 non-null int64\n",
      "Customers        1017209 non-null int64\n",
      "Open             1017209 non-null bool\n",
      "Promo            1017209 non-null bool\n",
      "StateHoliday     1017209 non-null bool\n",
      "SchoolHoliday    1017209 non-null bool\n",
      "dtypes: bool(4), datetime64[ns](1), int64(4)\n",
      "memory usage: 42.7 MB\n"
     ]
    }
   ],
   "source": [
    "train.drop_duplicates()\n",
    "train.info()"
   ]
  },
  {
   "cell_type": "markdown",
   "metadata": {},
   "source": [
    "**Create day related columns**"
   ]
  },
  {
   "cell_type": "code",
   "execution_count": 51,
   "metadata": {
    "scrolled": false
   },
   "outputs": [
    {
     "name": "stdout",
     "output_type": "stream",
     "text": [
      "<class 'pandas.core.frame.DataFrame'>\n",
      "RangeIndex: 1017209 entries, 0 to 1017208\n",
      "Data columns (total 13 columns):\n",
      "Store            1017209 non-null int64\n",
      "DayOfWeek        1017209 non-null int64\n",
      "Date             1017209 non-null datetime64[ns]\n",
      "Sales            1017209 non-null int64\n",
      "Customers        1017209 non-null int64\n",
      "Open             1017209 non-null int64\n",
      "Promo            1017209 non-null int64\n",
      "StateHoliday     1017209 non-null object\n",
      "SchoolHoliday    1017209 non-null int64\n",
      "Month            1017209 non-null int64\n",
      "Year             1017209 non-null int64\n",
      "Day              1017209 non-null int64\n",
      "Dayoftheweek     1017209 non-null object\n",
      "dtypes: datetime64[ns](1), int64(10), object(2)\n",
      "memory usage: 100.9+ MB\n"
     ]
    }
   ],
   "source": [
    "#add date related columns \n",
    "train['Month']=train['Date'].dt.month\n",
    "train['Year']=train['Date'].dt.year\n",
    "train['Day']=train['Date'].dt.day\n",
    "train['Dayoftheweek']=train['Date'].dt.weekday_name\n",
    "\n",
    "train.info()"
   ]
  },
  {
   "cell_type": "code",
   "execution_count": 52,
   "metadata": {},
   "outputs": [
    {
     "data": {
      "text/html": [
       "<div>\n",
       "<style>\n",
       "    .dataframe thead tr:only-child th {\n",
       "        text-align: right;\n",
       "    }\n",
       "\n",
       "    .dataframe thead th {\n",
       "        text-align: left;\n",
       "    }\n",
       "\n",
       "    .dataframe tbody tr th {\n",
       "        vertical-align: top;\n",
       "    }\n",
       "</style>\n",
       "<table border=\"1\" class=\"dataframe\">\n",
       "  <thead>\n",
       "    <tr style=\"text-align: right;\">\n",
       "      <th></th>\n",
       "      <th>Store</th>\n",
       "      <th>DayOfWeek</th>\n",
       "      <th>Date</th>\n",
       "      <th>Sales</th>\n",
       "      <th>Customers</th>\n",
       "      <th>Open</th>\n",
       "      <th>Promo</th>\n",
       "      <th>StateHoliday</th>\n",
       "      <th>SchoolHoliday</th>\n",
       "      <th>Month</th>\n",
       "      <th>Year</th>\n",
       "      <th>Day</th>\n",
       "      <th>Dayoftheweek</th>\n",
       "      <th>Monthofyear</th>\n",
       "    </tr>\n",
       "  </thead>\n",
       "  <tbody>\n",
       "    <tr>\n",
       "      <th>0</th>\n",
       "      <td>1</td>\n",
       "      <td>5</td>\n",
       "      <td>2015-07-31</td>\n",
       "      <td>5263</td>\n",
       "      <td>555</td>\n",
       "      <td>1</td>\n",
       "      <td>1</td>\n",
       "      <td>0</td>\n",
       "      <td>1</td>\n",
       "      <td>7</td>\n",
       "      <td>2015</td>\n",
       "      <td>31</td>\n",
       "      <td>Friday</td>\n",
       "      <td>Jul</td>\n",
       "    </tr>\n",
       "    <tr>\n",
       "      <th>1</th>\n",
       "      <td>2</td>\n",
       "      <td>5</td>\n",
       "      <td>2015-07-31</td>\n",
       "      <td>6064</td>\n",
       "      <td>625</td>\n",
       "      <td>1</td>\n",
       "      <td>1</td>\n",
       "      <td>0</td>\n",
       "      <td>1</td>\n",
       "      <td>7</td>\n",
       "      <td>2015</td>\n",
       "      <td>31</td>\n",
       "      <td>Friday</td>\n",
       "      <td>Jul</td>\n",
       "    </tr>\n",
       "    <tr>\n",
       "      <th>2</th>\n",
       "      <td>3</td>\n",
       "      <td>5</td>\n",
       "      <td>2015-07-31</td>\n",
       "      <td>8314</td>\n",
       "      <td>821</td>\n",
       "      <td>1</td>\n",
       "      <td>1</td>\n",
       "      <td>0</td>\n",
       "      <td>1</td>\n",
       "      <td>7</td>\n",
       "      <td>2015</td>\n",
       "      <td>31</td>\n",
       "      <td>Friday</td>\n",
       "      <td>Jul</td>\n",
       "    </tr>\n",
       "    <tr>\n",
       "      <th>3</th>\n",
       "      <td>4</td>\n",
       "      <td>5</td>\n",
       "      <td>2015-07-31</td>\n",
       "      <td>13995</td>\n",
       "      <td>1498</td>\n",
       "      <td>1</td>\n",
       "      <td>1</td>\n",
       "      <td>0</td>\n",
       "      <td>1</td>\n",
       "      <td>7</td>\n",
       "      <td>2015</td>\n",
       "      <td>31</td>\n",
       "      <td>Friday</td>\n",
       "      <td>Jul</td>\n",
       "    </tr>\n",
       "    <tr>\n",
       "      <th>4</th>\n",
       "      <td>5</td>\n",
       "      <td>5</td>\n",
       "      <td>2015-07-31</td>\n",
       "      <td>4822</td>\n",
       "      <td>559</td>\n",
       "      <td>1</td>\n",
       "      <td>1</td>\n",
       "      <td>0</td>\n",
       "      <td>1</td>\n",
       "      <td>7</td>\n",
       "      <td>2015</td>\n",
       "      <td>31</td>\n",
       "      <td>Friday</td>\n",
       "      <td>Jul</td>\n",
       "    </tr>\n",
       "  </tbody>\n",
       "</table>\n",
       "</div>"
      ],
      "text/plain": [
       "   Store  DayOfWeek       Date  Sales  Customers  Open  Promo StateHoliday  \\\n",
       "0      1          5 2015-07-31   5263        555     1      1            0   \n",
       "1      2          5 2015-07-31   6064        625     1      1            0   \n",
       "2      3          5 2015-07-31   8314        821     1      1            0   \n",
       "3      4          5 2015-07-31  13995       1498     1      1            0   \n",
       "4      5          5 2015-07-31   4822        559     1      1            0   \n",
       "\n",
       "   SchoolHoliday  Month  Year  Day Dayoftheweek Monthofyear  \n",
       "0              1      7  2015   31       Friday         Jul  \n",
       "1              1      7  2015   31       Friday         Jul  \n",
       "2              1      7  2015   31       Friday         Jul  \n",
       "3              1      7  2015   31       Friday         Jul  \n",
       "4              1      7  2015   31       Friday         Jul  "
      ]
     },
     "execution_count": 52,
     "metadata": {},
     "output_type": "execute_result"
    }
   ],
   "source": [
    "look_up = {1: 'Jan', 2: 'Feb', 3: 'Mrch', 4: 'April', 5: 'May',\n",
    "            6: 'Jun', 7: 'Jul', 8: 'Aug', 9: 'Sep', 10: 'Oct',11:'Nov',12: 'Dec'}\n",
    "\n",
    "\n",
    "train['Monthofyear']  = train['Month'].apply(lambda x: look_up[x])\n",
    "train.head()"
   ]
  },
  {
   "cell_type": "code",
   "execution_count": 53,
   "metadata": {
    "scrolled": true
   },
   "outputs": [
    {
     "data": {
      "application/vnd.plotly.v1+json": {
       "data": [
        {
         "marker": {
          "color": "rgba(255, 153, 51, 0.6)",
          "line": {
           "color": "rgba(255, 153, 51, 1.0)",
           "width": 1
          }
         },
         "name": "Sales",
         "orientation": "v",
         "text": [
          "262",
          "817",
          "562",
          "1114",
          "251",
          "513",
          "788",
          "733",
          "383",
          "756",
          "335",
          "698",
          "523",
          "595",
          "586",
          "320",
          "842",
          "380",
          "544",
          "1033"
         ],
         "type": "bar",
         "x": [
          0,
          1,
          2,
          3,
          4,
          5,
          6,
          7,
          8,
          9,
          10,
          11,
          12,
          13,
          14,
          15,
          16,
          17,
          18,
          19
         ],
         "y": [
          19516842,
          17057867,
          16927322,
          16202585,
          14896870,
          14252406,
          14082141,
          14067158,
          13489879,
          12911782,
          12541731,
          12202270,
          12175995,
          11774982,
          11742401,
          11630218,
          11553523,
          11261676,
          10993709,
          10870270
         ]
        }
       ],
       "layout": {
        "legend": {
         "bgcolor": "#F5F6F9",
         "font": {
          "color": "#4D5663"
         }
        },
        "paper_bgcolor": "#F5F6F9",
        "plot_bgcolor": "#F5F6F9",
        "titlefont": {
         "color": "#4D5663"
        },
        "xaxis1": {
         "gridcolor": "#E1E5ED",
         "showgrid": true,
         "tickfont": {
          "color": "#4D5663"
         },
         "title": "Stores",
         "titlefont": {
          "color": "#4D5663"
         },
         "zerolinecolor": "#E1E5ED"
        },
        "yaxis1": {
         "gridcolor": "#E1E5ED",
         "showgrid": true,
         "tickfont": {
          "color": "#4D5663"
         },
         "title": "Sales",
         "titlefont": {
          "color": "#4D5663"
         },
         "zerolinecolor": "#E1E5ED"
        }
       }
      },
      "text/html": [
       "<div id=\"6c35408a-2287-49d4-ac4f-45750603e98e\" style=\"height: 525px; width: 100%;\" class=\"plotly-graph-div\"></div><script type=\"text/javascript\">require([\"plotly\"], function(Plotly) { window.PLOTLYENV=window.PLOTLYENV || {};window.PLOTLYENV.BASE_URL=\"https://plot.ly\";Plotly.newPlot(\"6c35408a-2287-49d4-ac4f-45750603e98e\", [{\"type\": \"bar\", \"x\": [0, 1, 2, 3, 4, 5, 6, 7, 8, 9, 10, 11, 12, 13, 14, 15, 16, 17, 18, 19], \"y\": [19516842, 17057867, 16927322, 16202585, 14896870, 14252406, 14082141, 14067158, 13489879, 12911782, 12541731, 12202270, 12175995, 11774982, 11742401, 11630218, 11553523, 11261676, 10993709, 10870270], \"name\": \"Sales\", \"text\": [\"262\", \"817\", \"562\", \"1114\", \"251\", \"513\", \"788\", \"733\", \"383\", \"756\", \"335\", \"698\", \"523\", \"595\", \"586\", \"320\", \"842\", \"380\", \"544\", \"1033\"], \"marker\": {\"color\": \"rgba(255, 153, 51, 0.6)\", \"line\": {\"color\": \"rgba(255, 153, 51, 1.0)\", \"width\": 1}}, \"orientation\": \"v\"}], {\"legend\": {\"bgcolor\": \"#F5F6F9\", \"font\": {\"color\": \"#4D5663\"}}, \"paper_bgcolor\": \"#F5F6F9\", \"plot_bgcolor\": \"#F5F6F9\", \"yaxis1\": {\"tickfont\": {\"color\": \"#4D5663\"}, \"gridcolor\": \"#E1E5ED\", \"titlefont\": {\"color\": \"#4D5663\"}, \"zerolinecolor\": \"#E1E5ED\", \"showgrid\": true, \"title\": \"Sales\"}, \"xaxis1\": {\"tickfont\": {\"color\": \"#4D5663\"}, \"gridcolor\": \"#E1E5ED\", \"titlefont\": {\"color\": \"#4D5663\"}, \"zerolinecolor\": \"#E1E5ED\", \"showgrid\": true, \"title\": \"Stores\"}, \"titlefont\": {\"color\": \"#4D5663\"}}, {\"showLink\": true, \"linkText\": \"Export to plot.ly\"})});</script>"
      ],
      "text/vnd.plotly.v1+html": [
       "<div id=\"6c35408a-2287-49d4-ac4f-45750603e98e\" style=\"height: 525px; width: 100%;\" class=\"plotly-graph-div\"></div><script type=\"text/javascript\">require([\"plotly\"], function(Plotly) { window.PLOTLYENV=window.PLOTLYENV || {};window.PLOTLYENV.BASE_URL=\"https://plot.ly\";Plotly.newPlot(\"6c35408a-2287-49d4-ac4f-45750603e98e\", [{\"type\": \"bar\", \"x\": [0, 1, 2, 3, 4, 5, 6, 7, 8, 9, 10, 11, 12, 13, 14, 15, 16, 17, 18, 19], \"y\": [19516842, 17057867, 16927322, 16202585, 14896870, 14252406, 14082141, 14067158, 13489879, 12911782, 12541731, 12202270, 12175995, 11774982, 11742401, 11630218, 11553523, 11261676, 10993709, 10870270], \"name\": \"Sales\", \"text\": [\"262\", \"817\", \"562\", \"1114\", \"251\", \"513\", \"788\", \"733\", \"383\", \"756\", \"335\", \"698\", \"523\", \"595\", \"586\", \"320\", \"842\", \"380\", \"544\", \"1033\"], \"marker\": {\"color\": \"rgba(255, 153, 51, 0.6)\", \"line\": {\"color\": \"rgba(255, 153, 51, 1.0)\", \"width\": 1}}, \"orientation\": \"v\"}], {\"legend\": {\"bgcolor\": \"#F5F6F9\", \"font\": {\"color\": \"#4D5663\"}}, \"paper_bgcolor\": \"#F5F6F9\", \"plot_bgcolor\": \"#F5F6F9\", \"yaxis1\": {\"tickfont\": {\"color\": \"#4D5663\"}, \"gridcolor\": \"#E1E5ED\", \"titlefont\": {\"color\": \"#4D5663\"}, \"zerolinecolor\": \"#E1E5ED\", \"showgrid\": true, \"title\": \"Sales\"}, \"xaxis1\": {\"tickfont\": {\"color\": \"#4D5663\"}, \"gridcolor\": \"#E1E5ED\", \"titlefont\": {\"color\": \"#4D5663\"}, \"zerolinecolor\": \"#E1E5ED\", \"showgrid\": true, \"title\": \"Stores\"}, \"titlefont\": {\"color\": \"#4D5663\"}}, {\"showLink\": true, \"linkText\": \"Export to plot.ly\"})});</script>"
      ]
     },
     "metadata": {},
     "output_type": "display_data"
    }
   ],
   "source": [
    "#Create a dataframe with the store id and the adequate sales\n",
    "topshop =train [['Store','Sales']]\n",
    "\n",
    "\n",
    "#Group by store\n",
    "topshop = topshop.groupby('Store').sum()\n",
    "\n",
    "#Sort the dataframe by order descending\n",
    "topshop =topshop.sort_values('Sales', ascending=False)\n",
    "\n",
    "#Grab the top 20 shops\n",
    "topshop = topshop.head(20).reset_index()\n",
    "topshop['Store']= topshop['Store'].astype('str')\n",
    "#topshop.pivot_table(columns = 'Store', values ='Sales')\n",
    "\n",
    "#plot it\n",
    "#plt.figure(figsize = (12,6))\n",
    "#sns.barplot(x='Store', y='Sales', data=topshop, sorted = False)\n",
    "\n",
    "\n",
    "topshop.iplot(kind='bar', xTitle='Stores', yTitle='Sales', y='Sales', text = 'Store' )"
   ]
  },
  {
   "cell_type": "markdown",
   "metadata": {},
   "source": [
    "** The relation between years and Month **"
   ]
  },
  {
   "cell_type": "code",
   "execution_count": 50,
   "metadata": {},
   "outputs": [
    {
     "ename": "KeyError",
     "evalue": "'Month'",
     "output_type": "error",
     "traceback": [
      "\u001b[0;31m---------------------------------------------------------------------------\u001b[0m",
      "\u001b[0;31mKeyError\u001b[0m                                  Traceback (most recent call last)",
      "\u001b[0;32m<ipython-input-50-fea07c7a2755>\u001b[0m in \u001b[0;36m<module>\u001b[0;34m()\u001b[0m\n\u001b[0;32m----> 1\u001b[0;31m \u001b[0mpt\u001b[0m \u001b[0;34m=\u001b[0m \u001b[0mtrain\u001b[0m\u001b[0;34m.\u001b[0m\u001b[0mpivot_table\u001b[0m\u001b[0;34m(\u001b[0m\u001b[0mindex\u001b[0m\u001b[0;34m=\u001b[0m\u001b[0;34m'Month'\u001b[0m\u001b[0;34m,\u001b[0m \u001b[0mcolumns\u001b[0m\u001b[0;34m=\u001b[0m\u001b[0;34m'Year'\u001b[0m\u001b[0;34m,\u001b[0m \u001b[0mvalues\u001b[0m \u001b[0;34m=\u001b[0m\u001b[0;34m'Sales'\u001b[0m\u001b[0;34m)\u001b[0m\u001b[0;34m\u001b[0m\u001b[0m\n\u001b[0m\u001b[1;32m      2\u001b[0m \u001b[0mpt\u001b[0m\u001b[0;34m.\u001b[0m\u001b[0miplot\u001b[0m\u001b[0;34m(\u001b[0m\u001b[0mkind\u001b[0m\u001b[0;34m=\u001b[0m\u001b[0;34m'heatmap'\u001b[0m\u001b[0;34m,\u001b[0m\u001b[0mcolorscale\u001b[0m\u001b[0;34m=\u001b[0m\u001b[0;34m'spectral'\u001b[0m\u001b[0;34m,\u001b[0m\u001b[0mtitle\u001b[0m\u001b[0;34m=\u001b[0m\u001b[0;34m'Cufflinks - Heatmap'\u001b[0m\u001b[0;34m)\u001b[0m\u001b[0;34m\u001b[0m\u001b[0m\n",
      "\u001b[0;32m/usr/local/lib/python3.6/site-packages/pandas/core/reshape/pivot.py\u001b[0m in \u001b[0;36mpivot_table\u001b[0;34m(data, values, index, columns, aggfunc, fill_value, margins, dropna, margins_name)\u001b[0m\n\u001b[1;32m    133\u001b[0m         \u001b[0mvalues\u001b[0m \u001b[0;34m=\u001b[0m \u001b[0mlist\u001b[0m\u001b[0;34m(\u001b[0m\u001b[0mvalues\u001b[0m\u001b[0;34m)\u001b[0m\u001b[0;34m\u001b[0m\u001b[0m\n\u001b[1;32m    134\u001b[0m \u001b[0;34m\u001b[0m\u001b[0m\n\u001b[0;32m--> 135\u001b[0;31m     \u001b[0mgrouped\u001b[0m \u001b[0;34m=\u001b[0m \u001b[0mdata\u001b[0m\u001b[0;34m.\u001b[0m\u001b[0mgroupby\u001b[0m\u001b[0;34m(\u001b[0m\u001b[0mkeys\u001b[0m\u001b[0;34m)\u001b[0m\u001b[0;34m\u001b[0m\u001b[0m\n\u001b[0m\u001b[1;32m    136\u001b[0m     \u001b[0magged\u001b[0m \u001b[0;34m=\u001b[0m \u001b[0mgrouped\u001b[0m\u001b[0;34m.\u001b[0m\u001b[0magg\u001b[0m\u001b[0;34m(\u001b[0m\u001b[0maggfunc\u001b[0m\u001b[0;34m)\u001b[0m\u001b[0;34m\u001b[0m\u001b[0m\n\u001b[1;32m    137\u001b[0m \u001b[0;34m\u001b[0m\u001b[0m\n",
      "\u001b[0;32m/usr/local/lib/python3.6/site-packages/pandas/core/generic.py\u001b[0m in \u001b[0;36mgroupby\u001b[0;34m(self, by, axis, level, as_index, sort, group_keys, squeeze, **kwargs)\u001b[0m\n\u001b[1;32m   4414\u001b[0m         return groupby(self, by=by, axis=axis, level=level, as_index=as_index,\n\u001b[1;32m   4415\u001b[0m                        \u001b[0msort\u001b[0m\u001b[0;34m=\u001b[0m\u001b[0msort\u001b[0m\u001b[0;34m,\u001b[0m \u001b[0mgroup_keys\u001b[0m\u001b[0;34m=\u001b[0m\u001b[0mgroup_keys\u001b[0m\u001b[0;34m,\u001b[0m \u001b[0msqueeze\u001b[0m\u001b[0;34m=\u001b[0m\u001b[0msqueeze\u001b[0m\u001b[0;34m,\u001b[0m\u001b[0;34m\u001b[0m\u001b[0m\n\u001b[0;32m-> 4416\u001b[0;31m                        **kwargs)\n\u001b[0m\u001b[1;32m   4417\u001b[0m \u001b[0;34m\u001b[0m\u001b[0m\n\u001b[1;32m   4418\u001b[0m     def asfreq(self, freq, method=None, how=None, normalize=False,\n",
      "\u001b[0;32m/usr/local/lib/python3.6/site-packages/pandas/core/groupby.py\u001b[0m in \u001b[0;36mgroupby\u001b[0;34m(obj, by, **kwds)\u001b[0m\n\u001b[1;32m   1697\u001b[0m         \u001b[0;32mraise\u001b[0m \u001b[0mTypeError\u001b[0m\u001b[0;34m(\u001b[0m\u001b[0;34m'invalid type: %s'\u001b[0m \u001b[0;34m%\u001b[0m \u001b[0mtype\u001b[0m\u001b[0;34m(\u001b[0m\u001b[0mobj\u001b[0m\u001b[0;34m)\u001b[0m\u001b[0;34m)\u001b[0m\u001b[0;34m\u001b[0m\u001b[0m\n\u001b[1;32m   1698\u001b[0m \u001b[0;34m\u001b[0m\u001b[0m\n\u001b[0;32m-> 1699\u001b[0;31m     \u001b[0;32mreturn\u001b[0m \u001b[0mklass\u001b[0m\u001b[0;34m(\u001b[0m\u001b[0mobj\u001b[0m\u001b[0;34m,\u001b[0m \u001b[0mby\u001b[0m\u001b[0;34m,\u001b[0m \u001b[0;34m**\u001b[0m\u001b[0mkwds\u001b[0m\u001b[0;34m)\u001b[0m\u001b[0;34m\u001b[0m\u001b[0m\n\u001b[0m\u001b[1;32m   1700\u001b[0m \u001b[0;34m\u001b[0m\u001b[0m\n\u001b[1;32m   1701\u001b[0m \u001b[0;34m\u001b[0m\u001b[0m\n",
      "\u001b[0;32m/usr/local/lib/python3.6/site-packages/pandas/core/groupby.py\u001b[0m in \u001b[0;36m__init__\u001b[0;34m(self, obj, keys, axis, level, grouper, exclusions, selection, as_index, sort, group_keys, squeeze, **kwargs)\u001b[0m\n\u001b[1;32m    390\u001b[0m                                                     \u001b[0mlevel\u001b[0m\u001b[0;34m=\u001b[0m\u001b[0mlevel\u001b[0m\u001b[0;34m,\u001b[0m\u001b[0;34m\u001b[0m\u001b[0m\n\u001b[1;32m    391\u001b[0m                                                     \u001b[0msort\u001b[0m\u001b[0;34m=\u001b[0m\u001b[0msort\u001b[0m\u001b[0;34m,\u001b[0m\u001b[0;34m\u001b[0m\u001b[0m\n\u001b[0;32m--> 392\u001b[0;31m                                                     mutated=self.mutated)\n\u001b[0m\u001b[1;32m    393\u001b[0m \u001b[0;34m\u001b[0m\u001b[0m\n\u001b[1;32m    394\u001b[0m         \u001b[0mself\u001b[0m\u001b[0;34m.\u001b[0m\u001b[0mobj\u001b[0m \u001b[0;34m=\u001b[0m \u001b[0mobj\u001b[0m\u001b[0;34m\u001b[0m\u001b[0m\n",
      "\u001b[0;32m/usr/local/lib/python3.6/site-packages/pandas/core/groupby.py\u001b[0m in \u001b[0;36m_get_grouper\u001b[0;34m(obj, key, axis, level, sort, mutated)\u001b[0m\n\u001b[1;32m   2688\u001b[0m                 \u001b[0min_axis\u001b[0m\u001b[0;34m,\u001b[0m \u001b[0mname\u001b[0m\u001b[0;34m,\u001b[0m \u001b[0mlevel\u001b[0m\u001b[0;34m,\u001b[0m \u001b[0mgpr\u001b[0m \u001b[0;34m=\u001b[0m \u001b[0;32mFalse\u001b[0m\u001b[0;34m,\u001b[0m \u001b[0;32mNone\u001b[0m\u001b[0;34m,\u001b[0m \u001b[0mgpr\u001b[0m\u001b[0;34m,\u001b[0m \u001b[0;32mNone\u001b[0m\u001b[0;34m\u001b[0m\u001b[0m\n\u001b[1;32m   2689\u001b[0m             \u001b[0;32melse\u001b[0m\u001b[0;34m:\u001b[0m\u001b[0;34m\u001b[0m\u001b[0m\n\u001b[0;32m-> 2690\u001b[0;31m                 \u001b[0;32mraise\u001b[0m \u001b[0mKeyError\u001b[0m\u001b[0;34m(\u001b[0m\u001b[0mgpr\u001b[0m\u001b[0;34m)\u001b[0m\u001b[0;34m\u001b[0m\u001b[0m\n\u001b[0m\u001b[1;32m   2691\u001b[0m         \u001b[0;32melif\u001b[0m \u001b[0misinstance\u001b[0m\u001b[0;34m(\u001b[0m\u001b[0mgpr\u001b[0m\u001b[0;34m,\u001b[0m \u001b[0mGrouper\u001b[0m\u001b[0;34m)\u001b[0m \u001b[0;32mand\u001b[0m \u001b[0mgpr\u001b[0m\u001b[0;34m.\u001b[0m\u001b[0mkey\u001b[0m \u001b[0;32mis\u001b[0m \u001b[0;32mnot\u001b[0m \u001b[0;32mNone\u001b[0m\u001b[0;34m:\u001b[0m\u001b[0;34m\u001b[0m\u001b[0m\n\u001b[1;32m   2692\u001b[0m             \u001b[0;31m# Add key to exclusions\u001b[0m\u001b[0;34m\u001b[0m\u001b[0;34m\u001b[0m\u001b[0m\n",
      "\u001b[0;31mKeyError\u001b[0m: 'Month'"
     ]
    }
   ],
   "source": [
    "pt = train.pivot_table(index='Month', columns='Year', values ='Sales')\n",
    "pt.iplot(kind='heatmap',colorscale='spectral',title='Cufflinks - Heatmap')"
   ]
  },
  {
   "cell_type": "markdown",
   "metadata": {},
   "source": [
    "**The relation between the Days of the week and Month**"
   ]
  },
  {
   "cell_type": "code",
   "execution_count": 21,
   "metadata": {
    "scrolled": true
   },
   "outputs": [
    {
     "data": {
      "application/vnd.plotly.v1+json": {
       "data": [
        {
         "colorscale": [
          [
           0,
           "rgb(158,1,66)"
          ],
          [
           0.1,
           "rgb(213,62,79)"
          ],
          [
           0.2,
           "rgb(244,109,67)"
          ],
          [
           0.3,
           "rgb(253,174,97)"
          ],
          [
           0.4,
           "rgb(254,224,139)"
          ],
          [
           0.5,
           "rgb(255,255,191)"
          ],
          [
           0.6,
           "rgb(230,245,152)"
          ],
          [
           0.7,
           "rgb(171,221,164)"
          ],
          [
           0.8,
           "rgb(102,194,165)"
          ],
          [
           0.9,
           "rgb(50,136,189)"
          ],
          [
           1,
           "rgb(94,79,162)"
          ]
         ],
         "type": "heatmap",
         "x": [
          1,
          2,
          3,
          4,
          5,
          6,
          7,
          8,
          9,
          10,
          11,
          12
         ],
         "y": [
          "Friday",
          "Monday",
          "Saturday",
          "Sunday",
          "Thursday",
          "Tuesday",
          "Wednesday"
         ],
         "z": [
          [
           6792.666559897501,
           6852.893721973094,
           6268.294722318041,
           5427.946038863976,
           7288.214409566517,
           7087.487518684604,
           6855.7445372050815,
           6925.136780487805,
           6471.101341463414,
           6095.410946907498,
           7029.638862050456,
           7679.713414634146
          ],
          [
           7427.21711509716,
           7411.474588938714,
           8385.938308776425,
           6444.222973439117,
           6675.29446935725,
           8021.85868033312,
           8115.935172413793,
           7916.58512195122,
           7714.8228292682925,
           7483.082682926829,
           8249.359512195122,
           10538.067219512195
          ],
          [
           5569.869610210418,
           5791.5545590433485,
           5979.309673286355,
           6019.569805680119,
           6075.9992953235105,
           5796.507002414626,
           5400.895734597157,
           5415.108585365853,
           5331.205731707317,
           5538.544146341464,
           6180.203609756098,
           7193.493902439024
          ],
          [
           152.0440956651719,
           172.5278774289985,
           185.82451420029895,
           192.08109118086696,
           211.81828216626423,
           222.80032030749518,
           243.9545813586098,
           247.9927750410509,
           222.02973698336018,
           214.81121951219512,
           196.14263820470717,
           215.47826086956522
          ],
          [
           5869.063856502242,
           6379.15538116592,
           6727.86360239163,
           7029.978820282856,
           4762.036450992953,
           5737.62062780269,
           6905.448402447315,
           6453.405045625335,
           6180.684390243902,
           5954.183902439025,
           6928.828536585366,
           6636.634268292683
          ],
          [
           6078.884848902994,
           6558.318011958147,
           7123.683339082442,
           7362.328891736067,
           6941.357772795217,
           7258.4560193170055,
           7133.334942216179,
           6768.257317073171,
           6913.350082101806,
           6436.012667740204,
           7241.468170731708,
           8328.568780487805
          ],
          [
           5911.721588725176,
           6350.847907324364,
           6602.909790732437,
           7041.830813581038,
           6409.795101759228,
           6620.479222720478,
           7004.7399052132705,
           6403.548414634146,
           6196.464268292683,
           6505.025756097561,
           6711.921951219512,
           6793.678489326765
          ]
         ]
        }
       ],
       "layout": {
        "legend": {
         "bgcolor": "#F5F6F9",
         "font": {
          "color": "#4D5663"
         }
        },
        "paper_bgcolor": "#F5F6F9",
        "plot_bgcolor": "#F5F6F9",
        "title": "Cufflinks - Heatmap",
        "titlefont": {
         "color": "#4D5663"
        },
        "xaxis1": {
         "gridcolor": "#E1E5ED",
         "showgrid": true,
         "tickfont": {
          "color": "#4D5663"
         },
         "title": "",
         "titlefont": {
          "color": "#4D5663"
         },
         "zerolinecolor": "#E1E5ED"
        },
        "yaxis1": {
         "gridcolor": "#E1E5ED",
         "showgrid": true,
         "tickfont": {
          "color": "#4D5663"
         },
         "title": "",
         "titlefont": {
          "color": "#4D5663"
         },
         "zerolinecolor": "#E1E5ED"
        }
       }
      },
      "text/html": [
       "<div id=\"7c6a31b2-28ac-4e47-a83f-72ed76c086f2\" style=\"height: 525px; width: 100%;\" class=\"plotly-graph-div\"></div><script type=\"text/javascript\">require([\"plotly\"], function(Plotly) { window.PLOTLYENV=window.PLOTLYENV || {};window.PLOTLYENV.BASE_URL=\"https://plot.ly\";Plotly.newPlot(\"7c6a31b2-28ac-4e47-a83f-72ed76c086f2\", [{\"type\": \"heatmap\", \"z\": [[6792.666559897501, 6852.893721973094, 6268.294722318041, 5427.946038863976, 7288.214409566517, 7087.487518684604, 6855.7445372050815, 6925.136780487805, 6471.101341463414, 6095.410946907498, 7029.638862050456, 7679.713414634146], [7427.21711509716, 7411.474588938714, 8385.938308776425, 6444.222973439117, 6675.29446935725, 8021.85868033312, 8115.935172413793, 7916.58512195122, 7714.8228292682925, 7483.082682926829, 8249.359512195122, 10538.067219512195], [5569.869610210418, 5791.5545590433485, 5979.309673286355, 6019.569805680119, 6075.9992953235105, 5796.507002414626, 5400.895734597157, 5415.108585365853, 5331.205731707317, 5538.544146341464, 6180.203609756098, 7193.493902439024], [152.0440956651719, 172.5278774289985, 185.82451420029895, 192.08109118086696, 211.81828216626423, 222.80032030749518, 243.9545813586098, 247.9927750410509, 222.02973698336018, 214.81121951219512, 196.14263820470717, 215.47826086956522], [5869.063856502242, 6379.15538116592, 6727.86360239163, 7029.978820282856, 4762.036450992953, 5737.62062780269, 6905.448402447315, 6453.405045625335, 6180.684390243902, 5954.183902439025, 6928.828536585366, 6636.634268292683], [6078.884848902994, 6558.318011958147, 7123.683339082442, 7362.328891736067, 6941.357772795217, 7258.4560193170055, 7133.334942216179, 6768.257317073171, 6913.350082101806, 6436.012667740204, 7241.468170731708, 8328.568780487805], [5911.721588725176, 6350.847907324364, 6602.909790732437, 7041.830813581038, 6409.795101759228, 6620.479222720478, 7004.7399052132705, 6403.548414634146, 6196.464268292683, 6505.025756097561, 6711.921951219512, 6793.678489326765]], \"x\": [1, 2, 3, 4, 5, 6, 7, 8, 9, 10, 11, 12], \"y\": [\"Friday\", \"Monday\", \"Saturday\", \"Sunday\", \"Thursday\", \"Tuesday\", \"Wednesday\"], \"colorscale\": [[0.0, \"rgb(158,1,66)\"], [0.1, \"rgb(213,62,79)\"], [0.2, \"rgb(244,109,67)\"], [0.3, \"rgb(253,174,97)\"], [0.4, \"rgb(254,224,139)\"], [0.5, \"rgb(255,255,191)\"], [0.6, \"rgb(230,245,152)\"], [0.7, \"rgb(171,221,164)\"], [0.8, \"rgb(102,194,165)\"], [0.9, \"rgb(50,136,189)\"], [1.0, \"rgb(94,79,162)\"]]}], {\"legend\": {\"bgcolor\": \"#F5F6F9\", \"font\": {\"color\": \"#4D5663\"}}, \"paper_bgcolor\": \"#F5F6F9\", \"plot_bgcolor\": \"#F5F6F9\", \"yaxis1\": {\"tickfont\": {\"color\": \"#4D5663\"}, \"gridcolor\": \"#E1E5ED\", \"titlefont\": {\"color\": \"#4D5663\"}, \"zerolinecolor\": \"#E1E5ED\", \"showgrid\": true, \"title\": \"\"}, \"xaxis1\": {\"tickfont\": {\"color\": \"#4D5663\"}, \"gridcolor\": \"#E1E5ED\", \"titlefont\": {\"color\": \"#4D5663\"}, \"zerolinecolor\": \"#E1E5ED\", \"showgrid\": true, \"title\": \"\"}, \"titlefont\": {\"color\": \"#4D5663\"}, \"title\": \"Cufflinks - Heatmap\"}, {\"showLink\": true, \"linkText\": \"Export to plot.ly\"})});</script>"
      ],
      "text/vnd.plotly.v1+html": [
       "<div id=\"7c6a31b2-28ac-4e47-a83f-72ed76c086f2\" style=\"height: 525px; width: 100%;\" class=\"plotly-graph-div\"></div><script type=\"text/javascript\">require([\"plotly\"], function(Plotly) { window.PLOTLYENV=window.PLOTLYENV || {};window.PLOTLYENV.BASE_URL=\"https://plot.ly\";Plotly.newPlot(\"7c6a31b2-28ac-4e47-a83f-72ed76c086f2\", [{\"type\": \"heatmap\", \"z\": [[6792.666559897501, 6852.893721973094, 6268.294722318041, 5427.946038863976, 7288.214409566517, 7087.487518684604, 6855.7445372050815, 6925.136780487805, 6471.101341463414, 6095.410946907498, 7029.638862050456, 7679.713414634146], [7427.21711509716, 7411.474588938714, 8385.938308776425, 6444.222973439117, 6675.29446935725, 8021.85868033312, 8115.935172413793, 7916.58512195122, 7714.8228292682925, 7483.082682926829, 8249.359512195122, 10538.067219512195], [5569.869610210418, 5791.5545590433485, 5979.309673286355, 6019.569805680119, 6075.9992953235105, 5796.507002414626, 5400.895734597157, 5415.108585365853, 5331.205731707317, 5538.544146341464, 6180.203609756098, 7193.493902439024], [152.0440956651719, 172.5278774289985, 185.82451420029895, 192.08109118086696, 211.81828216626423, 222.80032030749518, 243.9545813586098, 247.9927750410509, 222.02973698336018, 214.81121951219512, 196.14263820470717, 215.47826086956522], [5869.063856502242, 6379.15538116592, 6727.86360239163, 7029.978820282856, 4762.036450992953, 5737.62062780269, 6905.448402447315, 6453.405045625335, 6180.684390243902, 5954.183902439025, 6928.828536585366, 6636.634268292683], [6078.884848902994, 6558.318011958147, 7123.683339082442, 7362.328891736067, 6941.357772795217, 7258.4560193170055, 7133.334942216179, 6768.257317073171, 6913.350082101806, 6436.012667740204, 7241.468170731708, 8328.568780487805], [5911.721588725176, 6350.847907324364, 6602.909790732437, 7041.830813581038, 6409.795101759228, 6620.479222720478, 7004.7399052132705, 6403.548414634146, 6196.464268292683, 6505.025756097561, 6711.921951219512, 6793.678489326765]], \"x\": [1, 2, 3, 4, 5, 6, 7, 8, 9, 10, 11, 12], \"y\": [\"Friday\", \"Monday\", \"Saturday\", \"Sunday\", \"Thursday\", \"Tuesday\", \"Wednesday\"], \"colorscale\": [[0.0, \"rgb(158,1,66)\"], [0.1, \"rgb(213,62,79)\"], [0.2, \"rgb(244,109,67)\"], [0.3, \"rgb(253,174,97)\"], [0.4, \"rgb(254,224,139)\"], [0.5, \"rgb(255,255,191)\"], [0.6, \"rgb(230,245,152)\"], [0.7, \"rgb(171,221,164)\"], [0.8, \"rgb(102,194,165)\"], [0.9, \"rgb(50,136,189)\"], [1.0, \"rgb(94,79,162)\"]]}], {\"legend\": {\"bgcolor\": \"#F5F6F9\", \"font\": {\"color\": \"#4D5663\"}}, \"paper_bgcolor\": \"#F5F6F9\", \"plot_bgcolor\": \"#F5F6F9\", \"yaxis1\": {\"tickfont\": {\"color\": \"#4D5663\"}, \"gridcolor\": \"#E1E5ED\", \"titlefont\": {\"color\": \"#4D5663\"}, \"zerolinecolor\": \"#E1E5ED\", \"showgrid\": true, \"title\": \"\"}, \"xaxis1\": {\"tickfont\": {\"color\": \"#4D5663\"}, \"gridcolor\": \"#E1E5ED\", \"titlefont\": {\"color\": \"#4D5663\"}, \"zerolinecolor\": \"#E1E5ED\", \"showgrid\": true, \"title\": \"\"}, \"titlefont\": {\"color\": \"#4D5663\"}, \"title\": \"Cufflinks - Heatmap\"}, {\"showLink\": true, \"linkText\": \"Export to plot.ly\"})});</script>"
      ]
     },
     "metadata": {},
     "output_type": "display_data"
    }
   ],
   "source": [
    "pt = train.pivot_table(index='Month', columns='Dayoftheweek', values ='Sales')\n",
    "pt.iplot(kind='heatmap',colorscale='spectral',title='Cufflinks - Heatmap')"
   ]
  },
  {
   "cell_type": "markdown",
   "metadata": {},
   "source": [
    "**The relation between the Months and the Day of the Month**"
   ]
  },
  {
   "cell_type": "code",
   "execution_count": 22,
   "metadata": {},
   "outputs": [
    {
     "data": {
      "application/vnd.plotly.v1+json": {
       "data": [
        {
         "colorscale": [
          [
           0,
           "rgb(158,1,66)"
          ],
          [
           0.1,
           "rgb(213,62,79)"
          ],
          [
           0.2,
           "rgb(244,109,67)"
          ],
          [
           0.3,
           "rgb(253,174,97)"
          ],
          [
           0.4,
           "rgb(254,224,139)"
          ],
          [
           0.5,
           "rgb(255,255,191)"
          ],
          [
           0.6,
           "rgb(230,245,152)"
          ],
          [
           0.7,
           "rgb(171,221,164)"
          ],
          [
           0.8,
           "rgb(102,194,165)"
          ],
          [
           0.9,
           "rgb(50,136,189)"
          ],
          [
           1,
           "rgb(94,79,162)"
          ]
         ],
         "type": "heatmap",
         "x": [
          1,
          2,
          3,
          4,
          5,
          6,
          7,
          8,
          9,
          10,
          11,
          12,
          13,
          14,
          15,
          16,
          17,
          18,
          19,
          20,
          21,
          22,
          23,
          24,
          25,
          26,
          27,
          28,
          29,
          30,
          31
         ],
         "y": [
          1,
          2,
          3,
          4,
          5,
          6,
          7,
          8,
          9,
          10,
          11,
          12
         ],
         "z": [
          [
           103.32087320574162,
           6425.057100149477,
           5836.288191330344,
           3944.2170403587443,
           5213.84245142003,
           4662.813751868461,
           8940.399701046337,
           7485.596711509716,
           7087.782361733931,
           6749.745590433483,
           4321.031988041854,
           4793.392825112108,
           4416.307922272048,
           5845.835575485799,
           5700.135127055307,
           5820.458594917788,
           5454.37399103139,
           3750.618535127055,
           3758.5533632286997,
           4946.06307922272,
           6911.30822122571,
           6644.092974588939,
           6486.785351270553,
           6308.873542600897,
           4169.163228699552,
           4607.092974588939,
           4252.55754857997,
           5859.294768310911,
           5765.686995515695,
           6480.657997010463,
           6684.310014947683
          ],
          [
           4293.791629297459,
           5168.266965620329,
           6228.396113602392,
           8406.934828101645,
           7555.308520179372,
           7402.347683109118,
           6606.894768310912,
           4354.104932735426,
           3835.109715994021,
           3877.148878923767,
           5371.419431988042,
           5309.724065769806,
           5849.90134529148,
           6041.94110612855,
           3816.4448430493276,
           4685.888191330344,
           5724.740508221225,
           8212.351569506727,
           7137.746786248132,
           7053.2460388639765,
           6506.760837070254,
           4234.461883408072,
           3530.0239162929747,
           3652.3303437967115,
           5184.208669656204,
           5412.078923766816,
           5917.451718983558,
           6698.063976083707,
           null,
           null,
           null
          ],
          [
           4353.402092675636,
           5362.648729446936,
           5884.860986547085,
           8581.860089686099,
           7775.742301943199,
           7477.441255605381,
           6885.835874439462,
           4303.566816143498,
           3890.4400597907324,
           3761.052914798206,
           5492.545889387145,
           5234.608669656203,
           5581.982959641256,
           5731.437070254111,
           3987.4215246636772,
           5246.495366218236,
           5769.106427503737,
           7921.633781763827,
           7310.036771300448,
           6935.547982062781,
           6570.047832585949,
           4382.29446935725,
           3989.3159940209266,
           3863.6726457399104,
           6716.267563527653,
           6430.249626307922,
           6809.395515695067,
           7494.514798206278,
           1999.6956651718983,
           6564.693572496263,
           7014.129745889387
          ],
          [
           6115.797608370703,
           8094.751270553064,
           4443.700149476831,
           7305.732436472347,
           4005.985650224215,
           1993.1653213751867,
           4397.595814648729,
           6922.0980568011955,
           6394.374289985052,
           6245.898056801196,
           6258.944992526159,
           4391.450523168909,
           5184.093273542601,
           6287.544095665172,
           7289.087892376681,
           7201.806278026906,
           7369.937817638266,
           3742.2373692077726,
           4488.864573991032,
           3821.168609865471,
           1933.888789237668,
           6755.142301943199,
           6038.477130044843,
           5854.841853512706,
           5873.504633781764,
           4142.008669656203,
           5122.096860986547,
           6031.724962630792,
           8674.144992526159,
           9785.943198804185,
           null
          ],
          [
           210.24813153961136,
           8956.667862481316,
           4803.251718983557,
           5294.807473841554,
           5912.205680119581,
           7351.978475336323,
           7085.259192825112,
           7388.698355754858,
           4817.017040358744,
           4652.064872944694,
           4075.9665171898355,
           3971.716591928251,
           7205.695067264574,
           4511.964723467862,
           6761.500747384155,
           6247.505829596413,
           4345.055007473841,
           5156.498355754858,
           5756.987144992526,
           5044.483707025411,
           6923.742600896861,
           6563.620029895366,
           6325.951868460389,
           3849.129446935725,
           1892.4152466367714,
           4325.113303437967,
           6907.952765321375,
           6968.4594917787745,
           5246.676532137519,
           6223.164424514201,
           5403.040956651719
          ],
          [
           5655.017937219731,
           6524.970104633781,
           8811.748579970104,
           6238.686696562033,
           7838.682511210763,
           6870.660388639761,
           4472.754260089686,
           4076.700149476831,
           2206.4038863976084,
           6160.918385650224,
           5812.636771300448,
           5831.587144992526,
           5866.310014947683,
           4104.978774289985,
           5367.1763826606875,
           6144.648430493274,
           8402.092675635276,
           7578.818834080717,
           5683.0418535127055,
           7003.700747384156,
           4401.171300448431,
           3878.211958146487,
           3922.854110612855,
           5623.200597907325,
           5386.3671150971595,
           5520.290881913304,
           5925.926756352766,
           4327.139312406577,
           5705.024215246637,
           7487.210463378176,
           null
          ],
          [
           8840.667298578199,
           7927.801895734598,
           7630.961137440759,
           6644.9665086887835,
           4433.15766192733,
           4331.416113744076,
           4008.52448657188,
           5904.583570300158,
           5704.532385466035,
           6016.653080568721,
           5856.821169036335,
           3888.1864139020536,
           5401.816113744076,
           5750.932385466035,
           8823.359873617694,
           7807.174407582938,
           7284.575355450237,
           6694.781358609795,
           4222.484360189574,
           4274.648025276461,
           3880.719747235387,
           5583.129225908373,
           5536.604107424961,
           5607.300473933649,
           5554.769352290679,
           3615.78009478673,
           5181.864139020538,
           5650.677409162718,
           8569.606319115324,
           8319.757345971564,
           9064.13522906793
          ],
          [
           7964.97756097561,
           6529.790731707317,
           3216.530731707317,
           4544.194146341463,
           7170.847804878049,
           6378.533170731707,
           6432.761463414634,
           6342.58487804878,
           5623.524390243902,
           2990.8248780487806,
           2972.8117073170733,
           8009.26,
           6989.95512195122,
           6782.696585365854,
           6158.373658536585,
           6419.005365853659,
           2848.9648780487805,
           4630.6117073170735,
           6872.953170731707,
           6347.624390243903,
           6006.406829268292,
           6047.954634146341,
           5362.910243902439,
           2754.510731707317,
           2915.0951219512194,
           7492.091707317073,
           6616.760487804878,
           6436.18,
           7089.394634146342,
           7251.03756097561,
           3284.3448780487806
          ],
          [
           4872.289268292683,
           7165.6863414634145,
           6581.816585365854,
           6236.89756097561,
           6220.775121951219,
           5430.309756097561,
           2938.1063414634145,
           2868.683902439024,
           7959.940975609756,
           6910.921463414634,
           6621.66487804878,
           6622.339024390244,
           6588.421951219512,
           2994.081951219512,
           4365.08,
           6498.556097560976,
           5999.416585365853,
           5773.497560975609,
           6023.201463414634,
           5345.58,
           2920.6946341463413,
           2674.0531707317073,
           7037.30243902439,
           6208.991707317073,
           6029.339512195122,
           6248.806829268293,
           6459.8936585365855,
           3153.9956097560976,
           4281.541951219512,
           8075.494634146341,
           null
          ],
          [
           7014.406829268292,
           7475.456097560976,
           289.5151219512195,
           7133.033170731707,
           3106.2521951219514,
           4510.208292682927,
           8973.260487804879,
           7716.517073170732,
           7271.481463414634,
           7247.429756097561,
           6503.2834146341465,
           3143.450731707317,
           2767.338536585366,
           5748.853170731707,
           5353.56243902439,
           5421.114634146342,
           5517.487317073171,
           5495.269268292683,
           2962.886829268293,
           4042.5351219512195,
           8054.266829268293,
           6857.264390243902,
           6770.881463414634,
           6781.437073170731,
           6089.64,
           2909.3214634146343,
           2793.4146341463415,
           5363.69268292683,
           5575.883414634146,
           6459.461951219512,
           6299.554146341464
          ],
          [
           3640.4326829268293,
           3719.1463414634145,
           4941.296097560976,
           9146.187804878049,
           8194.913170731706,
           7516.490243902439,
           7439.073170731707,
           6865.001463414635,
           3290.0073170731707,
           4040.5648780487804,
           6588.742926829268,
           6190.002439024391,
           6233.588780487805,
           6441.55512195122,
           6008.983414634146,
           3321.6648780487803,
           2948.4634146341464,
           7754.220487804878,
           6724.220975609756,
           6365.068780487805,
           6780.957560975609,
           6693.48,
           3312.8658536585367,
           4496.792682926829,
           7352.959024390244,
           6922.920487804878,
           7118.501463414635,
           8017.033658536586,
           7857.959024390244,
           4320.260487804878,
           null
          ],
          [
           5120.4897560975605,
           10642.079024390245,
           9352.908780487805,
           9150.200975609756,
           9804.19756097561,
           7273.598048780488,
           3623.2243902439022,
           3292.7512195121953,
           6798.685365853658,
           6520.997560975609,
           6595.88,
           6839.711707317073,
           7215.386829268293,
           3978.9829268292683,
           6023.128292682927,
           12802.247804878049,
           10993.843414634146,
           10730.676097560976,
           10370.12780487805,
           9898.003414634146,
           5085.17756097561,
           5498.351219512195,
           12225.453658536586,
           4802.694634146342,
           145.35170731707316,
           192.11463414634147,
           6770.175609756097,
           3387.6287804878048,
           3667.306829268293,
           8711.16,
           4112.417073170732
          ]
         ]
        }
       ],
       "layout": {
        "legend": {
         "bgcolor": "#F5F6F9",
         "font": {
          "color": "#4D5663"
         }
        },
        "paper_bgcolor": "#F5F6F9",
        "plot_bgcolor": "#F5F6F9",
        "title": "Cufflinks - Heatmap",
        "titlefont": {
         "color": "#4D5663"
        },
        "xaxis1": {
         "gridcolor": "#E1E5ED",
         "showgrid": true,
         "tickfont": {
          "color": "#4D5663"
         },
         "title": "",
         "titlefont": {
          "color": "#4D5663"
         },
         "zerolinecolor": "#E1E5ED"
        },
        "yaxis1": {
         "gridcolor": "#E1E5ED",
         "showgrid": true,
         "tickfont": {
          "color": "#4D5663"
         },
         "title": "",
         "titlefont": {
          "color": "#4D5663"
         },
         "zerolinecolor": "#E1E5ED"
        }
       }
      },
      "text/html": [
       "<div id=\"c1684fac-6a93-4c01-b7fd-5350adbb0d3f\" style=\"height: 525px; width: 100%;\" class=\"plotly-graph-div\"></div><script type=\"text/javascript\">require([\"plotly\"], function(Plotly) { window.PLOTLYENV=window.PLOTLYENV || {};window.PLOTLYENV.BASE_URL=\"https://plot.ly\";Plotly.newPlot(\"c1684fac-6a93-4c01-b7fd-5350adbb0d3f\", [{\"type\": \"heatmap\", \"z\": [[103.32087320574162, 6425.057100149477, 5836.288191330344, 3944.2170403587443, 5213.84245142003, 4662.813751868461, 8940.399701046337, 7485.596711509716, 7087.782361733931, 6749.745590433483, 4321.031988041854, 4793.392825112108, 4416.307922272048, 5845.835575485799, 5700.135127055307, 5820.458594917788, 5454.37399103139, 3750.618535127055, 3758.5533632286997, 4946.06307922272, 6911.30822122571, 6644.092974588939, 6486.785351270553, 6308.873542600897, 4169.163228699552, 4607.092974588939, 4252.55754857997, 5859.294768310911, 5765.686995515695, 6480.657997010463, 6684.310014947683], [4293.791629297459, 5168.266965620329, 6228.396113602392, 8406.934828101645, 7555.308520179372, 7402.347683109118, 6606.894768310912, 4354.104932735426, 3835.109715994021, 3877.148878923767, 5371.419431988042, 5309.724065769806, 5849.90134529148, 6041.94110612855, 3816.4448430493276, 4685.888191330344, 5724.740508221225, 8212.351569506727, 7137.746786248132, 7053.2460388639765, 6506.760837070254, 4234.461883408072, 3530.0239162929747, 3652.3303437967115, 5184.208669656204, 5412.078923766816, 5917.451718983558, 6698.063976083707, null, null, null], [4353.402092675636, 5362.648729446936, 5884.860986547085, 8581.860089686099, 7775.742301943199, 7477.441255605381, 6885.835874439462, 4303.566816143498, 3890.4400597907324, 3761.052914798206, 5492.545889387145, 5234.608669656203, 5581.982959641256, 5731.437070254111, 3987.4215246636772, 5246.495366218236, 5769.106427503737, 7921.633781763827, 7310.036771300448, 6935.547982062781, 6570.047832585949, 4382.29446935725, 3989.3159940209266, 3863.6726457399104, 6716.267563527653, 6430.249626307922, 6809.395515695067, 7494.514798206278, 1999.6956651718983, 6564.693572496263, 7014.129745889387], [6115.797608370703, 8094.751270553064, 4443.700149476831, 7305.732436472347, 4005.985650224215, 1993.1653213751867, 4397.595814648729, 6922.0980568011955, 6394.374289985052, 6245.898056801196, 6258.944992526159, 4391.450523168909, 5184.093273542601, 6287.544095665172, 7289.087892376681, 7201.806278026906, 7369.937817638266, 3742.2373692077726, 4488.864573991032, 3821.168609865471, 1933.888789237668, 6755.142301943199, 6038.477130044843, 5854.841853512706, 5873.504633781764, 4142.008669656203, 5122.096860986547, 6031.724962630792, 8674.144992526159, 9785.943198804185, null], [210.24813153961136, 8956.667862481316, 4803.251718983557, 5294.807473841554, 5912.205680119581, 7351.978475336323, 7085.259192825112, 7388.698355754858, 4817.017040358744, 4652.064872944694, 4075.9665171898355, 3971.716591928251, 7205.695067264574, 4511.964723467862, 6761.500747384155, 6247.505829596413, 4345.055007473841, 5156.498355754858, 5756.987144992526, 5044.483707025411, 6923.742600896861, 6563.620029895366, 6325.951868460389, 3849.129446935725, 1892.4152466367714, 4325.113303437967, 6907.952765321375, 6968.4594917787745, 5246.676532137519, 6223.164424514201, 5403.040956651719], [5655.017937219731, 6524.970104633781, 8811.748579970104, 6238.686696562033, 7838.682511210763, 6870.660388639761, 4472.754260089686, 4076.700149476831, 2206.4038863976084, 6160.918385650224, 5812.636771300448, 5831.587144992526, 5866.310014947683, 4104.978774289985, 5367.1763826606875, 6144.648430493274, 8402.092675635276, 7578.818834080717, 5683.0418535127055, 7003.700747384156, 4401.171300448431, 3878.211958146487, 3922.854110612855, 5623.200597907325, 5386.3671150971595, 5520.290881913304, 5925.926756352766, 4327.139312406577, 5705.024215246637, 7487.210463378176, null], [8840.667298578199, 7927.801895734598, 7630.961137440759, 6644.9665086887835, 4433.15766192733, 4331.416113744076, 4008.52448657188, 5904.583570300158, 5704.532385466035, 6016.653080568721, 5856.821169036335, 3888.1864139020536, 5401.816113744076, 5750.932385466035, 8823.359873617694, 7807.174407582938, 7284.575355450237, 6694.781358609795, 4222.484360189574, 4274.648025276461, 3880.719747235387, 5583.129225908373, 5536.604107424961, 5607.300473933649, 5554.769352290679, 3615.78009478673, 5181.864139020538, 5650.677409162718, 8569.606319115324, 8319.757345971564, 9064.13522906793], [7964.97756097561, 6529.790731707317, 3216.530731707317, 4544.194146341463, 7170.847804878049, 6378.533170731707, 6432.761463414634, 6342.58487804878, 5623.524390243902, 2990.8248780487806, 2972.8117073170733, 8009.26, 6989.95512195122, 6782.696585365854, 6158.373658536585, 6419.005365853659, 2848.9648780487805, 4630.6117073170735, 6872.953170731707, 6347.624390243903, 6006.406829268292, 6047.954634146341, 5362.910243902439, 2754.510731707317, 2915.0951219512194, 7492.091707317073, 6616.760487804878, 6436.18, 7089.394634146342, 7251.03756097561, 3284.3448780487806], [4872.289268292683, 7165.6863414634145, 6581.816585365854, 6236.89756097561, 6220.775121951219, 5430.309756097561, 2938.1063414634145, 2868.683902439024, 7959.940975609756, 6910.921463414634, 6621.66487804878, 6622.339024390244, 6588.421951219512, 2994.081951219512, 4365.08, 6498.556097560976, 5999.416585365853, 5773.497560975609, 6023.201463414634, 5345.58, 2920.6946341463413, 2674.0531707317073, 7037.30243902439, 6208.991707317073, 6029.339512195122, 6248.806829268293, 6459.8936585365855, 3153.9956097560976, 4281.541951219512, 8075.494634146341, null], [7014.406829268292, 7475.456097560976, 289.5151219512195, 7133.033170731707, 3106.2521951219514, 4510.208292682927, 8973.260487804879, 7716.517073170732, 7271.481463414634, 7247.429756097561, 6503.2834146341465, 3143.450731707317, 2767.338536585366, 5748.853170731707, 5353.56243902439, 5421.114634146342, 5517.487317073171, 5495.269268292683, 2962.886829268293, 4042.5351219512195, 8054.266829268293, 6857.264390243902, 6770.881463414634, 6781.437073170731, 6089.64, 2909.3214634146343, 2793.4146341463415, 5363.69268292683, 5575.883414634146, 6459.461951219512, 6299.554146341464], [3640.4326829268293, 3719.1463414634145, 4941.296097560976, 9146.187804878049, 8194.913170731706, 7516.490243902439, 7439.073170731707, 6865.001463414635, 3290.0073170731707, 4040.5648780487804, 6588.742926829268, 6190.002439024391, 6233.588780487805, 6441.55512195122, 6008.983414634146, 3321.6648780487803, 2948.4634146341464, 7754.220487804878, 6724.220975609756, 6365.068780487805, 6780.957560975609, 6693.48, 3312.8658536585367, 4496.792682926829, 7352.959024390244, 6922.920487804878, 7118.501463414635, 8017.033658536586, 7857.959024390244, 4320.260487804878, null], [5120.4897560975605, 10642.079024390245, 9352.908780487805, 9150.200975609756, 9804.19756097561, 7273.598048780488, 3623.2243902439022, 3292.7512195121953, 6798.685365853658, 6520.997560975609, 6595.88, 6839.711707317073, 7215.386829268293, 3978.9829268292683, 6023.128292682927, 12802.247804878049, 10993.843414634146, 10730.676097560976, 10370.12780487805, 9898.003414634146, 5085.17756097561, 5498.351219512195, 12225.453658536586, 4802.694634146342, 145.35170731707316, 192.11463414634147, 6770.175609756097, 3387.6287804878048, 3667.306829268293, 8711.16, 4112.417073170732]], \"x\": [1, 2, 3, 4, 5, 6, 7, 8, 9, 10, 11, 12, 13, 14, 15, 16, 17, 18, 19, 20, 21, 22, 23, 24, 25, 26, 27, 28, 29, 30, 31], \"y\": [1, 2, 3, 4, 5, 6, 7, 8, 9, 10, 11, 12], \"colorscale\": [[0.0, \"rgb(158,1,66)\"], [0.1, \"rgb(213,62,79)\"], [0.2, \"rgb(244,109,67)\"], [0.3, \"rgb(253,174,97)\"], [0.4, \"rgb(254,224,139)\"], [0.5, \"rgb(255,255,191)\"], [0.6, \"rgb(230,245,152)\"], [0.7, \"rgb(171,221,164)\"], [0.8, \"rgb(102,194,165)\"], [0.9, \"rgb(50,136,189)\"], [1.0, \"rgb(94,79,162)\"]]}], {\"legend\": {\"bgcolor\": \"#F5F6F9\", \"font\": {\"color\": \"#4D5663\"}}, \"paper_bgcolor\": \"#F5F6F9\", \"plot_bgcolor\": \"#F5F6F9\", \"yaxis1\": {\"tickfont\": {\"color\": \"#4D5663\"}, \"gridcolor\": \"#E1E5ED\", \"titlefont\": {\"color\": \"#4D5663\"}, \"zerolinecolor\": \"#E1E5ED\", \"showgrid\": true, \"title\": \"\"}, \"xaxis1\": {\"tickfont\": {\"color\": \"#4D5663\"}, \"gridcolor\": \"#E1E5ED\", \"titlefont\": {\"color\": \"#4D5663\"}, \"zerolinecolor\": \"#E1E5ED\", \"showgrid\": true, \"title\": \"\"}, \"titlefont\": {\"color\": \"#4D5663\"}, \"title\": \"Cufflinks - Heatmap\"}, {\"showLink\": true, \"linkText\": \"Export to plot.ly\"})});</script>"
      ],
      "text/vnd.plotly.v1+html": [
       "<div id=\"c1684fac-6a93-4c01-b7fd-5350adbb0d3f\" style=\"height: 525px; width: 100%;\" class=\"plotly-graph-div\"></div><script type=\"text/javascript\">require([\"plotly\"], function(Plotly) { window.PLOTLYENV=window.PLOTLYENV || {};window.PLOTLYENV.BASE_URL=\"https://plot.ly\";Plotly.newPlot(\"c1684fac-6a93-4c01-b7fd-5350adbb0d3f\", [{\"type\": \"heatmap\", \"z\": [[103.32087320574162, 6425.057100149477, 5836.288191330344, 3944.2170403587443, 5213.84245142003, 4662.813751868461, 8940.399701046337, 7485.596711509716, 7087.782361733931, 6749.745590433483, 4321.031988041854, 4793.392825112108, 4416.307922272048, 5845.835575485799, 5700.135127055307, 5820.458594917788, 5454.37399103139, 3750.618535127055, 3758.5533632286997, 4946.06307922272, 6911.30822122571, 6644.092974588939, 6486.785351270553, 6308.873542600897, 4169.163228699552, 4607.092974588939, 4252.55754857997, 5859.294768310911, 5765.686995515695, 6480.657997010463, 6684.310014947683], [4293.791629297459, 5168.266965620329, 6228.396113602392, 8406.934828101645, 7555.308520179372, 7402.347683109118, 6606.894768310912, 4354.104932735426, 3835.109715994021, 3877.148878923767, 5371.419431988042, 5309.724065769806, 5849.90134529148, 6041.94110612855, 3816.4448430493276, 4685.888191330344, 5724.740508221225, 8212.351569506727, 7137.746786248132, 7053.2460388639765, 6506.760837070254, 4234.461883408072, 3530.0239162929747, 3652.3303437967115, 5184.208669656204, 5412.078923766816, 5917.451718983558, 6698.063976083707, null, null, null], [4353.402092675636, 5362.648729446936, 5884.860986547085, 8581.860089686099, 7775.742301943199, 7477.441255605381, 6885.835874439462, 4303.566816143498, 3890.4400597907324, 3761.052914798206, 5492.545889387145, 5234.608669656203, 5581.982959641256, 5731.437070254111, 3987.4215246636772, 5246.495366218236, 5769.106427503737, 7921.633781763827, 7310.036771300448, 6935.547982062781, 6570.047832585949, 4382.29446935725, 3989.3159940209266, 3863.6726457399104, 6716.267563527653, 6430.249626307922, 6809.395515695067, 7494.514798206278, 1999.6956651718983, 6564.693572496263, 7014.129745889387], [6115.797608370703, 8094.751270553064, 4443.700149476831, 7305.732436472347, 4005.985650224215, 1993.1653213751867, 4397.595814648729, 6922.0980568011955, 6394.374289985052, 6245.898056801196, 6258.944992526159, 4391.450523168909, 5184.093273542601, 6287.544095665172, 7289.087892376681, 7201.806278026906, 7369.937817638266, 3742.2373692077726, 4488.864573991032, 3821.168609865471, 1933.888789237668, 6755.142301943199, 6038.477130044843, 5854.841853512706, 5873.504633781764, 4142.008669656203, 5122.096860986547, 6031.724962630792, 8674.144992526159, 9785.943198804185, null], [210.24813153961136, 8956.667862481316, 4803.251718983557, 5294.807473841554, 5912.205680119581, 7351.978475336323, 7085.259192825112, 7388.698355754858, 4817.017040358744, 4652.064872944694, 4075.9665171898355, 3971.716591928251, 7205.695067264574, 4511.964723467862, 6761.500747384155, 6247.505829596413, 4345.055007473841, 5156.498355754858, 5756.987144992526, 5044.483707025411, 6923.742600896861, 6563.620029895366, 6325.951868460389, 3849.129446935725, 1892.4152466367714, 4325.113303437967, 6907.952765321375, 6968.4594917787745, 5246.676532137519, 6223.164424514201, 5403.040956651719], [5655.017937219731, 6524.970104633781, 8811.748579970104, 6238.686696562033, 7838.682511210763, 6870.660388639761, 4472.754260089686, 4076.700149476831, 2206.4038863976084, 6160.918385650224, 5812.636771300448, 5831.587144992526, 5866.310014947683, 4104.978774289985, 5367.1763826606875, 6144.648430493274, 8402.092675635276, 7578.818834080717, 5683.0418535127055, 7003.700747384156, 4401.171300448431, 3878.211958146487, 3922.854110612855, 5623.200597907325, 5386.3671150971595, 5520.290881913304, 5925.926756352766, 4327.139312406577, 5705.024215246637, 7487.210463378176, null], [8840.667298578199, 7927.801895734598, 7630.961137440759, 6644.9665086887835, 4433.15766192733, 4331.416113744076, 4008.52448657188, 5904.583570300158, 5704.532385466035, 6016.653080568721, 5856.821169036335, 3888.1864139020536, 5401.816113744076, 5750.932385466035, 8823.359873617694, 7807.174407582938, 7284.575355450237, 6694.781358609795, 4222.484360189574, 4274.648025276461, 3880.719747235387, 5583.129225908373, 5536.604107424961, 5607.300473933649, 5554.769352290679, 3615.78009478673, 5181.864139020538, 5650.677409162718, 8569.606319115324, 8319.757345971564, 9064.13522906793], [7964.97756097561, 6529.790731707317, 3216.530731707317, 4544.194146341463, 7170.847804878049, 6378.533170731707, 6432.761463414634, 6342.58487804878, 5623.524390243902, 2990.8248780487806, 2972.8117073170733, 8009.26, 6989.95512195122, 6782.696585365854, 6158.373658536585, 6419.005365853659, 2848.9648780487805, 4630.6117073170735, 6872.953170731707, 6347.624390243903, 6006.406829268292, 6047.954634146341, 5362.910243902439, 2754.510731707317, 2915.0951219512194, 7492.091707317073, 6616.760487804878, 6436.18, 7089.394634146342, 7251.03756097561, 3284.3448780487806], [4872.289268292683, 7165.6863414634145, 6581.816585365854, 6236.89756097561, 6220.775121951219, 5430.309756097561, 2938.1063414634145, 2868.683902439024, 7959.940975609756, 6910.921463414634, 6621.66487804878, 6622.339024390244, 6588.421951219512, 2994.081951219512, 4365.08, 6498.556097560976, 5999.416585365853, 5773.497560975609, 6023.201463414634, 5345.58, 2920.6946341463413, 2674.0531707317073, 7037.30243902439, 6208.991707317073, 6029.339512195122, 6248.806829268293, 6459.8936585365855, 3153.9956097560976, 4281.541951219512, 8075.494634146341, null], [7014.406829268292, 7475.456097560976, 289.5151219512195, 7133.033170731707, 3106.2521951219514, 4510.208292682927, 8973.260487804879, 7716.517073170732, 7271.481463414634, 7247.429756097561, 6503.2834146341465, 3143.450731707317, 2767.338536585366, 5748.853170731707, 5353.56243902439, 5421.114634146342, 5517.487317073171, 5495.269268292683, 2962.886829268293, 4042.5351219512195, 8054.266829268293, 6857.264390243902, 6770.881463414634, 6781.437073170731, 6089.64, 2909.3214634146343, 2793.4146341463415, 5363.69268292683, 5575.883414634146, 6459.461951219512, 6299.554146341464], [3640.4326829268293, 3719.1463414634145, 4941.296097560976, 9146.187804878049, 8194.913170731706, 7516.490243902439, 7439.073170731707, 6865.001463414635, 3290.0073170731707, 4040.5648780487804, 6588.742926829268, 6190.002439024391, 6233.588780487805, 6441.55512195122, 6008.983414634146, 3321.6648780487803, 2948.4634146341464, 7754.220487804878, 6724.220975609756, 6365.068780487805, 6780.957560975609, 6693.48, 3312.8658536585367, 4496.792682926829, 7352.959024390244, 6922.920487804878, 7118.501463414635, 8017.033658536586, 7857.959024390244, 4320.260487804878, null], [5120.4897560975605, 10642.079024390245, 9352.908780487805, 9150.200975609756, 9804.19756097561, 7273.598048780488, 3623.2243902439022, 3292.7512195121953, 6798.685365853658, 6520.997560975609, 6595.88, 6839.711707317073, 7215.386829268293, 3978.9829268292683, 6023.128292682927, 12802.247804878049, 10993.843414634146, 10730.676097560976, 10370.12780487805, 9898.003414634146, 5085.17756097561, 5498.351219512195, 12225.453658536586, 4802.694634146342, 145.35170731707316, 192.11463414634147, 6770.175609756097, 3387.6287804878048, 3667.306829268293, 8711.16, 4112.417073170732]], \"x\": [1, 2, 3, 4, 5, 6, 7, 8, 9, 10, 11, 12, 13, 14, 15, 16, 17, 18, 19, 20, 21, 22, 23, 24, 25, 26, 27, 28, 29, 30, 31], \"y\": [1, 2, 3, 4, 5, 6, 7, 8, 9, 10, 11, 12], \"colorscale\": [[0.0, \"rgb(158,1,66)\"], [0.1, \"rgb(213,62,79)\"], [0.2, \"rgb(244,109,67)\"], [0.3, \"rgb(253,174,97)\"], [0.4, \"rgb(254,224,139)\"], [0.5, \"rgb(255,255,191)\"], [0.6, \"rgb(230,245,152)\"], [0.7, \"rgb(171,221,164)\"], [0.8, \"rgb(102,194,165)\"], [0.9, \"rgb(50,136,189)\"], [1.0, \"rgb(94,79,162)\"]]}], {\"legend\": {\"bgcolor\": \"#F5F6F9\", \"font\": {\"color\": \"#4D5663\"}}, \"paper_bgcolor\": \"#F5F6F9\", \"plot_bgcolor\": \"#F5F6F9\", \"yaxis1\": {\"tickfont\": {\"color\": \"#4D5663\"}, \"gridcolor\": \"#E1E5ED\", \"titlefont\": {\"color\": \"#4D5663\"}, \"zerolinecolor\": \"#E1E5ED\", \"showgrid\": true, \"title\": \"\"}, \"xaxis1\": {\"tickfont\": {\"color\": \"#4D5663\"}, \"gridcolor\": \"#E1E5ED\", \"titlefont\": {\"color\": \"#4D5663\"}, \"zerolinecolor\": \"#E1E5ED\", \"showgrid\": true, \"title\": \"\"}, \"titlefont\": {\"color\": \"#4D5663\"}, \"title\": \"Cufflinks - Heatmap\"}, {\"showLink\": true, \"linkText\": \"Export to plot.ly\"})});</script>"
      ]
     },
     "metadata": {},
     "output_type": "display_data"
    }
   ],
   "source": [
    "pt = train.pivot_table(index='Day', columns='Month', values ='Sales')\n",
    "pt.iplot(kind='heatmap',colorscale='spectral',title='Cufflinks - Heatmap')"
   ]
  },
  {
   "cell_type": "markdown",
   "metadata": {
    "collapsed": true
   },
   "source": [
    "*** Revenue by store type ***\n"
   ]
  },
  {
   "cell_type": "code",
   "execution_count": 54,
   "metadata": {},
   "outputs": [
    {
     "data": {
      "application/vnd.plotly.v1+json": {
       "data": [
        {
         "name": "Name of Trace 1",
         "type": "bar",
         "x": [
          "a",
          "d",
          "c",
          "b"
         ],
         "y": [
          3165334859,
          1765392943,
          783221426,
          159231395
         ]
        }
       ],
       "layout": {
        "title": "Revenue generated by Shop Type",
        "xaxis": {
         "title": "Store Type",
         "titlefont": {
          "color": "#7f7f7f",
          "family": "Courier New, monospace",
          "size": 18
         }
        },
        "yaxis": {
         "autorange": true,
         "title": "Sales",
         "titlefont": {
          "color": "#7f7f7f",
          "family": "Courier New, monospace",
          "size": 18
         }
        }
       }
      },
      "text/html": [
       "<div id=\"350675f5-71b6-4b5e-b5ea-c067de06f5dc\" style=\"height: 525px; width: 100%;\" class=\"plotly-graph-div\"></div><script type=\"text/javascript\">require([\"plotly\"], function(Plotly) { window.PLOTLYENV=window.PLOTLYENV || {};window.PLOTLYENV.BASE_URL=\"https://plot.ly\";Plotly.newPlot(\"350675f5-71b6-4b5e-b5ea-c067de06f5dc\", [{\"type\": \"bar\", \"x\": [\"a\", \"d\", \"c\", \"b\"], \"y\": [3165334859, 1765392943, 783221426, 159231395], \"name\": \"Name of Trace 1\"}], {\"title\": \"Revenue generated by Shop Type\", \"xaxis\": {\"title\": \"Store Type\", \"titlefont\": {\"family\": \"Courier New, monospace\", \"size\": 18, \"color\": \"#7f7f7f\"}}, \"yaxis\": {\"title\": \"Sales\", \"autorange\": true, \"titlefont\": {\"family\": \"Courier New, monospace\", \"size\": 18, \"color\": \"#7f7f7f\"}}}, {\"showLink\": true, \"linkText\": \"Export to plot.ly\"})});</script>"
      ],
      "text/vnd.plotly.v1+html": [
       "<div id=\"350675f5-71b6-4b5e-b5ea-c067de06f5dc\" style=\"height: 525px; width: 100%;\" class=\"plotly-graph-div\"></div><script type=\"text/javascript\">require([\"plotly\"], function(Plotly) { window.PLOTLYENV=window.PLOTLYENV || {};window.PLOTLYENV.BASE_URL=\"https://plot.ly\";Plotly.newPlot(\"350675f5-71b6-4b5e-b5ea-c067de06f5dc\", [{\"type\": \"bar\", \"x\": [\"a\", \"d\", \"c\", \"b\"], \"y\": [3165334859, 1765392943, 783221426, 159231395], \"name\": \"Name of Trace 1\"}], {\"title\": \"Revenue generated by Shop Type\", \"xaxis\": {\"title\": \"Store Type\", \"titlefont\": {\"family\": \"Courier New, monospace\", \"size\": 18, \"color\": \"#7f7f7f\"}}, \"yaxis\": {\"title\": \"Sales\", \"autorange\": true, \"titlefont\": {\"family\": \"Courier New, monospace\", \"size\": 18, \"color\": \"#7f7f7f\"}}}, {\"showLink\": true, \"linkText\": \"Export to plot.ly\"})});</script>"
      ]
     },
     "metadata": {},
     "output_type": "display_data"
    }
   ],
   "source": [
    "#Sum the train dataframe by store number summing up the others columns \n",
    "trainsumbystore = train.groupby('Store').sum().reset_index()\n",
    " \n",
    "#Merge the two datasets \n",
    "\n",
    "mergedtable = pd.merge(trainsumbystore, store, on='Store')\n",
    "\n",
    "salesstoretype= mergedtable[['StoreType', 'Sales']]\n",
    "salesstoretype= salesstoretype.groupby('StoreType').sum().sort_values(by='Sales',ascending=False)\n",
    "salesstoretype= salesstoretype.reset_index()\n",
    "\n",
    "\n",
    "\n",
    "trace1 = go.Bar(\n",
    "    x=salesstoretype[('StoreType')],\n",
    "    y=salesstoretype[('Sales')],\n",
    "    name='Name of Trace 1'\n",
    ")\n",
    "\n",
    "data = [trace1]\n",
    "\n",
    "layout = go.Layout(\n",
    "    title='Revenue generated by Shop Type',\n",
    "    xaxis=dict(\n",
    "        title='Store Type',\n",
    "        titlefont=dict(\n",
    "            family='Courier New, monospace',\n",
    "            size=18,\n",
    "            color='#7f7f7f'\n",
    "        )\n",
    "    ),\n",
    "    yaxis=dict(\n",
    "        title='Sales',\n",
    "        autorange = True,\n",
    "        titlefont=dict(\n",
    "            family='Courier New, monospace',\n",
    "            size=18,\n",
    "            color='#7f7f7f'\n",
    "        )\n",
    "    )\n",
    ")\n",
    "fig = go.Figure(data=data, layout=layout)\n",
    "\n",
    "fig.iplot()\n",
    "#plot_url = py.plot(fig, filename='styling-names')\n",
    "                   \n",
    "#salesstoretype.iplot(colorscale='spectral', kind= 'bar', y= 'Sales', layout=layout)"
   ]
  },
  {
   "cell_type": "code",
   "execution_count": null,
   "metadata": {
    "collapsed": true
   },
   "outputs": [],
   "source": []
  },
  {
   "cell_type": "code",
   "execution_count": 24,
   "metadata": {},
   "outputs": [
    {
     "data": {
      "text/html": [
       "<div>\n",
       "<style>\n",
       "    .dataframe thead tr:only-child th {\n",
       "        text-align: right;\n",
       "    }\n",
       "\n",
       "    .dataframe thead th {\n",
       "        text-align: left;\n",
       "    }\n",
       "\n",
       "    .dataframe tbody tr th {\n",
       "        vertical-align: top;\n",
       "    }\n",
       "</style>\n",
       "<table border=\"1\" class=\"dataframe\">\n",
       "  <thead>\n",
       "    <tr style=\"text-align: right;\">\n",
       "      <th></th>\n",
       "      <th>Store</th>\n",
       "      <th>DayOfWeek</th>\n",
       "      <th>Date</th>\n",
       "      <th>Sales</th>\n",
       "      <th>Customers</th>\n",
       "      <th>Open</th>\n",
       "      <th>Promo</th>\n",
       "      <th>StateHoliday</th>\n",
       "      <th>SchoolHoliday</th>\n",
       "      <th>Month</th>\n",
       "      <th>Year</th>\n",
       "      <th>Day</th>\n",
       "      <th>Dayoftheweek</th>\n",
       "      <th>Monthofyear</th>\n",
       "    </tr>\n",
       "  </thead>\n",
       "  <tbody>\n",
       "    <tr>\n",
       "      <th>0</th>\n",
       "      <td>1</td>\n",
       "      <td>5</td>\n",
       "      <td>2015-07-31</td>\n",
       "      <td>5263</td>\n",
       "      <td>555</td>\n",
       "      <td>True</td>\n",
       "      <td>True</td>\n",
       "      <td>True</td>\n",
       "      <td>True</td>\n",
       "      <td>7</td>\n",
       "      <td>2015</td>\n",
       "      <td>31</td>\n",
       "      <td>Friday</td>\n",
       "      <td>Jul</td>\n",
       "    </tr>\n",
       "    <tr>\n",
       "      <th>1</th>\n",
       "      <td>2</td>\n",
       "      <td>5</td>\n",
       "      <td>2015-07-31</td>\n",
       "      <td>6064</td>\n",
       "      <td>625</td>\n",
       "      <td>True</td>\n",
       "      <td>True</td>\n",
       "      <td>True</td>\n",
       "      <td>True</td>\n",
       "      <td>7</td>\n",
       "      <td>2015</td>\n",
       "      <td>31</td>\n",
       "      <td>Friday</td>\n",
       "      <td>Jul</td>\n",
       "    </tr>\n",
       "    <tr>\n",
       "      <th>2</th>\n",
       "      <td>3</td>\n",
       "      <td>5</td>\n",
       "      <td>2015-07-31</td>\n",
       "      <td>8314</td>\n",
       "      <td>821</td>\n",
       "      <td>True</td>\n",
       "      <td>True</td>\n",
       "      <td>True</td>\n",
       "      <td>True</td>\n",
       "      <td>7</td>\n",
       "      <td>2015</td>\n",
       "      <td>31</td>\n",
       "      <td>Friday</td>\n",
       "      <td>Jul</td>\n",
       "    </tr>\n",
       "    <tr>\n",
       "      <th>3</th>\n",
       "      <td>4</td>\n",
       "      <td>5</td>\n",
       "      <td>2015-07-31</td>\n",
       "      <td>13995</td>\n",
       "      <td>1498</td>\n",
       "      <td>True</td>\n",
       "      <td>True</td>\n",
       "      <td>True</td>\n",
       "      <td>True</td>\n",
       "      <td>7</td>\n",
       "      <td>2015</td>\n",
       "      <td>31</td>\n",
       "      <td>Friday</td>\n",
       "      <td>Jul</td>\n",
       "    </tr>\n",
       "    <tr>\n",
       "      <th>4</th>\n",
       "      <td>5</td>\n",
       "      <td>5</td>\n",
       "      <td>2015-07-31</td>\n",
       "      <td>4822</td>\n",
       "      <td>559</td>\n",
       "      <td>True</td>\n",
       "      <td>True</td>\n",
       "      <td>True</td>\n",
       "      <td>True</td>\n",
       "      <td>7</td>\n",
       "      <td>2015</td>\n",
       "      <td>31</td>\n",
       "      <td>Friday</td>\n",
       "      <td>Jul</td>\n",
       "    </tr>\n",
       "  </tbody>\n",
       "</table>\n",
       "</div>"
      ],
      "text/plain": [
       "   Store  DayOfWeek       Date  Sales  Customers  Open  Promo  StateHoliday  \\\n",
       "0      1          5 2015-07-31   5263        555  True   True          True   \n",
       "1      2          5 2015-07-31   6064        625  True   True          True   \n",
       "2      3          5 2015-07-31   8314        821  True   True          True   \n",
       "3      4          5 2015-07-31  13995       1498  True   True          True   \n",
       "4      5          5 2015-07-31   4822        559  True   True          True   \n",
       "\n",
       "   SchoolHoliday  Month  Year  Day Dayoftheweek Monthofyear  \n",
       "0           True      7  2015   31       Friday         Jul  \n",
       "1           True      7  2015   31       Friday         Jul  \n",
       "2           True      7  2015   31       Friday         Jul  \n",
       "3           True      7  2015   31       Friday         Jul  \n",
       "4           True      7  2015   31       Friday         Jul  "
      ]
     },
     "execution_count": 24,
     "metadata": {},
     "output_type": "execute_result"
    }
   ],
   "source": [
    "train.head()"
   ]
  },
  {
   "cell_type": "code",
   "execution_count": 57,
   "metadata": {},
   "outputs": [
    {
     "name": "stdout",
     "output_type": "stream",
     "text": [
      "This is the format of your plot grid:\n",
      "[ (1,1) x1,y1 ]  [ (1,2) x2,y2 ]\n",
      "\n"
     ]
    },
    {
     "data": {
      "application/vnd.plotly.v1+json": {
       "data": [
        {
         "name": "Sales",
         "type": "bar",
         "x": [
          "Monday",
          "Tuesday",
          "Friday",
          "Wednesday",
          "Thursday",
          "Saturday",
          "Sunday"
         ],
         "xaxis": "x1",
         "y": [
          1130203012,
          1020411930,
          980555941,
          954962863,
          911177709,
          846317735,
          29551433
         ],
         "yaxis": "y1"
        },
        {
         "name": "Average customer basket",
         "type": "scatter",
         "x": [
          "Monday",
          "Tuesday",
          "Friday",
          "Wednesday",
          "Thursday",
          "Saturday",
          "Sunday"
         ],
         "xaxis": "x1",
         "y": [
          9.604443566999594,
          9.205500776319385,
          9.046985924781717,
          9.084705905027816,
          8.95656536529005,
          8.89887948179261,
          5.70554208130399
         ],
         "yaxis": "y1"
        },
        {
         "name": "Sales",
         "type": "bar",
         "x": [
          "Mrch",
          "Jul",
          "Jun",
          "April",
          "May",
          "Jan",
          "Feb",
          "Dec",
          "Nov",
          "Aug",
          "Oct",
          "Sep"
         ],
         "xaxis": "x2",
         "y": [
          599831906,
          595059205,
          578112775,
          575895295,
          569248217,
          566728724,
          528734410,
          433831153,
          369498877,
          361791202,
          351878728,
          342570131
         ],
         "yaxis": "y2"
        },
        {
         "name": "Average customer basket",
         "type": "scatter",
         "x": [
          "Mrch",
          "Jul",
          "Jun",
          "April",
          "May",
          "Jan",
          "Feb",
          "Dec",
          "Nov",
          "Aug",
          "Oct",
          "Sep"
         ],
         "xaxis": "x2",
         "y": [
          9.190595612687778,
          9.23643106533836,
          9.220580765087776,
          9.100458473118323,
          9.119135628508015,
          9.084507202325028,
          9.007686086947322,
          9.70974693019567,
          9.18463729893786,
          8.860767820121941,
          8.773685033342767,
          8.77980179906802
         ],
         "yaxis": "y2"
        }
       ],
       "layout": {
        "annotations": [
         {
          "font": {
           "size": 16
          },
          "showarrow": false,
          "text": "Plot 1",
          "x": 0.225,
          "xanchor": "center",
          "xref": "paper",
          "y": 1,
          "yanchor": "bottom",
          "yref": "paper"
         },
         {
          "font": {
           "size": 16
          },
          "showarrow": false,
          "text": "Plot 2",
          "x": 0.775,
          "xanchor": "center",
          "xref": "paper",
          "y": 1,
          "yanchor": "bottom",
          "yref": "paper"
         }
        ],
        "height": 600,
        "title": "Multiple Subplots with Titles",
        "width": 1200,
        "xaxis1": {
         "anchor": "y1",
         "domain": [
          0,
          0.45
         ]
        },
        "xaxis2": {
         "anchor": "y2",
         "domain": [
          0.55,
          1
         ]
        },
        "yaxis1": {
         "anchor": "x1",
         "domain": [
          0,
          1
         ]
        },
        "yaxis2": {
         "anchor": "x2",
         "domain": [
          0,
          1
         ]
        }
       }
      },
      "text/html": [
       "<div id=\"2f9cb9c0-770d-4c94-8fc2-a3340ed9409d\" style=\"height: 600px; width: 1200px;\" class=\"plotly-graph-div\"></div><script type=\"text/javascript\">require([\"plotly\"], function(Plotly) { window.PLOTLYENV=window.PLOTLYENV || {};window.PLOTLYENV.BASE_URL=\"https://plot.ly\";Plotly.newPlot(\"2f9cb9c0-770d-4c94-8fc2-a3340ed9409d\", [{\"type\": \"bar\", \"x\": [\"Monday\", \"Tuesday\", \"Friday\", \"Wednesday\", \"Thursday\", \"Saturday\", \"Sunday\"], \"y\": [1130203012, 1020411930, 980555941, 954962863, 911177709, 846317735, 29551433], \"name\": \"Sales\", \"xaxis\": \"x1\", \"yaxis\": \"y1\"}, {\"type\": \"scatter\", \"x\": [\"Monday\", \"Tuesday\", \"Friday\", \"Wednesday\", \"Thursday\", \"Saturday\", \"Sunday\"], \"y\": [9.604443566999594, 9.205500776319385, 9.046985924781717, 9.084705905027816, 8.95656536529005, 8.89887948179261, 5.70554208130399], \"name\": \"Average customer basket\", \"yaxis\": \"y1\", \"xaxis\": \"x1\"}, {\"type\": \"bar\", \"x\": [\"Mrch\", \"Jul\", \"Jun\", \"April\", \"May\", \"Jan\", \"Feb\", \"Dec\", \"Nov\", \"Aug\", \"Oct\", \"Sep\"], \"y\": [599831906, 595059205, 578112775, 575895295, 569248217, 566728724, 528734410, 433831153, 369498877, 361791202, 351878728, 342570131], \"name\": \"Sales\", \"yaxis\": \"y2\", \"xaxis\": \"x2\"}, {\"type\": \"scatter\", \"x\": [\"Mrch\", \"Jul\", \"Jun\", \"April\", \"May\", \"Jan\", \"Feb\", \"Dec\", \"Nov\", \"Aug\", \"Oct\", \"Sep\"], \"y\": [9.190595612687778, 9.23643106533836, 9.220580765087776, 9.100458473118323, 9.119135628508015, 9.084507202325028, 9.007686086947322, 9.70974693019567, 9.18463729893786, 8.860767820121941, 8.773685033342767, 8.77980179906802], \"name\": \"Average customer basket\", \"yaxis\": \"y2\", \"xaxis\": \"x2\"}], {\"xaxis1\": {\"domain\": [0.0, 0.45], \"anchor\": \"y1\"}, \"yaxis1\": {\"domain\": [0.0, 1.0], \"anchor\": \"x1\"}, \"xaxis2\": {\"domain\": [0.55, 1.0], \"anchor\": \"y2\"}, \"yaxis2\": {\"domain\": [0.0, 1.0], \"anchor\": \"x2\"}, \"annotations\": [{\"y\": 1.0, \"xref\": \"paper\", \"x\": 0.225, \"yref\": \"paper\", \"text\": \"Plot 1\", \"showarrow\": false, \"font\": {\"size\": 16}, \"xanchor\": \"center\", \"yanchor\": \"bottom\"}, {\"y\": 1.0, \"xref\": \"paper\", \"x\": 0.775, \"yref\": \"paper\", \"text\": \"Plot 2\", \"showarrow\": false, \"font\": {\"size\": 16}, \"xanchor\": \"center\", \"yanchor\": \"bottom\"}], \"height\": 600, \"width\": 1200, \"title\": \"Multiple Subplots with Titles\"}, {\"showLink\": true, \"linkText\": \"Export to plot.ly\"})});</script>"
      ],
      "text/vnd.plotly.v1+html": [
       "<div id=\"2f9cb9c0-770d-4c94-8fc2-a3340ed9409d\" style=\"height: 600px; width: 1200px;\" class=\"plotly-graph-div\"></div><script type=\"text/javascript\">require([\"plotly\"], function(Plotly) { window.PLOTLYENV=window.PLOTLYENV || {};window.PLOTLYENV.BASE_URL=\"https://plot.ly\";Plotly.newPlot(\"2f9cb9c0-770d-4c94-8fc2-a3340ed9409d\", [{\"type\": \"bar\", \"x\": [\"Monday\", \"Tuesday\", \"Friday\", \"Wednesday\", \"Thursday\", \"Saturday\", \"Sunday\"], \"y\": [1130203012, 1020411930, 980555941, 954962863, 911177709, 846317735, 29551433], \"name\": \"Sales\", \"xaxis\": \"x1\", \"yaxis\": \"y1\"}, {\"type\": \"scatter\", \"x\": [\"Monday\", \"Tuesday\", \"Friday\", \"Wednesday\", \"Thursday\", \"Saturday\", \"Sunday\"], \"y\": [9.604443566999594, 9.205500776319385, 9.046985924781717, 9.084705905027816, 8.95656536529005, 8.89887948179261, 5.70554208130399], \"name\": \"Average customer basket\", \"yaxis\": \"y1\", \"xaxis\": \"x1\"}, {\"type\": \"bar\", \"x\": [\"Mrch\", \"Jul\", \"Jun\", \"April\", \"May\", \"Jan\", \"Feb\", \"Dec\", \"Nov\", \"Aug\", \"Oct\", \"Sep\"], \"y\": [599831906, 595059205, 578112775, 575895295, 569248217, 566728724, 528734410, 433831153, 369498877, 361791202, 351878728, 342570131], \"name\": \"Sales\", \"yaxis\": \"y2\", \"xaxis\": \"x2\"}, {\"type\": \"scatter\", \"x\": [\"Mrch\", \"Jul\", \"Jun\", \"April\", \"May\", \"Jan\", \"Feb\", \"Dec\", \"Nov\", \"Aug\", \"Oct\", \"Sep\"], \"y\": [9.190595612687778, 9.23643106533836, 9.220580765087776, 9.100458473118323, 9.119135628508015, 9.084507202325028, 9.007686086947322, 9.70974693019567, 9.18463729893786, 8.860767820121941, 8.773685033342767, 8.77980179906802], \"name\": \"Average customer basket\", \"yaxis\": \"y2\", \"xaxis\": \"x2\"}], {\"xaxis1\": {\"domain\": [0.0, 0.45], \"anchor\": \"y1\"}, \"yaxis1\": {\"domain\": [0.0, 1.0], \"anchor\": \"x1\"}, \"xaxis2\": {\"domain\": [0.55, 1.0], \"anchor\": \"y2\"}, \"yaxis2\": {\"domain\": [0.0, 1.0], \"anchor\": \"x2\"}, \"annotations\": [{\"y\": 1.0, \"xref\": \"paper\", \"x\": 0.225, \"yref\": \"paper\", \"text\": \"Plot 1\", \"showarrow\": false, \"font\": {\"size\": 16}, \"xanchor\": \"center\", \"yanchor\": \"bottom\"}, {\"y\": 1.0, \"xref\": \"paper\", \"x\": 0.775, \"yref\": \"paper\", \"text\": \"Plot 2\", \"showarrow\": false, \"font\": {\"size\": 16}, \"xanchor\": \"center\", \"yanchor\": \"bottom\"}], \"height\": 600, \"width\": 1200, \"title\": \"Multiple Subplots with Titles\"}, {\"showLink\": true, \"linkText\": \"Export to plot.ly\"})});</script>"
      ]
     },
     "metadata": {},
     "output_type": "display_data"
    }
   ],
   "source": [
    "basketweek = train[['Dayoftheweek','Sales','Customers']]\n",
    "basketweek = basketweek.groupby('Dayoftheweek').sum()\n",
    "basketweek = basketweek.sort_values(by='Sales',ascending = False)\n",
    "basketweek = basketweek.reset_index()\n",
    "basketweek['Basket'] = basketweek['Sales'] / basketweek['Customers'] \n",
    "\n",
    "basketmonth = train[['Monthofyear','Sales','Customers']]\n",
    "basketmonth = basketmonth.groupby('Monthofyear').sum()\n",
    "basketmonth = basketmonth.sort_values(by='Sales',ascending = False)\n",
    "basketmonth = basketmonth.reset_index()\n",
    "basketmonth['Basket'] = basketmonth['Sales'] / basketmonth['Customers'] \n",
    "\n",
    "\n",
    "\n",
    "trace1 = go.Bar(\n",
    "    x=basketweek[('Dayoftheweek')],\n",
    "    y=basketweek[('Sales')],\n",
    "    name='Sales'\n",
    "    \n",
    ")\n",
    "trace2 = go.Scatter(\n",
    "    x=basketweek[('Dayoftheweek')],\n",
    "    y=basketweek[('Basket')],\n",
    "    name='Average customer basket',\n",
    "    yaxis='y2'\n",
    ")\n",
    "\n",
    "trace3 = go.Bar(\n",
    "    x=basketmonth[('Monthofyear')],\n",
    "    y=basketmonth[('Sales')],\n",
    "    name='Sales',\n",
    "    yaxis = 'y1'\n",
    ")\n",
    "trace4 = go.Scatter(\n",
    "    x=basketmonth[('Monthofyear')],\n",
    "    y=basketmonth[('Basket')],\n",
    "    name='Average customer basket',\n",
    "    yaxis='y2'\n",
    ")\n",
    "\n",
    "\n",
    "data = [[trace1, trace2], [trace3, trace4]]\n",
    "\n",
    "fig = tools.make_subplots(rows=1, cols=2, subplot_titles=('Plot 1', 'Plot 2'))\n",
    "\n",
    "fig.append_trace(trace1, 1, 1)\n",
    "fig.append_trace(trace2, 1, 1)\n",
    "fig.append_trace(trace3, 1, 2)\n",
    "fig.append_trace(trace4, 1, 2)\n",
    "\n",
    "layout = go.Layout(\n",
    "    title='Average Customer Basket by day of the week',\n",
    "    yaxis=dict(\n",
    "        title='Sales'\n",
    "    ),\n",
    "    yaxis2=dict(\n",
    "        title='Basket',\n",
    "        titlefont=dict(\n",
    "            color='rgb(148, 103, 189)'\n",
    "        ),\n",
    "        tickfont=dict(\n",
    "            color='rgb(148, 103, 189)'\n",
    "        ),\n",
    "        overlaying='y',\n",
    "        side='right'\n",
    "    )\n",
    ")\n",
    "\n",
    "\n",
    "fig['layout'].update(height=600, width=1200, title='Multiple Subplots' +' with Titles')\n",
    "\n",
    "#py.iplot(fig, filename='make-subplots-multiple-with-titles')\n",
    "#fig = go.Figure(data=data, layout=layout)\n",
    "iplot(fig)"
   ]
  },
  {
   "cell_type": "code",
   "execution_count": null,
   "metadata": {
    "collapsed": true
   },
   "outputs": [],
   "source": []
  },
  {
   "cell_type": "code",
   "execution_count": 58,
   "metadata": {},
   "outputs": [
    {
     "name": "stdout",
     "output_type": "stream",
     "text": [
      "This is the format of your plot grid:\n",
      "[ (1,1) x1,y1 ]  [ (1,2) x2,y2 ]\n",
      "\n"
     ]
    },
    {
     "data": {
      "application/vnd.plotly.v1+json": {
       "data": [
        {
         "marker": {
          "color": "rgba(220,49,72, 0.8)",
          "line": {
           "width": 1
          }
         },
         "name": "Sales",
         "showlegend": false,
         "type": "bar",
         "x": [
          "Monday",
          "Tuesday",
          "Friday",
          "Wednesday",
          "Thursday",
          "Saturday",
          "Sunday"
         ],
         "xaxis": "x1",
         "y": [
          1130203012,
          1020411930,
          980555941,
          954962863,
          911177709,
          846317735,
          29551433
         ],
         "yaxis": "y1"
        },
        {
         "line": {
          "color": "#B0122C",
          "width": 1.5
         },
         "marker": {
          "line": {
           "width": 1
          },
          "size": 8
         },
         "name": "AOV",
         "showlegend": false,
         "type": "scatter",
         "x": [
          "Monday",
          "Tuesday",
          "Friday",
          "Wednesday",
          "Thursday",
          "Saturday",
          "Sunday"
         ],
         "xaxis": "x1",
         "y": [
          9.604443566999594,
          9.205500776319385,
          9.046985924781717,
          9.084705905027816,
          8.95656536529005,
          8.89887948179261,
          5.70554208130399
         ],
         "yaxis": "y3"
        },
        {
         "marker": {
          "color": "rgba(220,49,72, 0.8)",
          "line": {
           "width": 1
          }
         },
         "name": "Sales",
         "showlegend": false,
         "type": "bar",
         "x": [
          "Mrch",
          "Jul",
          "Jun",
          "April",
          "May",
          "Jan",
          "Feb",
          "Dec",
          "Nov",
          "Aug",
          "Oct",
          "Sep"
         ],
         "xaxis": "x2",
         "y": [
          599831906,
          595059205,
          578112775,
          575895295,
          569248217,
          566728724,
          528734410,
          433831153,
          369498877,
          361791202,
          351878728,
          342570131
         ],
         "yaxis": "y2"
        },
        {
         "line": {
          "color": "#B0122C",
          "width": 1.5
         },
         "marker": {
          "line": {
           "width": 1
          },
          "size": 8
         },
         "name": "AOV",
         "showlegend": false,
         "type": "scatter",
         "x": [
          "Mrch",
          "Jul",
          "Jun",
          "April",
          "May",
          "Jan",
          "Feb",
          "Dec",
          "Nov",
          "Aug",
          "Oct",
          "Sep"
         ],
         "xaxis": "x2",
         "y": [
          9.190595612687778,
          9.23643106533836,
          9.220580765087776,
          9.100458473118323,
          9.119135628508015,
          9.084507202325028,
          9.007686086947322,
          9.70974693019567,
          9.18463729893786,
          8.860767820121941,
          8.773685033342767,
          8.77980179906802
         ],
         "yaxis": "y4"
        }
       ],
       "layout": {
        "autosize": false,
        "height": 500,
        "hovermode": "x",
        "showlegend": false,
        "width": 800,
        "xaxis1": {
         "anchor": "y1",
         "autorange": true,
         "domain": [
          0,
          0.41000000000000003
         ],
         "tickangle": -45,
         "tickfont": {
          "size": 10
         },
         "title": "Days of the Week",
         "type": "category"
        },
        "xaxis2": {
         "anchor": "y2",
         "autorange": true,
         "domain": [
          0.5900000000000001,
          1
         ],
         "tickfont": {
          "size": 10
         },
         "title": "Months",
         "type": "Months"
        },
        "yaxis1": {
         "anchor": "x1",
         "domain": [
          0,
          1
         ],
         "showgrid": true,
         "title": "Sales"
        },
        "yaxis2": {
         "anchor": "x2",
         "domain": [
          0,
          1
         ],
         "showgrid": true,
         "title": "Sales"
        },
        "yaxis3": {
         "anchor": "x1",
         "overlaying": "y1",
         "showgrid": false,
         "side": "right",
         "title": "AOV"
        },
        "yaxis4": {
         "anchor": "x2",
         "overlaying": "y2",
         "showgrid": false,
         "side": "right",
         "title": "AOV"
        }
       }
      },
      "text/html": [
       "<div id=\"c6677f56-c3cd-4aa2-bd41-73f53bfeea55\" style=\"height: 500px; width: 800px;\" class=\"plotly-graph-div\"></div><script type=\"text/javascript\">require([\"plotly\"], function(Plotly) { window.PLOTLYENV=window.PLOTLYENV || {};window.PLOTLYENV.BASE_URL=\"https://plot.ly\";Plotly.newPlot(\"c6677f56-c3cd-4aa2-bd41-73f53bfeea55\", [{\"type\": \"bar\", \"x\": [\"Monday\", \"Tuesday\", \"Friday\", \"Wednesday\", \"Thursday\", \"Saturday\", \"Sunday\"], \"y\": [1130203012, 1020411930, 980555941, 954962863, 911177709, 846317735, 29551433], \"name\": \"Sales\", \"marker\": {\"color\": \"rgba(220,49,72, 0.8)\", \"line\": {\"width\": 1}}, \"showlegend\": false, \"xaxis\": \"x1\", \"yaxis\": \"y1\"}, {\"type\": \"scatter\", \"x\": [\"Monday\", \"Tuesday\", \"Friday\", \"Wednesday\", \"Thursday\", \"Saturday\", \"Sunday\"], \"y\": [9.604443566999594, 9.205500776319385, 9.046985924781717, 9.084705905027816, 8.95656536529005, 8.89887948179261, 5.70554208130399], \"marker\": {\"line\": {\"width\": 1}, \"size\": 8}, \"line\": {\"color\": \"#B0122C\", \"width\": 1.5}, \"name\": \"AOV\", \"showlegend\": false, \"xaxis\": \"x1\", \"yaxis\": \"y3\"}, {\"type\": \"bar\", \"x\": [\"Mrch\", \"Jul\", \"Jun\", \"April\", \"May\", \"Jan\", \"Feb\", \"Dec\", \"Nov\", \"Aug\", \"Oct\", \"Sep\"], \"y\": [599831906, 595059205, 578112775, 575895295, 569248217, 566728724, 528734410, 433831153, 369498877, 361791202, 351878728, 342570131], \"name\": \"Sales\", \"marker\": {\"color\": \"rgba(220,49,72, 0.8)\", \"line\": {\"width\": 1}}, \"showlegend\": false, \"xaxis\": \"x2\", \"yaxis\": \"y2\"}, {\"type\": \"scatter\", \"x\": [\"Mrch\", \"Jul\", \"Jun\", \"April\", \"May\", \"Jan\", \"Feb\", \"Dec\", \"Nov\", \"Aug\", \"Oct\", \"Sep\"], \"y\": [9.190595612687778, 9.23643106533836, 9.220580765087776, 9.100458473118323, 9.119135628508015, 9.084507202325028, 9.007686086947322, 9.70974693019567, 9.18463729893786, 8.860767820121941, 8.773685033342767, 8.77980179906802], \"marker\": {\"line\": {\"width\": 1}, \"size\": 8}, \"line\": {\"color\": \"#B0122C\", \"width\": 1.5}, \"name\": \"AOV\", \"showlegend\": false, \"xaxis\": \"x2\", \"yaxis\": \"y4\"}], {\"xaxis1\": {\"domain\": [0.0, 0.41000000000000003], \"anchor\": \"y1\", \"tickangle\": -45, \"autorange\": true, \"tickfont\": {\"size\": 10}, \"title\": \"Days of the Week\", \"type\": \"category\"}, \"yaxis1\": {\"domain\": [0.0, 1.0], \"anchor\": \"x1\", \"showgrid\": true, \"title\": \"Sales\"}, \"xaxis2\": {\"domain\": [0.5900000000000001, 1.0], \"anchor\": \"y2\", \"autorange\": true, \"tickfont\": {\"size\": 10}, \"title\": \"Months\", \"type\": \"Months\"}, \"yaxis2\": {\"domain\": [0.0, 1.0], \"anchor\": \"x2\", \"showgrid\": true, \"title\": \"Sales\"}, \"autosize\": false, \"width\": 800, \"height\": 500, \"showlegend\": false, \"hovermode\": \"x\", \"yaxis3\": {\"overlaying\": \"y1\", \"anchor\": \"x1\", \"side\": \"right\", \"showgrid\": false, \"title\": \"AOV\"}, \"yaxis4\": {\"overlaying\": \"y2\", \"anchor\": \"x2\", \"side\": \"right\", \"showgrid\": false, \"title\": \"AOV\"}}, {\"showLink\": true, \"linkText\": \"Export to plot.ly\"})});</script>"
      ],
      "text/vnd.plotly.v1+html": [
       "<div id=\"c6677f56-c3cd-4aa2-bd41-73f53bfeea55\" style=\"height: 500px; width: 800px;\" class=\"plotly-graph-div\"></div><script type=\"text/javascript\">require([\"plotly\"], function(Plotly) { window.PLOTLYENV=window.PLOTLYENV || {};window.PLOTLYENV.BASE_URL=\"https://plot.ly\";Plotly.newPlot(\"c6677f56-c3cd-4aa2-bd41-73f53bfeea55\", [{\"type\": \"bar\", \"x\": [\"Monday\", \"Tuesday\", \"Friday\", \"Wednesday\", \"Thursday\", \"Saturday\", \"Sunday\"], \"y\": [1130203012, 1020411930, 980555941, 954962863, 911177709, 846317735, 29551433], \"name\": \"Sales\", \"marker\": {\"color\": \"rgba(220,49,72, 0.8)\", \"line\": {\"width\": 1}}, \"showlegend\": false, \"xaxis\": \"x1\", \"yaxis\": \"y1\"}, {\"type\": \"scatter\", \"x\": [\"Monday\", \"Tuesday\", \"Friday\", \"Wednesday\", \"Thursday\", \"Saturday\", \"Sunday\"], \"y\": [9.604443566999594, 9.205500776319385, 9.046985924781717, 9.084705905027816, 8.95656536529005, 8.89887948179261, 5.70554208130399], \"marker\": {\"line\": {\"width\": 1}, \"size\": 8}, \"line\": {\"color\": \"#B0122C\", \"width\": 1.5}, \"name\": \"AOV\", \"showlegend\": false, \"xaxis\": \"x1\", \"yaxis\": \"y3\"}, {\"type\": \"bar\", \"x\": [\"Mrch\", \"Jul\", \"Jun\", \"April\", \"May\", \"Jan\", \"Feb\", \"Dec\", \"Nov\", \"Aug\", \"Oct\", \"Sep\"], \"y\": [599831906, 595059205, 578112775, 575895295, 569248217, 566728724, 528734410, 433831153, 369498877, 361791202, 351878728, 342570131], \"name\": \"Sales\", \"marker\": {\"color\": \"rgba(220,49,72, 0.8)\", \"line\": {\"width\": 1}}, \"showlegend\": false, \"xaxis\": \"x2\", \"yaxis\": \"y2\"}, {\"type\": \"scatter\", \"x\": [\"Mrch\", \"Jul\", \"Jun\", \"April\", \"May\", \"Jan\", \"Feb\", \"Dec\", \"Nov\", \"Aug\", \"Oct\", \"Sep\"], \"y\": [9.190595612687778, 9.23643106533836, 9.220580765087776, 9.100458473118323, 9.119135628508015, 9.084507202325028, 9.007686086947322, 9.70974693019567, 9.18463729893786, 8.860767820121941, 8.773685033342767, 8.77980179906802], \"marker\": {\"line\": {\"width\": 1}, \"size\": 8}, \"line\": {\"color\": \"#B0122C\", \"width\": 1.5}, \"name\": \"AOV\", \"showlegend\": false, \"xaxis\": \"x2\", \"yaxis\": \"y4\"}], {\"xaxis1\": {\"domain\": [0.0, 0.41000000000000003], \"anchor\": \"y1\", \"tickangle\": -45, \"autorange\": true, \"tickfont\": {\"size\": 10}, \"title\": \"Days of the Week\", \"type\": \"category\"}, \"yaxis1\": {\"domain\": [0.0, 1.0], \"anchor\": \"x1\", \"showgrid\": true, \"title\": \"Sales\"}, \"xaxis2\": {\"domain\": [0.5900000000000001, 1.0], \"anchor\": \"y2\", \"autorange\": true, \"tickfont\": {\"size\": 10}, \"title\": \"Months\", \"type\": \"Months\"}, \"yaxis2\": {\"domain\": [0.0, 1.0], \"anchor\": \"x2\", \"showgrid\": true, \"title\": \"Sales\"}, \"autosize\": false, \"width\": 800, \"height\": 500, \"showlegend\": false, \"hovermode\": \"x\", \"yaxis3\": {\"overlaying\": \"y1\", \"anchor\": \"x1\", \"side\": \"right\", \"showgrid\": false, \"title\": \"AOV\"}, \"yaxis4\": {\"overlaying\": \"y2\", \"anchor\": \"x2\", \"side\": \"right\", \"showgrid\": false, \"title\": \"AOV\"}}, {\"showLink\": true, \"linkText\": \"Export to plot.ly\"})});</script>"
      ]
     },
     "metadata": {},
     "output_type": "display_data"
    }
   ],
   "source": [
    "#Create two new dataframe\n",
    "\n",
    "basketweek = train[['Dayoftheweek','Sales','Customers']]\n",
    "basketweek = basketweek.groupby('Dayoftheweek').sum()\n",
    "basketweek = basketweek.sort_values(by='Sales',ascending = False)\n",
    "basketweek = basketweek.reset_index()\n",
    "basketweek['Basket'] = basketweek['Sales'] / basketweek['Customers'] \n",
    "\n",
    "basketmonth = train[['Monthofyear','Sales','Customers']]\n",
    "basketmonth = basketmonth.groupby('Monthofyear').sum()\n",
    "basketmonth = basketmonth.sort_values(by='Sales',ascending = False)\n",
    "basketmonth = basketmonth.reset_index()\n",
    "basketmonth['Basket'] = basketmonth['Sales'] / basketmonth['Customers'] \n",
    "\n",
    "\n",
    "#Create the format of our plot grid\n",
    "\n",
    "fig = tools.make_subplots(rows=1,\n",
    "                          cols=2,\n",
    "                          print_grid=True,\n",
    "                          horizontal_spacing=0.18,\n",
    "                         )\n",
    "\n",
    "#Define the 4 traces \n",
    "\n",
    "trace1 = dict(type='bar',\n",
    "              x= basketweek[('Dayoftheweek')], \n",
    "              y= basketweek[('Sales')],\n",
    "              name='Sales',            \n",
    "              marker=dict(color= 'rgba(220,49,72, 0.8)', \n",
    "                          line= dict(width= 1)),\n",
    "              showlegend=False\n",
    "             )\n",
    " \n",
    "\n",
    "trace2 = dict(type='scatter',\n",
    "              x= basketweek[('Dayoftheweek')], \n",
    "              y= basketweek[('Basket')], \n",
    "              marker= dict(line= dict(width= 1), \n",
    "                           size= 8), \n",
    "              line=dict(color= '#B0122C',\n",
    "                        width= 1.5),\n",
    "              name= 'AOV',\n",
    "              showlegend=False\n",
    "             )\n",
    "\n",
    "\n",
    "trace3=dict(type='bar',\n",
    "            x=basketmonth[('Monthofyear')],\n",
    "            y=basketmonth[('Sales')],\n",
    "            name='Sales',\n",
    "            marker=dict(color= 'rgba(220,49,72, 0.8)', line= dict(width= 1)),\n",
    "            showlegend=False \n",
    "          )\n",
    "trace4=dict(type='scatter',\n",
    "            x= basketmonth[('Monthofyear')],\n",
    "            y=basketmonth[('Basket')],\n",
    "            marker= dict(line= dict(width= 1), \n",
    "                         size= 8), \n",
    "            line=dict(color= '#B0122C', width= 1.5),\n",
    "            name= 'AOV',\n",
    "            showlegend=False\n",
    "           )\n",
    "\n",
    "# Append the first two traces to subplot (1,1), and the last two, to subplot (1,2):\n",
    "\n",
    "fig.append_trace(trace1, 1, 1)# trace1 is in position 0 of the list fig['data]\n",
    "fig.append_trace(trace2, 1, 1)#                       1 \n",
    "fig.append_trace(trace3, 1, 2)#                       2\n",
    "fig.append_trace(trace4, 1, 2)#                       3\n",
    "\n",
    "# Now we update yaxis for both trace2 and trace4 - meaning positon 1 and 3\n",
    "fig['data'][1].update(yaxis='y3')\n",
    "fig['data'][3].update(yaxis='y4')\n",
    "\n",
    "# Update layout\n",
    "\n",
    "\n",
    "fig['layout'].update(autosize= False, \n",
    "              width= 800, \n",
    "              height= 500, \n",
    "              showlegend=False,\n",
    "              hovermode='x')\n",
    "\n",
    "\n",
    "fig['layout']['xaxis1'].update(tickangle= -45, #'x1'\n",
    "                         autorange=True,\n",
    "                         tickfont=dict(size= 10), \n",
    "                         title= 'Days of the Week', \n",
    "                         type= 'category',\n",
    "                         )\n",
    "fig['layout']['yaxis1'].update( #left yaxis'y1\n",
    "                         showgrid=True, \n",
    "                         title= 'Sales',\n",
    "                         )\n",
    "\n",
    "#Insert a new key, yaxis3, and the associated value:\n",
    "fig['layout']['yaxis3']=dict(\n",
    "                          overlaying= 'y1', \n",
    "                          anchor= 'x1', \n",
    "                          side= 'right', \n",
    "                          showgrid= False, \n",
    "                          title= 'AOV'\n",
    "                         )\n",
    "\n",
    "fig['layout']['xaxis2'].update(autorange=True,\n",
    "                         tickfont=dict(size= 10), \n",
    "                         title= 'Months', \n",
    "                         type= 'Months',\n",
    "                         )\n",
    "fig['layout']['yaxis2'].update(\n",
    "                         showgrid=True, \n",
    "                         title= 'Sales',\n",
    "                         )\n",
    "#Insert a new key, yaxis4, and the associated value:\n",
    "fig['layout']['yaxis4']=dict(\n",
    "                          overlaying= 'y2', \n",
    "                          anchor= 'x2', \n",
    "                          side= 'right', \n",
    "                          showgrid= False, \n",
    "                          title= 'AOV'\n",
    "                         )\n",
    "\n",
    "iplot(fig)\n"
   ]
  },
  {
   "cell_type": "code",
   "execution_count": 100,
   "metadata": {},
   "outputs": [
    {
     "data": {
      "text/html": [
       "<div>\n",
       "<style>\n",
       "    .dataframe thead tr:only-child th {\n",
       "        text-align: right;\n",
       "    }\n",
       "\n",
       "    .dataframe thead th {\n",
       "        text-align: left;\n",
       "    }\n",
       "\n",
       "    .dataframe tbody tr th {\n",
       "        vertical-align: top;\n",
       "    }\n",
       "</style>\n",
       "<table border=\"1\" class=\"dataframe\">\n",
       "  <thead>\n",
       "    <tr style=\"text-align: right;\">\n",
       "      <th></th>\n",
       "      <th>Sales</th>\n",
       "    </tr>\n",
       "    <tr>\n",
       "      <th>Assortment</th>\n",
       "      <th></th>\n",
       "    </tr>\n",
       "  </thead>\n",
       "  <tbody>\n",
       "    <tr>\n",
       "      <th>a</th>\n",
       "      <td>971834451.0</td>\n",
       "    </tr>\n",
       "    <tr>\n",
       "      <th>c</th>\n",
       "      <td>779193689.0</td>\n",
       "    </tr>\n",
       "    <tr>\n",
       "      <th>b</th>\n",
       "      <td>NaN</td>\n",
       "    </tr>\n",
       "  </tbody>\n",
       "</table>\n",
       "</div>"
      ],
      "text/plain": [
       "                  Sales\n",
       "Assortment             \n",
       "a           971834451.0\n",
       "c           779193689.0\n",
       "b                   NaN"
      ]
     },
     "execution_count": 100,
     "metadata": {},
     "output_type": "execute_result"
    }
   ],
   "source": [
    "rainsumbystore = train.groupby('Store').sum().reset_index()\n",
    "mergedtable = pd.merge(trainsumbystore, store, on='Store')\n",
    "\n",
    "#Sum the train dataframe by store number summing up the others columns \n",
    "salesassortment= mergedtable[['Assortment', 'Sales']]\n",
    "salesassortment= salesassortment.groupby('Assortment').sum().sort_values(by='Sales',ascending=False)\n",
    "\n",
    "salesassortment\n",
    "\n",
    "#salesassortment= salesassortment.reset_index()\n"
   ]
  },
  {
   "cell_type": "markdown",
   "metadata": {
    "collapsed": true
   },
   "source": [
    "** What are the best assortment **"
   ]
  },
  {
   "cell_type": "code",
   "execution_count": 44,
   "metadata": {},
   "outputs": [
    {
     "data": {
      "application/vnd.plotly.v1+json": {
       "data": [
        {
         "name": "Name of Trace 1",
         "type": "bar",
         "x": [
          "a",
          "c",
          "b"
         ],
         "y": [
          2945750070,
          2856484241,
          70946312
         ]
        }
       ],
       "layout": {
        "title": "Revenue generated by Assortment",
        "xaxis": {
         "title": "Assortment",
         "titlefont": {
          "color": "#7f7f7f",
          "family": "Courier New, monospace",
          "size": 18
         }
        },
        "yaxis": {
         "autorange": true,
         "title": "Sales",
         "titlefont": {
          "color": "#7f7f7f",
          "family": "Courier New, monospace",
          "size": 18
         }
        }
       }
      },
      "text/html": [
       "<div id=\"9f40f725-6fac-4151-a2fd-69df9668a282\" style=\"height: 525px; width: 100%;\" class=\"plotly-graph-div\"></div><script type=\"text/javascript\">require([\"plotly\"], function(Plotly) { window.PLOTLYENV=window.PLOTLYENV || {};window.PLOTLYENV.BASE_URL=\"https://plot.ly\";Plotly.newPlot(\"9f40f725-6fac-4151-a2fd-69df9668a282\", [{\"type\": \"bar\", \"x\": [\"a\", \"c\", \"b\"], \"y\": [2945750070, 2856484241, 70946312], \"name\": \"Name of Trace 1\"}], {\"title\": \"Revenue generated by Assortment\", \"xaxis\": {\"title\": \"Assortment\", \"titlefont\": {\"family\": \"Courier New, monospace\", \"size\": 18, \"color\": \"#7f7f7f\"}}, \"yaxis\": {\"title\": \"Sales\", \"autorange\": true, \"titlefont\": {\"family\": \"Courier New, monospace\", \"size\": 18, \"color\": \"#7f7f7f\"}}}, {\"showLink\": true, \"linkText\": \"Export to plot.ly\"})});</script>"
      ],
      "text/vnd.plotly.v1+html": [
       "<div id=\"9f40f725-6fac-4151-a2fd-69df9668a282\" style=\"height: 525px; width: 100%;\" class=\"plotly-graph-div\"></div><script type=\"text/javascript\">require([\"plotly\"], function(Plotly) { window.PLOTLYENV=window.PLOTLYENV || {};window.PLOTLYENV.BASE_URL=\"https://plot.ly\";Plotly.newPlot(\"9f40f725-6fac-4151-a2fd-69df9668a282\", [{\"type\": \"bar\", \"x\": [\"a\", \"c\", \"b\"], \"y\": [2945750070, 2856484241, 70946312], \"name\": \"Name of Trace 1\"}], {\"title\": \"Revenue generated by Assortment\", \"xaxis\": {\"title\": \"Assortment\", \"titlefont\": {\"family\": \"Courier New, monospace\", \"size\": 18, \"color\": \"#7f7f7f\"}}, \"yaxis\": {\"title\": \"Sales\", \"autorange\": true, \"titlefont\": {\"family\": \"Courier New, monospace\", \"size\": 18, \"color\": \"#7f7f7f\"}}}, {\"showLink\": true, \"linkText\": \"Export to plot.ly\"})});</script>"
      ]
     },
     "metadata": {},
     "output_type": "display_data"
    }
   ],
   "source": [
    "#Sum the train dataframe by store number summing up the others columns \n",
    "trainsumbystore = train.groupby('Store').sum().reset_index()\n",
    " \n",
    "#Merge the two datasets \n",
    "\n",
    "mergedtable = pd.merge(trainsumbystore, store, on='Store')\n",
    "\n",
    "salesassortment= mergedtable[['Assortment', 'Sales']]\n",
    "salesassortment= salesassortment.groupby('Assortment').sum().sort_values(by='Sales',ascending=False)\n",
    "salesassortment= salesassortment.reset_index()\n",
    "\n",
    "\n",
    "trace1 = go.Bar(\n",
    "    x=salesassortment[('Assortment')],\n",
    "    y=salesassortment[('Sales')],\n",
    "    name='Name of Trace 1'\n",
    ")\n",
    "\n",
    "data = [trace1]\n",
    "\n",
    "layout = go.Layout(\n",
    "    title='Revenue generated by Assortment',\n",
    "    xaxis=dict(\n",
    "        title='Assortment',\n",
    "        titlefont=dict(\n",
    "            family='Courier New, monospace',\n",
    "            size=18,\n",
    "            color='#7f7f7f'\n",
    "        )\n",
    "    ),\n",
    "    yaxis=dict(\n",
    "        title='Sales',\n",
    "        autorange = True,\n",
    "        titlefont=dict(\n",
    "            family='Courier New, monospace',\n",
    "            size=18,\n",
    "            color='#7f7f7f'\n",
    "        )\n",
    "    )\n",
    ")\n",
    "fig = go.Figure(data=data, layout=layout)\n",
    "\n",
    "fig.iplot()\n"
   ]
  },
  {
   "cell_type": "markdown",
   "metadata": {},
   "source": [
    "** What are the best assortment by shop type **"
   ]
  },
  {
   "cell_type": "code",
   "execution_count": 31,
   "metadata": {},
   "outputs": [
    {
     "data": {
      "text/html": [
       "<div>\n",
       "<style>\n",
       "    .dataframe thead tr:only-child th {\n",
       "        text-align: right;\n",
       "    }\n",
       "\n",
       "    .dataframe thead th {\n",
       "        text-align: left;\n",
       "    }\n",
       "\n",
       "    .dataframe tbody tr th {\n",
       "        vertical-align: top;\n",
       "    }\n",
       "</style>\n",
       "<table border=\"1\" class=\"dataframe\">\n",
       "  <thead>\n",
       "    <tr style=\"text-align: right;\">\n",
       "      <th></th>\n",
       "      <th>StoreType</th>\n",
       "      <th>Assortment</th>\n",
       "      <th>Sales</th>\n",
       "    </tr>\n",
       "  </thead>\n",
       "  <tbody>\n",
       "    <tr>\n",
       "      <th>0</th>\n",
       "      <td>a</td>\n",
       "      <td>a</td>\n",
       "      <td>658101339</td>\n",
       "    </tr>\n",
       "    <tr>\n",
       "      <th>1</th>\n",
       "      <td>d</td>\n",
       "      <td>c</td>\n",
       "      <td>370421061</td>\n",
       "    </tr>\n",
       "    <tr>\n",
       "      <th>2</th>\n",
       "      <td>a</td>\n",
       "      <td>c</td>\n",
       "      <td>304343798</td>\n",
       "    </tr>\n",
       "    <tr>\n",
       "      <th>3</th>\n",
       "      <td>d</td>\n",
       "      <td>a</td>\n",
       "      <td>197415324</td>\n",
       "    </tr>\n",
       "    <tr>\n",
       "      <th>4</th>\n",
       "      <td>c</td>\n",
       "      <td>a</td>\n",
       "      <td>116317788</td>\n",
       "    </tr>\n",
       "    <tr>\n",
       "      <th>5</th>\n",
       "      <td>c</td>\n",
       "      <td>c</td>\n",
       "      <td>104428830</td>\n",
       "    </tr>\n",
       "  </tbody>\n",
       "</table>\n",
       "</div>"
      ],
      "text/plain": [
       "  StoreType Assortment      Sales\n",
       "0         a          a  658101339\n",
       "1         d          c  370421061\n",
       "2         a          c  304343798\n",
       "3         d          a  197415324\n",
       "4         c          a  116317788\n",
       "5         c          c  104428830"
      ]
     },
     "execution_count": 31,
     "metadata": {},
     "output_type": "execute_result"
    }
   ],
   "source": [
    "salesassortment"
   ]
  },
  {
   "cell_type": "code",
   "execution_count": 99,
   "metadata": {},
   "outputs": [
    {
     "data": {
      "application/vnd.plotly.v1+json": {
       "data": [
        {
         "name": "Store Type A",
         "type": "bar",
         "x": [
          "a",
          "c",
          "b"
         ],
         "y": [
          658101339,
          304343798,
          null
         ]
        },
        {
         "name": "Store Type B",
         "type": "bar",
         "x": [
          "a",
          "b",
          "c"
         ],
         "y": [
          null,
          null,
          null
         ]
        },
        {
         "name": "Store Type C",
         "type": "bar",
         "x": [
          "a",
          "c",
          "b"
         ],
         "y": [
          116317788,
          104428830,
          null
         ]
        },
        {
         "name": "Store Type D",
         "type": "bar",
         "x": [
          "c",
          "a",
          "b"
         ],
         "y": [
          370421061,
          197415324,
          null
         ]
        }
       ],
       "layout": {
        "barmode": "group",
        "title": "Revenue generated by Assortment",
        "xaxis": {
         "title": "Assortment",
         "titlefont": {
          "color": "#7f7f7f",
          "family": "Courier New, monospace",
          "size": 18
         }
        },
        "yaxis": {
         "autorange": true,
         "title": "Sales",
         "titlefont": {
          "color": "#7f7f7f",
          "family": "Courier New, monospace",
          "size": 18
         }
        }
       }
      },
      "text/html": [
       "<div id=\"32fd31e2-cb05-406c-ad04-0cfbc1abac55\" style=\"height: 525px; width: 100%;\" class=\"plotly-graph-div\"></div><script type=\"text/javascript\">require([\"plotly\"], function(Plotly) { window.PLOTLYENV=window.PLOTLYENV || {};window.PLOTLYENV.BASE_URL=\"https://plot.ly\";Plotly.newPlot(\"32fd31e2-cb05-406c-ad04-0cfbc1abac55\", [{\"type\": \"bar\", \"x\": [\"a\", \"c\", \"b\"], \"y\": [658101339.0, 304343798.0, null], \"name\": \"Store Type A\"}, {\"type\": \"bar\", \"x\": [\"a\", \"b\", \"c\"], \"y\": [null, null, null], \"name\": \"Store Type B\"}, {\"type\": \"bar\", \"x\": [\"a\", \"c\", \"b\"], \"y\": [116317788.0, 104428830.0, null], \"name\": \"Store Type C\"}, {\"type\": \"bar\", \"x\": [\"c\", \"a\", \"b\"], \"y\": [370421061.0, 197415324.0, null], \"name\": \"Store Type D\"}], {\"title\": \"Revenue generated by Assortment\", \"barmode\": \"group\", \"xaxis\": {\"title\": \"Assortment\", \"titlefont\": {\"family\": \"Courier New, monospace\", \"size\": 18, \"color\": \"#7f7f7f\"}}, \"yaxis\": {\"title\": \"Sales\", \"autorange\": true, \"titlefont\": {\"family\": \"Courier New, monospace\", \"size\": 18, \"color\": \"#7f7f7f\"}}}, {\"showLink\": true, \"linkText\": \"Export to plot.ly\"})});</script>"
      ],
      "text/vnd.plotly.v1+html": [
       "<div id=\"32fd31e2-cb05-406c-ad04-0cfbc1abac55\" style=\"height: 525px; width: 100%;\" class=\"plotly-graph-div\"></div><script type=\"text/javascript\">require([\"plotly\"], function(Plotly) { window.PLOTLYENV=window.PLOTLYENV || {};window.PLOTLYENV.BASE_URL=\"https://plot.ly\";Plotly.newPlot(\"32fd31e2-cb05-406c-ad04-0cfbc1abac55\", [{\"type\": \"bar\", \"x\": [\"a\", \"c\", \"b\"], \"y\": [658101339.0, 304343798.0, null], \"name\": \"Store Type A\"}, {\"type\": \"bar\", \"x\": [\"a\", \"b\", \"c\"], \"y\": [null, null, null], \"name\": \"Store Type B\"}, {\"type\": \"bar\", \"x\": [\"a\", \"c\", \"b\"], \"y\": [116317788.0, 104428830.0, null], \"name\": \"Store Type C\"}, {\"type\": \"bar\", \"x\": [\"c\", \"a\", \"b\"], \"y\": [370421061.0, 197415324.0, null], \"name\": \"Store Type D\"}], {\"title\": \"Revenue generated by Assortment\", \"barmode\": \"group\", \"xaxis\": {\"title\": \"Assortment\", \"titlefont\": {\"family\": \"Courier New, monospace\", \"size\": 18, \"color\": \"#7f7f7f\"}}, \"yaxis\": {\"title\": \"Sales\", \"autorange\": true, \"titlefont\": {\"family\": \"Courier New, monospace\", \"size\": 18, \"color\": \"#7f7f7f\"}}}, {\"showLink\": true, \"linkText\": \"Export to plot.ly\"})});</script>"
      ]
     },
     "metadata": {},
     "output_type": "display_data"
    }
   ],
   "source": [
    "\n",
    "salesassortment= mergedtable[['StoreType','Assortment', 'Sales']]\n",
    "salesassortment= salesassortment.groupby(['StoreType','Assortment']).sum().sort_values(by='Sales',ascending=False)\n",
    "salesassortment= salesassortment.reset_index()\n",
    "\n",
    "a = salesassortment[salesassortment['StoreType']=='a']\n",
    "b = salesassortment[salesassortment['StoreType']=='b']\n",
    "c = salesassortment[salesassortment['StoreType']=='c']\n",
    "d = salesassortment[salesassortment['StoreType']=='d']\n",
    "\n",
    "\n",
    "trace1 = go.Bar(\n",
    "    x=a['Assortment'],\n",
    "    y=a['Sales'],\n",
    "    name='Store Type A'\n",
    ")\n",
    "trace2 = go.Bar(\n",
    "    x=b['Assortment'],\n",
    "    y=b['Sales'],\n",
    "    name='Store Type B'\n",
    ")\n",
    "\n",
    "trace3 = go.Bar(\n",
    "    x=c['Assortment'],\n",
    "    y=c['Sales'],\n",
    "    name='Store Type C'\n",
    ")\n",
    "\n",
    "trace4 = go.Bar(\n",
    "    x=d['Assortment'],\n",
    "    y=d['Sales'],\n",
    "    name='Store Type D'\n",
    ")\n",
    "\n",
    "data = [trace1, trace2, trace3, trace4]\n",
    "\n",
    "layout = go.Layout(\n",
    "    title='Revenue generated by Assortment',\n",
    "    barmode='group',\n",
    "    xaxis=dict(\n",
    "        title='Assortment',\n",
    "        titlefont=dict(\n",
    "            family='Courier New, monospace',\n",
    "            size=18,\n",
    "            color='#7f7f7f'\n",
    "        )\n",
    "    ),\n",
    "    yaxis=dict(\n",
    "        title='Sales',\n",
    "        autorange = True,\n",
    "        titlefont=dict(\n",
    "            family='Courier New, monospace',\n",
    "            size=18,\n",
    "            color='#7f7f7f'\n",
    "        )\n",
    "    )\n",
    ")\n",
    "\n",
    "fig = go.Figure(data=data, layout=layout)\n",
    "iplot(fig, filename='grouped-bar')"
   ]
  },
  {
   "cell_type": "markdown",
   "metadata": {
    "collapsed": true
   },
   "source": [
    "** What's the impact of the competition distance on the Sales **"
   ]
  },
  {
   "cell_type": "code",
   "execution_count": 102,
   "metadata": {},
   "outputs": [
    {
     "name": "stdout",
     "output_type": "stream",
     "text": [
      "<class 'pandas.core.frame.DataFrame'>\n",
      "Int64Index: 365 entries, 0 to 364\n",
      "Data columns (total 19 columns):\n",
      "Store                        365 non-null int64\n",
      "DayOfWeek                    365 non-null int64\n",
      "Sales                        365 non-null int64\n",
      "Customers                    365 non-null int64\n",
      "Open                         365 non-null int64\n",
      "Promo                        365 non-null int64\n",
      "SchoolHoliday                365 non-null int64\n",
      "Month                        365 non-null int64\n",
      "Year                         365 non-null int64\n",
      "Day                          365 non-null int64\n",
      "StoreType                    365 non-null category\n",
      "Assortment                   365 non-null category\n",
      "CompetitionDistance          365 non-null float64\n",
      "CompetitionOpenSinceMonth    365 non-null float64\n",
      "CompetitionOpenSinceYear     365 non-null float64\n",
      "Promo2                       365 non-null bool\n",
      "Promo2SinceWeek              365 non-null float64\n",
      "Promo2SinceYear              365 non-null float64\n",
      "PromoInterval                365 non-null object\n",
      "dtypes: bool(1), category(2), float64(5), int64(10), object(1)\n",
      "memory usage: 59.8+ KB\n"
     ]
    }
   ],
   "source": [
    "mergedtable.info()"
   ]
  },
  {
   "cell_type": "code",
   "execution_count": 101,
   "metadata": {},
   "outputs": [
    {
     "data": {
      "text/plain": [
       "<seaborn.axisgrid.PairGrid at 0x137cd49e8>"
      ]
     },
     "execution_count": 101,
     "metadata": {},
     "output_type": "execute_result"
    },
    {
     "data": {
      "image/png": "[encoded data removed]",
      "text/plain": [
       "<matplotlib.figure.Figure at 0x137cd45f8>"
      ]
     },
     "metadata": {},
     "output_type": "display_data"
    }
   ],
   "source": [
    "mergedtable = pd.merge(trainsumbystore, store, on='Store')\n",
    "mergedtable\n",
    "#sns.lmplot(x= 'CompetitionDistance', y='Sales', data = mergedtable, hue = 'StoreType', col = 'Promo2')\n",
    "\n",
    "sns.pairplot(mergedtable[['Sales','Customers','StoreType','Assortment','CompetitionDistance', 'Promo2']])"
   ]
  },
  {
   "cell_type": "code",
   "execution_count": 110,
   "metadata": {},
   "outputs": [
    {
     "data": {
      "text/plain": [
       "<matplotlib.axes._subplots.AxesSubplot at 0x13c1a7f98>"
      ]
     },
     "execution_count": 110,
     "metadata": {},
     "output_type": "execute_result"
    },
    {
     "data": {
      "image/png": "[encoded data removed]",
      "text/plain": [
       "<matplotlib.figure.Figure at 0x13c6446a0>"
      ]
     },
     "metadata": {},
     "output_type": "display_data"
    }
   ],
   "source": [
    "m = mergedtable.rank()\n",
    "m = m.corr()\n",
    "plt.figure(figsize = (12,6))\n",
    "sns.heatmap(m)"
   ]
  },
  {
   "cell_type": "code",
   "execution_count": 70,
   "metadata": {},
   "outputs": [
    {
     "data": {
      "text/html": [
       "<div>\n",
       "<style>\n",
       "    .dataframe thead tr:only-child th {\n",
       "        text-align: right;\n",
       "    }\n",
       "\n",
       "    .dataframe thead th {\n",
       "        text-align: left;\n",
       "    }\n",
       "\n",
       "    .dataframe tbody tr th {\n",
       "        vertical-align: top;\n",
       "    }\n",
       "</style>\n",
       "<table border=\"1\" class=\"dataframe\">\n",
       "  <thead>\n",
       "    <tr style=\"text-align: right;\">\n",
       "      <th></th>\n",
       "      <th>Store</th>\n",
       "      <th>DayOfWeek</th>\n",
       "      <th>Sales</th>\n",
       "      <th>Customers</th>\n",
       "      <th>Open</th>\n",
       "      <th>Promo</th>\n",
       "      <th>StateHoliday</th>\n",
       "      <th>SchoolHoliday</th>\n",
       "      <th>Month</th>\n",
       "      <th>Year</th>\n",
       "      <th>Day</th>\n",
       "      <th>StoreType</th>\n",
       "      <th>Assortment</th>\n",
       "      <th>CompetitionDistance</th>\n",
       "      <th>CompetitionOpenSinceMonth</th>\n",
       "      <th>CompetitionOpenSinceYear</th>\n",
       "      <th>Promo2</th>\n",
       "      <th>Promo2SinceWeek</th>\n",
       "      <th>Promo2SinceYear</th>\n",
       "      <th>PromoInterval</th>\n",
       "    </tr>\n",
       "  </thead>\n",
       "  <tbody>\n",
       "    <tr>\n",
       "      <th>0</th>\n",
       "      <td>1</td>\n",
       "      <td>3766</td>\n",
       "      <td>3716854</td>\n",
       "      <td>440523</td>\n",
       "      <td>781.0</td>\n",
       "      <td>360.0</td>\n",
       "      <td>813.0</td>\n",
       "      <td>193.0</td>\n",
       "      <td>5616</td>\n",
       "      <td>1897035</td>\n",
       "      <td>14796</td>\n",
       "      <td>c</td>\n",
       "      <td>a</td>\n",
       "      <td>1270.0</td>\n",
       "      <td>9.0</td>\n",
       "      <td>2008.0</td>\n",
       "      <td>0</td>\n",
       "      <td>NaN</td>\n",
       "      <td>NaN</td>\n",
       "      <td>NaN</td>\n",
       "    </tr>\n",
       "    <tr>\n",
       "      <th>1</th>\n",
       "      <td>2</td>\n",
       "      <td>3766</td>\n",
       "      <td>3883858</td>\n",
       "      <td>457855</td>\n",
       "      <td>784.0</td>\n",
       "      <td>360.0</td>\n",
       "      <td>813.0</td>\n",
       "      <td>167.0</td>\n",
       "      <td>5616</td>\n",
       "      <td>1897035</td>\n",
       "      <td>14796</td>\n",
       "      <td>a</td>\n",
       "      <td>a</td>\n",
       "      <td>570.0</td>\n",
       "      <td>11.0</td>\n",
       "      <td>2007.0</td>\n",
       "      <td>1</td>\n",
       "      <td>13.0</td>\n",
       "      <td>2010.0</td>\n",
       "      <td>Jan,Apr,Jul,Oct</td>\n",
       "    </tr>\n",
       "    <tr>\n",
       "      <th>2</th>\n",
       "      <td>3</td>\n",
       "      <td>3766</td>\n",
       "      <td>5408261</td>\n",
       "      <td>584310</td>\n",
       "      <td>779.0</td>\n",
       "      <td>360.0</td>\n",
       "      <td>813.0</td>\n",
       "      <td>170.0</td>\n",
       "      <td>5616</td>\n",
       "      <td>1897035</td>\n",
       "      <td>14796</td>\n",
       "      <td>a</td>\n",
       "      <td>a</td>\n",
       "      <td>14130.0</td>\n",
       "      <td>12.0</td>\n",
       "      <td>2006.0</td>\n",
       "      <td>1</td>\n",
       "      <td>14.0</td>\n",
       "      <td>2011.0</td>\n",
       "      <td>Jan,Apr,Jul,Oct</td>\n",
       "    </tr>\n",
       "    <tr>\n",
       "      <th>3</th>\n",
       "      <td>4</td>\n",
       "      <td>3766</td>\n",
       "      <td>7556507</td>\n",
       "      <td>1036254</td>\n",
       "      <td>784.0</td>\n",
       "      <td>360.0</td>\n",
       "      <td>813.0</td>\n",
       "      <td>173.0</td>\n",
       "      <td>5616</td>\n",
       "      <td>1897035</td>\n",
       "      <td>14796</td>\n",
       "      <td>c</td>\n",
       "      <td>c</td>\n",
       "      <td>620.0</td>\n",
       "      <td>9.0</td>\n",
       "      <td>2009.0</td>\n",
       "      <td>0</td>\n",
       "      <td>NaN</td>\n",
       "      <td>NaN</td>\n",
       "      <td>NaN</td>\n",
       "    </tr>\n",
       "    <tr>\n",
       "      <th>4</th>\n",
       "      <td>5</td>\n",
       "      <td>3766</td>\n",
       "      <td>3642818</td>\n",
       "      <td>418588</td>\n",
       "      <td>779.0</td>\n",
       "      <td>360.0</td>\n",
       "      <td>813.0</td>\n",
       "      <td>172.0</td>\n",
       "      <td>5616</td>\n",
       "      <td>1897035</td>\n",
       "      <td>14796</td>\n",
       "      <td>a</td>\n",
       "      <td>a</td>\n",
       "      <td>29910.0</td>\n",
       "      <td>4.0</td>\n",
       "      <td>2015.0</td>\n",
       "      <td>0</td>\n",
       "      <td>NaN</td>\n",
       "      <td>NaN</td>\n",
       "      <td>NaN</td>\n",
       "    </tr>\n",
       "  </tbody>\n",
       "</table>\n",
       "</div>"
      ],
      "text/plain": [
       "   Store  DayOfWeek    Sales  Customers   Open  Promo  StateHoliday  \\\n",
       "0      1       3766  3716854     440523  781.0  360.0         813.0   \n",
       "1      2       3766  3883858     457855  784.0  360.0         813.0   \n",
       "2      3       3766  5408261     584310  779.0  360.0         813.0   \n",
       "3      4       3766  7556507    1036254  784.0  360.0         813.0   \n",
       "4      5       3766  3642818     418588  779.0  360.0         813.0   \n",
       "\n",
       "   SchoolHoliday  Month     Year    Day StoreType Assortment  \\\n",
       "0          193.0   5616  1897035  14796         c          a   \n",
       "1          167.0   5616  1897035  14796         a          a   \n",
       "2          170.0   5616  1897035  14796         a          a   \n",
       "3          173.0   5616  1897035  14796         c          c   \n",
       "4          172.0   5616  1897035  14796         a          a   \n",
       "\n",
       "   CompetitionDistance  CompetitionOpenSinceMonth  CompetitionOpenSinceYear  \\\n",
       "0               1270.0                        9.0                    2008.0   \n",
       "1                570.0                       11.0                    2007.0   \n",
       "2              14130.0                       12.0                    2006.0   \n",
       "3                620.0                        9.0                    2009.0   \n",
       "4              29910.0                        4.0                    2015.0   \n",
       "\n",
       "   Promo2  Promo2SinceWeek  Promo2SinceYear    PromoInterval  \n",
       "0       0              NaN              NaN              NaN  \n",
       "1       1             13.0           2010.0  Jan,Apr,Jul,Oct  \n",
       "2       1             14.0           2011.0  Jan,Apr,Jul,Oct  \n",
       "3       0              NaN              NaN              NaN  \n",
       "4       0              NaN              NaN              NaN  "
      ]
     },
     "execution_count": 70,
     "metadata": {},
     "output_type": "execute_result"
    }
   ],
   "source": [
    "mergedtable = pd.merge(trainsumbystore, store, on='Store')\n",
    "mergedtable.head()\n"
   ]
  },
  {
   "cell_type": "code",
   "execution_count": 24,
   "metadata": {},
   "outputs": [
    {
     "data": {
      "text/plain": [
       "CompetitionDistance    20.0\n",
       "dtype: float64"
      ]
     },
     "execution_count": 24,
     "metadata": {},
     "output_type": "execute_result"
    }
   ],
   "source": [
    "mergedtable[['CompetitionDistance']].min()"
   ]
  },
  {
   "cell_type": "code",
   "execution_count": 69,
   "metadata": {},
   "outputs": [
    {
     "data": {
      "text/plain": [
       "<matplotlib.axes._subplots.AxesSubplot at 0x1133008d0>"
      ]
     },
     "execution_count": 69,
     "metadata": {},
     "output_type": "execute_result"
    },
    {
     "data": {
      "image/png": "[encoded data removed]",
      "text/plain": [
       "<matplotlib.figure.Figure at 0x111fbb828>"
      ]
     },
     "metadata": {},
     "output_type": "display_data"
    }
   ],
   "source": [
    "mm = pd.merge(trainsumbystore, store, on='Store')\n",
    "mm =mm[['CompetitionDistance','Sales']]\n",
    "\n",
    "bins = [0,250,500, 5000, 7500,10000, 17500, 30000,37500, 45000,60000,75000, 80000]\n",
    "\n",
    "mm['distanceBinned'] = pd.cut(mm['CompetitionDistance'], bins)\n",
    "\n",
    "mmbinned = mm[['distanceBinned','Sales']]\n",
    "\n",
    "mmbinned = mmbinned.groupby('distanceBinned').mean().reset_index()\n",
    "mmbinned\n",
    "\n",
    "plt.figure(figsize = (12,6))\n",
    "plt.xticks(rotation=45)\n",
    "sns.barplot(x='distanceBinned', y='Sales', data = mmbinned)"
   ]
  },
  {
   "cell_type": "code",
   "execution_count": 85,
   "metadata": {},
   "outputs": [
    {
     "data": {
      "text/html": [
       "<div>\n",
       "<style>\n",
       "    .dataframe thead tr:only-child th {\n",
       "        text-align: right;\n",
       "    }\n",
       "\n",
       "    .dataframe thead th {\n",
       "        text-align: left;\n",
       "    }\n",
       "\n",
       "    .dataframe tbody tr th {\n",
       "        vertical-align: top;\n",
       "    }\n",
       "</style>\n",
       "<table border=\"1\" class=\"dataframe\">\n",
       "  <thead>\n",
       "    <tr style=\"text-align: right;\">\n",
       "      <th></th>\n",
       "      <th>PromoInterval</th>\n",
       "      <th>StoreType</th>\n",
       "      <th>Sales</th>\n",
       "    </tr>\n",
       "  </thead>\n",
       "  <tbody>\n",
       "    <tr>\n",
       "      <th>0</th>\n",
       "      <td>Feb,May,Aug,Nov</td>\n",
       "      <td>a</td>\n",
       "      <td>4.836332e+06</td>\n",
       "    </tr>\n",
       "    <tr>\n",
       "      <th>1</th>\n",
       "      <td>Feb,May,Aug,Nov</td>\n",
       "      <td>b</td>\n",
       "      <td>5.255773e+06</td>\n",
       "    </tr>\n",
       "    <tr>\n",
       "      <th>2</th>\n",
       "      <td>Feb,May,Aug,Nov</td>\n",
       "      <td>c</td>\n",
       "      <td>4.261732e+06</td>\n",
       "    </tr>\n",
       "    <tr>\n",
       "      <th>3</th>\n",
       "      <td>Feb,May,Aug,Nov</td>\n",
       "      <td>d</td>\n",
       "      <td>5.047399e+06</td>\n",
       "    </tr>\n",
       "    <tr>\n",
       "      <th>4</th>\n",
       "      <td>Jan,Apr,Jul,Oct</td>\n",
       "      <td>a</td>\n",
       "      <td>4.899869e+06</td>\n",
       "    </tr>\n",
       "    <tr>\n",
       "      <th>5</th>\n",
       "      <td>Jan,Apr,Jul,Oct</td>\n",
       "      <td>b</td>\n",
       "      <td>8.844581e+06</td>\n",
       "    </tr>\n",
       "    <tr>\n",
       "      <th>6</th>\n",
       "      <td>Jan,Apr,Jul,Oct</td>\n",
       "      <td>c</td>\n",
       "      <td>4.521804e+06</td>\n",
       "    </tr>\n",
       "    <tr>\n",
       "      <th>7</th>\n",
       "      <td>Jan,Apr,Jul,Oct</td>\n",
       "      <td>d</td>\n",
       "      <td>4.827454e+06</td>\n",
       "    </tr>\n",
       "    <tr>\n",
       "      <th>8</th>\n",
       "      <td>Mar,Jun,Sept,Dec</td>\n",
       "      <td>a</td>\n",
       "      <td>4.850434e+06</td>\n",
       "    </tr>\n",
       "    <tr>\n",
       "      <th>9</th>\n",
       "      <td>Mar,Jun,Sept,Dec</td>\n",
       "      <td>b</td>\n",
       "      <td>4.105679e+06</td>\n",
       "    </tr>\n",
       "    <tr>\n",
       "      <th>10</th>\n",
       "      <td>Mar,Jun,Sept,Dec</td>\n",
       "      <td>c</td>\n",
       "      <td>5.150914e+06</td>\n",
       "    </tr>\n",
       "    <tr>\n",
       "      <th>11</th>\n",
       "      <td>Mar,Jun,Sept,Dec</td>\n",
       "      <td>d</td>\n",
       "      <td>4.366388e+06</td>\n",
       "    </tr>\n",
       "  </tbody>\n",
       "</table>\n",
       "</div>"
      ],
      "text/plain": [
       "       PromoInterval StoreType         Sales\n",
       "0    Feb,May,Aug,Nov         a  4.836332e+06\n",
       "1    Feb,May,Aug,Nov         b  5.255773e+06\n",
       "2    Feb,May,Aug,Nov         c  4.261732e+06\n",
       "3    Feb,May,Aug,Nov         d  5.047399e+06\n",
       "4    Jan,Apr,Jul,Oct         a  4.899869e+06\n",
       "5    Jan,Apr,Jul,Oct         b  8.844581e+06\n",
       "6    Jan,Apr,Jul,Oct         c  4.521804e+06\n",
       "7    Jan,Apr,Jul,Oct         d  4.827454e+06\n",
       "8   Mar,Jun,Sept,Dec         a  4.850434e+06\n",
       "9   Mar,Jun,Sept,Dec         b  4.105679e+06\n",
       "10  Mar,Jun,Sept,Dec         c  5.150914e+06\n",
       "11  Mar,Jun,Sept,Dec         d  4.366388e+06"
      ]
     },
     "execution_count": 85,
     "metadata": {},
     "output_type": "execute_result"
    }
   ],
   "source": [
    "dd = pd.merge(trainsumbystore, store, on='Store')\n",
    "dd =dd[['PromoInterval','Sales','StoreType']].dropna()\n",
    "dd.groupby(['PromoInterval','StoreType']).mean().reset_index()"
   ]
  },
  {
   "cell_type": "code",
   "execution_count": 88,
   "metadata": {},
   "outputs": [
    {
     "data": {
      "text/plain": [
       "<matplotlib.axes._subplots.AxesSubplot at 0x116ea54e0>"
      ]
     },
     "execution_count": 88,
     "metadata": {},
     "output_type": "execute_result"
    },
    {
     "data": {
      "image/png": "[encoded data removed]",
      "text/plain": [
       "<matplotlib.figure.Figure at 0x116ea5c88>"
      ]
     },
     "metadata": {},
     "output_type": "display_data"
    }
   ],
   "source": [
    "plt.figure(figsize = (12,6))\n",
    "plt.xticks(rotation=45)\n",
    "sns.boxplot(x='PromoInterval', y='Sales', data = dd, hue= 'StoreType')"
   ]
  },
  {
   "cell_type": "code",
   "execution_count": null,
   "metadata": {
    "collapsed": true
   },
   "outputs": [],
   "source": []
  }
 ],
 "metadata": {
  "kernelspec": {
   "display_name": "Python 3",
   "language": "python",
   "name": "python3"
  },
  "language_info": {
   "codemirror_mode": {
    "name": "ipython",
    "version": 3
   },
   "file_extension": ".py",
   "mimetype": "text/x-python",
   "name": "python",
   "nbconvert_exporter": "python",
   "pygments_lexer": "ipython3",
   "version": "3.6.2"
  }
 },
 "nbformat": 4,
 "nbformat_minor": 2
}
